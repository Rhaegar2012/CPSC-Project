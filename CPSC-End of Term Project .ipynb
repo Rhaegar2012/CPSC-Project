{
 "cells": [
  {
   "cell_type": "markdown",
   "metadata": {},
   "source": [
    "# CSPC 4810-W01 End of Term Project\n",
    "### Jose Fernando Tellez ID- 100363335\n",
    "### Sai Naren Kantipundi ID-100369639\n",
    "### Edward Thjang ID-100369639\n",
    "### Srinivasa Sachin Suresh Kumar  ID- 100369196"
   ]
  },
  {
   "cell_type": "markdown",
   "metadata": {},
   "source": [
    "## Context\n",
    "\n",
    "The Open Access Series of Imaging Studies (OASIS) is a project aimed at making MRI data sets of the brain freely available to the scientific community. The MRI and Alzheimers dataset containes Magnetic Resonance Imaging Comparisons of Demented and Nondemented adults\n",
    "The base data consists in two main datasets: \n",
    "\n",
    "-__oasis_cross-sectional.csv__- Cross sectional collections of 416 subjects aged 18 to 96\n",
    "\n",
    "-__oasis_longitudinal.csv__- Longitudinal collection of 150 subjects aged 60 to 96 \n",
    "\n",
    "\n"
   ]
  },
  {
   "cell_type": "code",
   "execution_count": 4,
   "metadata": {},
   "outputs": [],
   "source": [
    "#Dataset import \n",
    "import pandas as pd\n",
    "import numpy as np \n",
    "import matplotlib.pyplot as plt\n",
    "import seaborn as sns\n",
    "crossSectional_df=pd.read_csv(\"oasis_cross-sectional.csv\")\n",
    "Longitudinal_df=pd.read_csv(\"oasis_longitudinal.csv\")\n"
   ]
  },
  {
   "cell_type": "markdown",
   "metadata": {},
   "source": [
    "### Basic Information on selected datasets"
   ]
  },
  {
   "cell_type": "code",
   "execution_count": 5,
   "metadata": {},
   "outputs": [
    {
     "name": "stdout",
     "output_type": "stream",
     "text": [
      "<class 'pandas.core.frame.DataFrame'>\n",
      "RangeIndex: 436 entries, 0 to 435\n",
      "Data columns (total 12 columns):\n",
      " #   Column  Non-Null Count  Dtype  \n",
      "---  ------  --------------  -----  \n",
      " 0   ID      436 non-null    object \n",
      " 1   M/F     436 non-null    object \n",
      " 2   Hand    436 non-null    object \n",
      " 3   Age     436 non-null    int64  \n",
      " 4   Educ    235 non-null    float64\n",
      " 5   SES     216 non-null    float64\n",
      " 6   MMSE    235 non-null    float64\n",
      " 7   CDR     235 non-null    float64\n",
      " 8   eTIV    436 non-null    int64  \n",
      " 9   nWBV    436 non-null    float64\n",
      " 10  ASF     436 non-null    float64\n",
      " 11  Delay   20 non-null     float64\n",
      "dtypes: float64(7), int64(2), object(3)\n",
      "memory usage: 41.0+ KB\n"
     ]
    }
   ],
   "source": [
    "crossSectional_df.info()"
   ]
  },
  {
   "cell_type": "code",
   "execution_count": 6,
   "metadata": {},
   "outputs": [
    {
     "name": "stdout",
     "output_type": "stream",
     "text": [
      "<class 'pandas.core.frame.DataFrame'>\n",
      "RangeIndex: 373 entries, 0 to 372\n",
      "Data columns (total 15 columns):\n",
      " #   Column      Non-Null Count  Dtype  \n",
      "---  ------      --------------  -----  \n",
      " 0   Subject ID  373 non-null    object \n",
      " 1   MRI ID      373 non-null    object \n",
      " 2   Group       373 non-null    object \n",
      " 3   Visit       373 non-null    int64  \n",
      " 4   MR Delay    373 non-null    int64  \n",
      " 5   M/F         373 non-null    object \n",
      " 6   Hand        373 non-null    object \n",
      " 7   Age         373 non-null    int64  \n",
      " 8   EDUC        373 non-null    int64  \n",
      " 9   SES         354 non-null    float64\n",
      " 10  MMSE        371 non-null    float64\n",
      " 11  CDR         373 non-null    float64\n",
      " 12  eTIV        373 non-null    int64  \n",
      " 13  nWBV        373 non-null    float64\n",
      " 14  ASF         373 non-null    float64\n",
      "dtypes: float64(5), int64(5), object(5)\n",
      "memory usage: 43.8+ KB\n"
     ]
    }
   ],
   "source": [
    "Longitudinal_df.info()"
   ]
  },
  {
   "cell_type": "markdown",
   "metadata": {},
   "source": [
    "Proposed transformations \n",
    "\n",
    "Cleaning NaN values in both datasets\n",
    "\n",
    "Combine the two datasets \n",
    "\n",
    "Perform in depth exploratory analysis \n",
    "\n",
    "Average number of visits for demented Non demented patients\n",
    "\n",
    "Summarize / Use cross validation tables -Binning Age and getting average parameters per group (eTIV, nWBV, ASF)\n",
    "\n",
    "Boolean queries combined with hierarchical index\n",
    "\n",
    "Plot scatter plots /correlations between selected variables \n",
    "\n",
    "\n",
    "\n"
   ]
  },
  {
   "cell_type": "markdown",
   "metadata": {},
   "source": [
    "### Data Imputation /Outlier detecting "
   ]
  },
  {
   "cell_type": "markdown",
   "metadata": {},
   "source": [
    "### Basic Information on selected datasets"
   ]
  },
  {
   "cell_type": "code",
   "execution_count": 2,
   "metadata": {},
   "outputs": [
    {
     "name": "stdout",
     "output_type": "stream",
     "text": [
      "<class 'pandas.core.frame.DataFrame'>\n",
      "RangeIndex: 436 entries, 0 to 435\n",
      "Data columns (total 12 columns):\n",
      " #   Column  Non-Null Count  Dtype  \n",
      "---  ------  --------------  -----  \n",
      " 0   ID      436 non-null    object \n",
      " 1   M/F     436 non-null    object \n",
      " 2   Hand    436 non-null    object \n",
      " 3   Age     436 non-null    int64  \n",
      " 4   Educ    235 non-null    float64\n",
      " 5   SES     216 non-null    float64\n",
      " 6   MMSE    235 non-null    float64\n",
      " 7   CDR     235 non-null    float64\n",
      " 8   eTIV    436 non-null    int64  \n",
      " 9   nWBV    436 non-null    float64\n",
      " 10  ASF     436 non-null    float64\n",
      " 11  Delay   20 non-null     float64\n",
      "dtypes: float64(7), int64(2), object(3)\n",
      "memory usage: 41.0+ KB\n"
     ]
    }
   ],
   "source": [
    "crossSectional_df.info()"
   ]
  },
  {
   "cell_type": "code",
   "execution_count": 7,
   "metadata": {},
   "outputs": [
    {
     "name": "stdout",
     "output_type": "stream",
     "text": [
      "<class 'pandas.core.frame.DataFrame'>\n",
      "RangeIndex: 373 entries, 0 to 372\n",
      "Data columns (total 15 columns):\n",
      " #   Column      Non-Null Count  Dtype  \n",
      "---  ------      --------------  -----  \n",
      " 0   Subject ID  373 non-null    object \n",
      " 1   MRI ID      373 non-null    object \n",
      " 2   Group       373 non-null    object \n",
      " 3   Visit       373 non-null    int64  \n",
      " 4   MR Delay    373 non-null    int64  \n",
      " 5   M/F         373 non-null    object \n",
      " 6   Hand        373 non-null    object \n",
      " 7   Age         373 non-null    int64  \n",
      " 8   EDUC        373 non-null    int64  \n",
      " 9   SES         354 non-null    float64\n",
      " 10  MMSE        371 non-null    float64\n",
      " 11  CDR         373 non-null    float64\n",
      " 12  eTIV        373 non-null    int64  \n",
      " 13  nWBV        373 non-null    float64\n",
      " 14  ASF         373 non-null    float64\n",
      "dtypes: float64(5), int64(5), object(5)\n",
      "memory usage: 43.8+ KB\n"
     ]
    }
   ],
   "source": [
    "Longitudinal_df.info()"
   ]
  },
  {
   "cell_type": "markdown",
   "metadata": {},
   "source": [
    "Proposed transformations \n",
    "\n",
    "Cleaning NaN values in both datasets\n",
    "\n",
    "Combine the two datasets \n",
    "\n",
    "Perform in depth exploratory analysis \n",
    "\n",
    "Average number of visits for demented Non demented patients\n",
    "\n",
    "Summarize / Use cross validation tables -Binning Age and getting average parameters per group (eTIV, nWBV, ASF)\n",
    "\n",
    "Boolean queries combined with hierarchical index\n",
    "\n",
    "Plot scatter plots /correlations between selected variables \n",
    "\n",
    "\n",
    "\n"
   ]
  },
  {
   "cell_type": "markdown",
   "metadata": {},
   "source": [
    "### Data Imputation /Outlier detecting "
   ]
  },
  {
   "cell_type": "code",
   "execution_count": 4,
   "metadata": {},
   "outputs": [
    {
     "data": {
      "text/html": [
       "<div>\n",
       "<style scoped>\n",
       "    .dataframe tbody tr th:only-of-type {\n",
       "        vertical-align: middle;\n",
       "    }\n",
       "\n",
       "    .dataframe tbody tr th {\n",
       "        vertical-align: top;\n",
       "    }\n",
       "\n",
       "    .dataframe thead th {\n",
       "        text-align: right;\n",
       "    }\n",
       "</style>\n",
       "<table border=\"1\" class=\"dataframe\">\n",
       "  <thead>\n",
       "    <tr style=\"text-align: right;\">\n",
       "      <th></th>\n",
       "      <th>ID</th>\n",
       "      <th>M/F</th>\n",
       "      <th>Hand</th>\n",
       "      <th>Age</th>\n",
       "      <th>Educ</th>\n",
       "      <th>SES</th>\n",
       "      <th>MMSE</th>\n",
       "      <th>CDR</th>\n",
       "      <th>eTIV</th>\n",
       "      <th>nWBV</th>\n",
       "      <th>ASF</th>\n",
       "      <th>Delay</th>\n",
       "    </tr>\n",
       "  </thead>\n",
       "  <tbody>\n",
       "    <tr>\n",
       "      <th>0</th>\n",
       "      <td>OAS1_0001_MR1</td>\n",
       "      <td>F</td>\n",
       "      <td>R</td>\n",
       "      <td>74</td>\n",
       "      <td>2.0</td>\n",
       "      <td>3.0</td>\n",
       "      <td>29.0</td>\n",
       "      <td>0.0</td>\n",
       "      <td>1344</td>\n",
       "      <td>0.743</td>\n",
       "      <td>1.306</td>\n",
       "      <td>NaN</td>\n",
       "    </tr>\n",
       "    <tr>\n",
       "      <th>1</th>\n",
       "      <td>OAS1_0002_MR1</td>\n",
       "      <td>F</td>\n",
       "      <td>R</td>\n",
       "      <td>55</td>\n",
       "      <td>4.0</td>\n",
       "      <td>1.0</td>\n",
       "      <td>29.0</td>\n",
       "      <td>0.0</td>\n",
       "      <td>1147</td>\n",
       "      <td>0.810</td>\n",
       "      <td>1.531</td>\n",
       "      <td>NaN</td>\n",
       "    </tr>\n",
       "    <tr>\n",
       "      <th>2</th>\n",
       "      <td>OAS1_0003_MR1</td>\n",
       "      <td>F</td>\n",
       "      <td>R</td>\n",
       "      <td>73</td>\n",
       "      <td>4.0</td>\n",
       "      <td>3.0</td>\n",
       "      <td>27.0</td>\n",
       "      <td>0.5</td>\n",
       "      <td>1454</td>\n",
       "      <td>0.708</td>\n",
       "      <td>1.207</td>\n",
       "      <td>NaN</td>\n",
       "    </tr>\n",
       "    <tr>\n",
       "      <th>3</th>\n",
       "      <td>OAS1_0004_MR1</td>\n",
       "      <td>M</td>\n",
       "      <td>R</td>\n",
       "      <td>28</td>\n",
       "      <td>NaN</td>\n",
       "      <td>NaN</td>\n",
       "      <td>NaN</td>\n",
       "      <td>NaN</td>\n",
       "      <td>1588</td>\n",
       "      <td>0.803</td>\n",
       "      <td>1.105</td>\n",
       "      <td>NaN</td>\n",
       "    </tr>\n",
       "    <tr>\n",
       "      <th>4</th>\n",
       "      <td>OAS1_0005_MR1</td>\n",
       "      <td>M</td>\n",
       "      <td>R</td>\n",
       "      <td>18</td>\n",
       "      <td>NaN</td>\n",
       "      <td>NaN</td>\n",
       "      <td>NaN</td>\n",
       "      <td>NaN</td>\n",
       "      <td>1737</td>\n",
       "      <td>0.848</td>\n",
       "      <td>1.010</td>\n",
       "      <td>NaN</td>\n",
       "    </tr>\n",
       "    <tr>\n",
       "      <th>5</th>\n",
       "      <td>OAS1_0006_MR1</td>\n",
       "      <td>F</td>\n",
       "      <td>R</td>\n",
       "      <td>24</td>\n",
       "      <td>NaN</td>\n",
       "      <td>NaN</td>\n",
       "      <td>NaN</td>\n",
       "      <td>NaN</td>\n",
       "      <td>1131</td>\n",
       "      <td>0.862</td>\n",
       "      <td>1.551</td>\n",
       "      <td>NaN</td>\n",
       "    </tr>\n",
       "    <tr>\n",
       "      <th>6</th>\n",
       "      <td>OAS1_0007_MR1</td>\n",
       "      <td>M</td>\n",
       "      <td>R</td>\n",
       "      <td>21</td>\n",
       "      <td>NaN</td>\n",
       "      <td>NaN</td>\n",
       "      <td>NaN</td>\n",
       "      <td>NaN</td>\n",
       "      <td>1516</td>\n",
       "      <td>0.830</td>\n",
       "      <td>1.157</td>\n",
       "      <td>NaN</td>\n",
       "    </tr>\n",
       "    <tr>\n",
       "      <th>7</th>\n",
       "      <td>OAS1_0009_MR1</td>\n",
       "      <td>F</td>\n",
       "      <td>R</td>\n",
       "      <td>20</td>\n",
       "      <td>NaN</td>\n",
       "      <td>NaN</td>\n",
       "      <td>NaN</td>\n",
       "      <td>NaN</td>\n",
       "      <td>1505</td>\n",
       "      <td>0.843</td>\n",
       "      <td>1.166</td>\n",
       "      <td>NaN</td>\n",
       "    </tr>\n",
       "    <tr>\n",
       "      <th>8</th>\n",
       "      <td>OAS1_0010_MR1</td>\n",
       "      <td>M</td>\n",
       "      <td>R</td>\n",
       "      <td>74</td>\n",
       "      <td>5.0</td>\n",
       "      <td>2.0</td>\n",
       "      <td>30.0</td>\n",
       "      <td>0.0</td>\n",
       "      <td>1636</td>\n",
       "      <td>0.689</td>\n",
       "      <td>1.073</td>\n",
       "      <td>NaN</td>\n",
       "    </tr>\n",
       "    <tr>\n",
       "      <th>9</th>\n",
       "      <td>OAS1_0011_MR1</td>\n",
       "      <td>F</td>\n",
       "      <td>R</td>\n",
       "      <td>52</td>\n",
       "      <td>3.0</td>\n",
       "      <td>2.0</td>\n",
       "      <td>30.0</td>\n",
       "      <td>0.0</td>\n",
       "      <td>1321</td>\n",
       "      <td>0.827</td>\n",
       "      <td>1.329</td>\n",
       "      <td>NaN</td>\n",
       "    </tr>\n",
       "  </tbody>\n",
       "</table>\n",
       "</div>"
      ],
      "text/plain": [
       "              ID M/F Hand  Age  Educ  SES  MMSE  CDR  eTIV   nWBV    ASF  \\\n",
       "0  OAS1_0001_MR1   F    R   74   2.0  3.0  29.0  0.0  1344  0.743  1.306   \n",
       "1  OAS1_0002_MR1   F    R   55   4.0  1.0  29.0  0.0  1147  0.810  1.531   \n",
       "2  OAS1_0003_MR1   F    R   73   4.0  3.0  27.0  0.5  1454  0.708  1.207   \n",
       "3  OAS1_0004_MR1   M    R   28   NaN  NaN   NaN  NaN  1588  0.803  1.105   \n",
       "4  OAS1_0005_MR1   M    R   18   NaN  NaN   NaN  NaN  1737  0.848  1.010   \n",
       "5  OAS1_0006_MR1   F    R   24   NaN  NaN   NaN  NaN  1131  0.862  1.551   \n",
       "6  OAS1_0007_MR1   M    R   21   NaN  NaN   NaN  NaN  1516  0.830  1.157   \n",
       "7  OAS1_0009_MR1   F    R   20   NaN  NaN   NaN  NaN  1505  0.843  1.166   \n",
       "8  OAS1_0010_MR1   M    R   74   5.0  2.0  30.0  0.0  1636  0.689  1.073   \n",
       "9  OAS1_0011_MR1   F    R   52   3.0  2.0  30.0  0.0  1321  0.827  1.329   \n",
       "\n",
       "   Delay  \n",
       "0    NaN  \n",
       "1    NaN  \n",
       "2    NaN  \n",
       "3    NaN  \n",
       "4    NaN  \n",
       "5    NaN  \n",
       "6    NaN  \n",
       "7    NaN  \n",
       "8    NaN  \n",
       "9    NaN  "
      ]
     },

     "metadata": {},
     "output_type": "execute_result"
    }
   ],
   "source": [
    "crossSectional_df.head(10)"
   ]
  },
  {
   "cell_type": "code",

   "metadata": {},
   "outputs": [
    {
     "data": {
      "text/html": [
       "<div>\n",
       "<style scoped>\n",
       "    .dataframe tbody tr th:only-of-type {\n",
       "        vertical-align: middle;\n",
       "    }\n",
       "\n",
       "    .dataframe tbody tr th {\n",
       "        vertical-align: top;\n",
       "    }\n",
       "\n",
       "    .dataframe thead th {\n",
       "        text-align: right;\n",
       "    }\n",
       "</style>\n",
       "<table border=\"1\" class=\"dataframe\">\n",
       "  <thead>\n",
       "    <tr style=\"text-align: right;\">\n",
       "      <th></th>\n",
       "      <th>Subject ID</th>\n",
       "      <th>MRI ID</th>\n",
       "      <th>Group</th>\n",
       "      <th>Visit</th>\n",
       "      <th>MR Delay</th>\n",
       "      <th>M/F</th>\n",
       "      <th>Hand</th>\n",
       "      <th>Age</th>\n",
       "      <th>EDUC</th>\n",
       "      <th>SES</th>\n",
       "      <th>MMSE</th>\n",
       "      <th>CDR</th>\n",
       "      <th>eTIV</th>\n",
       "      <th>nWBV</th>\n",
       "      <th>ASF</th>\n",
       "    </tr>\n",
       "  </thead>\n",
       "  <tbody>\n",
       "    <tr>\n",
       "      <th>0</th>\n",
       "      <td>OAS2_0001</td>\n",
       "      <td>OAS2_0001_MR1</td>\n",
       "      <td>Nondemented</td>\n",
       "      <td>1</td>\n",
       "      <td>0</td>\n",
       "      <td>M</td>\n",
       "      <td>R</td>\n",
       "      <td>87</td>\n",
       "      <td>14</td>\n",
       "      <td>2.0</td>\n",
       "      <td>27.0</td>\n",
       "      <td>0.0</td>\n",
       "      <td>1987</td>\n",
       "      <td>0.696</td>\n",
       "      <td>0.883</td>\n",
       "    </tr>\n",
       "    <tr>\n",
       "      <th>1</th>\n",
       "      <td>OAS2_0001</td>\n",
       "      <td>OAS2_0001_MR2</td>\n",
       "      <td>Nondemented</td>\n",
       "      <td>2</td>\n",
       "      <td>457</td>\n",
       "      <td>M</td>\n",
       "      <td>R</td>\n",
       "      <td>88</td>\n",
       "      <td>14</td>\n",
       "      <td>2.0</td>\n",
       "      <td>30.0</td>\n",
       "      <td>0.0</td>\n",
       "      <td>2004</td>\n",
       "      <td>0.681</td>\n",
       "      <td>0.876</td>\n",
       "    </tr>\n",
       "    <tr>\n",
       "      <th>2</th>\n",
       "      <td>OAS2_0002</td>\n",
       "      <td>OAS2_0002_MR1</td>\n",
       "      <td>Demented</td>\n",
       "      <td>1</td>\n",
       "      <td>0</td>\n",
       "      <td>M</td>\n",
       "      <td>R</td>\n",
       "      <td>75</td>\n",
       "      <td>12</td>\n",
       "      <td>NaN</td>\n",
       "      <td>23.0</td>\n",
       "      <td>0.5</td>\n",
       "      <td>1678</td>\n",
       "      <td>0.736</td>\n",
       "      <td>1.046</td>\n",
       "    </tr>\n",
       "    <tr>\n",
       "      <th>3</th>\n",
       "      <td>OAS2_0002</td>\n",
       "      <td>OAS2_0002_MR2</td>\n",
       "      <td>Demented</td>\n",
       "      <td>2</td>\n",
       "      <td>560</td>\n",
       "      <td>M</td>\n",
       "      <td>R</td>\n",
       "      <td>76</td>\n",
       "      <td>12</td>\n",
       "      <td>NaN</td>\n",
       "      <td>28.0</td>\n",
       "      <td>0.5</td>\n",
       "      <td>1738</td>\n",
       "      <td>0.713</td>\n",
       "      <td>1.010</td>\n",
       "    </tr>\n",
       "    <tr>\n",
       "      <th>4</th>\n",
       "      <td>OAS2_0002</td>\n",
       "      <td>OAS2_0002_MR3</td>\n",
       "      <td>Demented</td>\n",
       "      <td>3</td>\n",
       "      <td>1895</td>\n",
       "      <td>M</td>\n",
       "      <td>R</td>\n",
       "      <td>80</td>\n",
       "      <td>12</td>\n",
       "      <td>NaN</td>\n",
       "      <td>22.0</td>\n",
       "      <td>0.5</td>\n",
       "      <td>1698</td>\n",
       "      <td>0.701</td>\n",
       "      <td>1.034</td>\n",
       "    </tr>\n",
       "    <tr>\n",
       "      <th>5</th>\n",
       "      <td>OAS2_0004</td>\n",
       "      <td>OAS2_0004_MR1</td>\n",
       "      <td>Nondemented</td>\n",
       "      <td>1</td>\n",
       "      <td>0</td>\n",
       "      <td>F</td>\n",
       "      <td>R</td>\n",
       "      <td>88</td>\n",
       "      <td>18</td>\n",
       "      <td>3.0</td>\n",
       "      <td>28.0</td>\n",
       "      <td>0.0</td>\n",
       "      <td>1215</td>\n",
       "      <td>0.710</td>\n",
       "      <td>1.444</td>\n",
       "    </tr>\n",
       "    <tr>\n",
       "      <th>6</th>\n",
       "      <td>OAS2_0004</td>\n",
       "      <td>OAS2_0004_MR2</td>\n",
       "      <td>Nondemented</td>\n",
       "      <td>2</td>\n",
       "      <td>538</td>\n",
       "      <td>F</td>\n",
       "      <td>R</td>\n",
       "      <td>90</td>\n",
       "      <td>18</td>\n",
       "      <td>3.0</td>\n",
       "      <td>27.0</td>\n",
       "      <td>0.0</td>\n",
       "      <td>1200</td>\n",
       "      <td>0.718</td>\n",
       "      <td>1.462</td>\n",
       "    </tr>\n",
       "    <tr>\n",
       "      <th>7</th>\n",
       "      <td>OAS2_0005</td>\n",
       "      <td>OAS2_0005_MR1</td>\n",
       "      <td>Nondemented</td>\n",
       "      <td>1</td>\n",
       "      <td>0</td>\n",
       "      <td>M</td>\n",
       "      <td>R</td>\n",
       "      <td>80</td>\n",
       "      <td>12</td>\n",
       "      <td>4.0</td>\n",
       "      <td>28.0</td>\n",
       "      <td>0.0</td>\n",
       "      <td>1689</td>\n",
       "      <td>0.712</td>\n",
       "      <td>1.039</td>\n",
       "    </tr>\n",
       "    <tr>\n",
       "      <th>8</th>\n",
       "      <td>OAS2_0005</td>\n",
       "      <td>OAS2_0005_MR2</td>\n",
       "      <td>Nondemented</td>\n",
       "      <td>2</td>\n",
       "      <td>1010</td>\n",
       "      <td>M</td>\n",
       "      <td>R</td>\n",
       "      <td>83</td>\n",
       "      <td>12</td>\n",
       "      <td>4.0</td>\n",
       "      <td>29.0</td>\n",
       "      <td>0.5</td>\n",
       "      <td>1701</td>\n",
       "      <td>0.711</td>\n",
       "      <td>1.032</td>\n",
       "    </tr>\n",
       "    <tr>\n",
       "      <th>9</th>\n",
       "      <td>OAS2_0005</td>\n",
       "      <td>OAS2_0005_MR3</td>\n",
       "      <td>Nondemented</td>\n",
       "      <td>3</td>\n",
       "      <td>1603</td>\n",
       "      <td>M</td>\n",
       "      <td>R</td>\n",
       "      <td>85</td>\n",
       "      <td>12</td>\n",
       "      <td>4.0</td>\n",
       "      <td>30.0</td>\n",
       "      <td>0.0</td>\n",
       "      <td>1699</td>\n",
       "      <td>0.705</td>\n",
       "      <td>1.033</td>\n",
       "    </tr>\n",
       "  </tbody>\n",
       "</table>\n",
       "</div>"
      ],
      "text/plain": [
       "  Subject ID         MRI ID        Group  Visit  MR Delay M/F Hand  Age  EDUC  \\\n",
       "0  OAS2_0001  OAS2_0001_MR1  Nondemented      1         0   M    R   87    14   \n",
       "1  OAS2_0001  OAS2_0001_MR2  Nondemented      2       457   M    R   88    14   \n",
       "2  OAS2_0002  OAS2_0002_MR1     Demented      1         0   M    R   75    12   \n",
       "3  OAS2_0002  OAS2_0002_MR2     Demented      2       560   M    R   76    12   \n",
       "4  OAS2_0002  OAS2_0002_MR3     Demented      3      1895   M    R   80    12   \n",
       "5  OAS2_0004  OAS2_0004_MR1  Nondemented      1         0   F    R   88    18   \n",
       "6  OAS2_0004  OAS2_0004_MR2  Nondemented      2       538   F    R   90    18   \n",
       "7  OAS2_0005  OAS2_0005_MR1  Nondemented      1         0   M    R   80    12   \n",
       "8  OAS2_0005  OAS2_0005_MR2  Nondemented      2      1010   M    R   83    12   \n",
       "9  OAS2_0005  OAS2_0005_MR3  Nondemented      3      1603   M    R   85    12   \n",
       "\n",
       "   SES  MMSE  CDR  eTIV   nWBV    ASF  \n",
       "0  2.0  27.0  0.0  1987  0.696  0.883  \n",
       "1  2.0  30.0  0.0  2004  0.681  0.876  \n",
       "2  NaN  23.0  0.5  1678  0.736  1.046  \n",
       "3  NaN  28.0  0.5  1738  0.713  1.010  \n",
       "4  NaN  22.0  0.5  1698  0.701  1.034  \n",
       "5  3.0  28.0  0.0  1215  0.710  1.444  \n",
       "6  3.0  27.0  0.0  1200  0.718  1.462  \n",
       "7  4.0  28.0  0.0  1689  0.712  1.039  \n",
       "8  4.0  29.0  0.5  1701  0.711  1.032  \n",
       "9  4.0  30.0  0.0  1699  0.705  1.033  "
      ]
     },

     "metadata": {},
     "output_type": "execute_result"
    }
   ],
   "source": [
    "Longitudinal_df.head(10)"
   ]
  },
  {
   "cell_type": "code",

   "metadata": {},
   "outputs": [],
   "source": [
    "Longitudinal_df.fillna(method=\"ffill\",inplace=True)"
   ]
  },
  {
   "cell_type": "code",

   "metadata": {},
   "outputs": [
    {
     "data": {
      "text/plain": [
       "ID       False\n",
       "M/F      False\n",
       "Hand     False\n",
       "Age      False\n",
       "Educ     False\n",
       "SES      False\n",
       "MMSE     False\n",
       "CDR      False\n",
       "eTIV     False\n",
       "nWBV     False\n",
       "ASF      False\n",
       "Delay    False\n",
       "dtype: bool"
      ]
     },

     "metadata": {},
     "output_type": "execute_result"
    }
   ],
   "source": [
    "crossSectional_df.fillna(method=\"ffill\",inplace=True)\n",
    "crossSectional_df.fillna(method=\"bfill\",inplace=True)\n",
    "crossSectional_df.isna().any()"
   ]
  },
  {
   "cell_type": "code",

   "metadata": {},
   "outputs": [
    {
     "data": {
      "text/plain": [
       "Subject ID    False\n",
       "MRI ID        False\n",
       "Group         False\n",
       "Visit         False\n",
       "MR Delay      False\n",
       "M/F           False\n",
       "Hand          False\n",
       "Age           False\n",
       "EDUC          False\n",
       "SES           False\n",
       "MMSE          False\n",
       "CDR           False\n",
       "eTIV          False\n",
       "nWBV          False\n",
       "ASF           False\n",
       "dtype: bool"
      ]
     },

     "metadata": {},
     "output_type": "execute_result"
    }
   ],
   "source": [
    "Longitudinal_df.fillna(method=\"ffill\",inplace=True)\n",
    "Longitudinal_df.isna().any()"
   ]
  },
  {
   "cell_type": "markdown",
   "metadata": {},
   "source": [
    "Check for repeated values in the table keys:\n",
    "\n",
    "crossSectional_df, key =\"ID\" \n",
    "\n",
    "Longitudinal_df, key = \"Subject ID\"\n"
   ]
  },
  {
   "cell_type": "code",

   "metadata": {},
   "outputs": [
    {
     "data": {
      "text/plain": [
       "False"
      ]
     },

     "metadata": {},
     "output_type": "execute_result"
    }
   ],
   "source": [
    "crossSectional_df[\"ID\"].duplicated().any()"
   ]
  },
  {
   "cell_type": "code",

   "metadata": {},
   "outputs": [
    {
     "data": {
      "text/plain": [
       "True"
      ]
     },

     "metadata": {},
     "output_type": "execute_result"
    }
   ],
   "source": [
    "Longitudinal_df[\"Subject ID\"].duplicated().any()"
   ]
  },
  {
   "cell_type": "markdown",
   "metadata": {},
   "source": [
    "Observe structure of duplicated values from Longitudinal_df"
   ]
  },
  {
   "cell_type": "code",


   "metadata": {},
   "outputs": [
    {
     "data": {
      "text/html": [
       "<div>\n",
       "<style scoped>\n",
       "    .dataframe tbody tr th:only-of-type {\n",
       "        vertical-align: middle;\n",
       "    }\n",
       "\n",
       "    .dataframe tbody tr th {\n",
       "        vertical-align: top;\n",
       "    }\n",
       "\n",
       "    .dataframe thead th {\n",
       "        text-align: right;\n",
       "    }\n",
       "</style>\n",
       "<table border=\"1\" class=\"dataframe\">\n",
       "  <thead>\n",
       "    <tr style=\"text-align: right;\">\n",
       "      <th></th>\n",
       "      <th>Subject ID</th>\n",
       "      <th>MRI ID</th>\n",
       "      <th>Group</th>\n",
       "      <th>Visit</th>\n",
       "      <th>MR Delay</th>\n",
       "      <th>M/F</th>\n",
       "      <th>Hand</th>\n",
       "      <th>Age</th>\n",
       "      <th>EDUC</th>\n",
       "      <th>SES</th>\n",
       "      <th>MMSE</th>\n",
       "      <th>CDR</th>\n",
       "      <th>eTIV</th>\n",
       "      <th>nWBV</th>\n",
       "      <th>ASF</th>\n",
       "    </tr>\n",
       "  </thead>\n",
       "  <tbody>\n",
       "    <tr>\n",
       "      <th>1</th>\n",
       "      <td>OAS2_0001</td>\n",
       "      <td>OAS2_0001_MR2</td>\n",
       "      <td>Nondemented</td>\n",
       "      <td>2</td>\n",
       "      <td>457</td>\n",
       "      <td>M</td>\n",
       "      <td>R</td>\n",
       "      <td>88</td>\n",
       "      <td>14</td>\n",
       "      <td>2.0</td>\n",
       "      <td>30.0</td>\n",
       "      <td>0.0</td>\n",
       "      <td>2004</td>\n",
       "      <td>0.681</td>\n",
       "      <td>0.876</td>\n",
       "    </tr>\n",
       "    <tr>\n",
       "      <th>3</th>\n",
       "      <td>OAS2_0002</td>\n",
       "      <td>OAS2_0002_MR2</td>\n",
       "      <td>Demented</td>\n",
       "      <td>2</td>\n",
       "      <td>560</td>\n",
       "      <td>M</td>\n",
       "      <td>R</td>\n",
       "      <td>76</td>\n",
       "      <td>12</td>\n",
       "      <td>2.0</td>\n",
       "      <td>28.0</td>\n",
       "      <td>0.5</td>\n",
       "      <td>1738</td>\n",
       "      <td>0.713</td>\n",
       "      <td>1.010</td>\n",
       "    </tr>\n",
       "    <tr>\n",
       "      <th>4</th>\n",
       "      <td>OAS2_0002</td>\n",
       "      <td>OAS2_0002_MR3</td>\n",
       "      <td>Demented</td>\n",
       "      <td>3</td>\n",
       "      <td>1895</td>\n",
       "      <td>M</td>\n",
       "      <td>R</td>\n",
       "      <td>80</td>\n",
       "      <td>12</td>\n",
       "      <td>2.0</td>\n",
       "      <td>22.0</td>\n",
       "      <td>0.5</td>\n",
       "      <td>1698</td>\n",
       "      <td>0.701</td>\n",
       "      <td>1.034</td>\n",
       "    </tr>\n",
       "    <tr>\n",
       "      <th>6</th>\n",
       "      <td>OAS2_0004</td>\n",
       "      <td>OAS2_0004_MR2</td>\n",
       "      <td>Nondemented</td>\n",
       "      <td>2</td>\n",
       "      <td>538</td>\n",
       "      <td>F</td>\n",
       "      <td>R</td>\n",
       "      <td>90</td>\n",
       "      <td>18</td>\n",
       "      <td>3.0</td>\n",
       "      <td>27.0</td>\n",
       "      <td>0.0</td>\n",
       "      <td>1200</td>\n",
       "      <td>0.718</td>\n",
       "      <td>1.462</td>\n",
       "    </tr>\n",
       "    <tr>\n",
       "      <th>8</th>\n",
       "      <td>OAS2_0005</td>\n",
       "      <td>OAS2_0005_MR2</td>\n",
       "      <td>Nondemented</td>\n",
       "      <td>2</td>\n",
       "      <td>1010</td>\n",
       "      <td>M</td>\n",
       "      <td>R</td>\n",
       "      <td>83</td>\n",
       "      <td>12</td>\n",
       "      <td>4.0</td>\n",
       "      <td>29.0</td>\n",
       "      <td>0.5</td>\n",
       "      <td>1701</td>\n",
       "      <td>0.711</td>\n",
       "      <td>1.032</td>\n",
       "    </tr>\n",
       "    <tr>\n",
       "      <th>...</th>\n",
       "      <td>...</td>\n",
       "      <td>...</td>\n",
       "      <td>...</td>\n",
       "      <td>...</td>\n",
       "      <td>...</td>\n",
       "      <td>...</td>\n",
       "      <td>...</td>\n",
       "      <td>...</td>\n",
       "      <td>...</td>\n",
       "      <td>...</td>\n",
       "      <td>...</td>\n",
       "      <td>...</td>\n",
       "      <td>...</td>\n",
       "      <td>...</td>\n",
       "      <td>...</td>\n",
       "    </tr>\n",
       "    <tr>\n",
       "      <th>366</th>\n",
       "      <td>OAS2_0184</td>\n",
       "      <td>OAS2_0184_MR2</td>\n",
       "      <td>Demented</td>\n",
       "      <td>2</td>\n",
       "      <td>553</td>\n",
       "      <td>F</td>\n",
       "      <td>R</td>\n",
       "      <td>73</td>\n",
       "      <td>16</td>\n",
       "      <td>3.0</td>\n",
       "      <td>21.0</td>\n",
       "      <td>1.0</td>\n",
       "      <td>1351</td>\n",
       "      <td>0.708</td>\n",
       "      <td>1.299</td>\n",
       "    </tr>\n",
       "    <tr>\n",
       "      <th>368</th>\n",
       "      <td>OAS2_0185</td>\n",
       "      <td>OAS2_0185_MR2</td>\n",
       "      <td>Demented</td>\n",
       "      <td>2</td>\n",
       "      <td>842</td>\n",
       "      <td>M</td>\n",
       "      <td>R</td>\n",
       "      <td>82</td>\n",
       "      <td>16</td>\n",
       "      <td>1.0</td>\n",
       "      <td>28.0</td>\n",
       "      <td>0.5</td>\n",
       "      <td>1693</td>\n",
       "      <td>0.694</td>\n",
       "      <td>1.037</td>\n",
       "    </tr>\n",
       "    <tr>\n",
       "      <th>369</th>\n",
       "      <td>OAS2_0185</td>\n",
       "      <td>OAS2_0185_MR3</td>\n",
       "      <td>Demented</td>\n",
       "      <td>3</td>\n",
       "      <td>2297</td>\n",
       "      <td>M</td>\n",
       "      <td>R</td>\n",
       "      <td>86</td>\n",
       "      <td>16</td>\n",
       "      <td>1.0</td>\n",
       "      <td>26.0</td>\n",
       "      <td>0.5</td>\n",
       "      <td>1688</td>\n",
       "      <td>0.675</td>\n",
       "      <td>1.040</td>\n",
       "    </tr>\n",
       "    <tr>\n",
       "      <th>371</th>\n",
       "      <td>OAS2_0186</td>\n",
       "      <td>OAS2_0186_MR2</td>\n",
       "      <td>Nondemented</td>\n",
       "      <td>2</td>\n",
       "      <td>763</td>\n",
       "      <td>F</td>\n",
       "      <td>R</td>\n",
       "      <td>63</td>\n",
       "      <td>13</td>\n",
       "      <td>2.0</td>\n",
       "      <td>30.0</td>\n",
       "      <td>0.0</td>\n",
       "      <td>1327</td>\n",
       "      <td>0.796</td>\n",
       "      <td>1.323</td>\n",
       "    </tr>\n",
       "    <tr>\n",
       "      <th>372</th>\n",
       "      <td>OAS2_0186</td>\n",
       "      <td>OAS2_0186_MR3</td>\n",
       "      <td>Nondemented</td>\n",
       "      <td>3</td>\n",
       "      <td>1608</td>\n",
       "      <td>F</td>\n",
       "      <td>R</td>\n",
       "      <td>65</td>\n",
       "      <td>13</td>\n",
       "      <td>2.0</td>\n",
       "      <td>30.0</td>\n",
       "      <td>0.0</td>\n",
       "      <td>1333</td>\n",
       "      <td>0.801</td>\n",
       "      <td>1.317</td>\n",
       "    </tr>\n",
       "  </tbody>\n",
       "</table>\n",
       "<p>223 rows × 15 columns</p>\n",
       "</div>"
      ],
      "text/plain": [
       "    Subject ID         MRI ID        Group  Visit  MR Delay M/F Hand  Age  \\\n",
       "1    OAS2_0001  OAS2_0001_MR2  Nondemented      2       457   M    R   88   \n",
       "3    OAS2_0002  OAS2_0002_MR2     Demented      2       560   M    R   76   \n",
       "4    OAS2_0002  OAS2_0002_MR3     Demented      3      1895   M    R   80   \n",
       "6    OAS2_0004  OAS2_0004_MR2  Nondemented      2       538   F    R   90   \n",
       "8    OAS2_0005  OAS2_0005_MR2  Nondemented      2      1010   M    R   83   \n",
       "..         ...            ...          ...    ...       ...  ..  ...  ...   \n",
       "366  OAS2_0184  OAS2_0184_MR2     Demented      2       553   F    R   73   \n",
       "368  OAS2_0185  OAS2_0185_MR2     Demented      2       842   M    R   82   \n",
       "369  OAS2_0185  OAS2_0185_MR3     Demented      3      2297   M    R   86   \n",
       "371  OAS2_0186  OAS2_0186_MR2  Nondemented      2       763   F    R   63   \n",
       "372  OAS2_0186  OAS2_0186_MR3  Nondemented      3      1608   F    R   65   \n",
       "\n",
       "     EDUC  SES  MMSE  CDR  eTIV   nWBV    ASF  \n",
       "1      14  2.0  30.0  0.0  2004  0.681  0.876  \n",
       "3      12  2.0  28.0  0.5  1738  0.713  1.010  \n",
       "4      12  2.0  22.0  0.5  1698  0.701  1.034  \n",
       "6      18  3.0  27.0  0.0  1200  0.718  1.462  \n",
       "8      12  4.0  29.0  0.5  1701  0.711  1.032  \n",
       "..    ...  ...   ...  ...   ...    ...    ...  \n",
       "366    16  3.0  21.0  1.0  1351  0.708  1.299  \n",
       "368    16  1.0  28.0  0.5  1693  0.694  1.037  \n",
       "369    16  1.0  26.0  0.5  1688  0.675  1.040  \n",
       "371    13  2.0  30.0  0.0  1327  0.796  1.323  \n",
       "372    13  2.0  30.0  0.0  1333  0.801  1.317  \n",
       "\n",
       "[223 rows x 15 columns]"
      ]
     },

     "metadata": {},
     "output_type": "execute_result"
    }
   ],
   "source": [
    "Longitudinal_df[Longitudinal_df[\"Subject ID\"].duplicated()==True]"
   ]
  },
  {
   "cell_type": "markdown",
   "metadata": {},
   "source": [
    "Removal of duplicated values from the Longitudinal_df\n"
   ]
  },
  {
   "cell_type": "code",

   "metadata": {},
   "outputs": [],
   "source": [
    "Longitudinal_df.drop_duplicates(subset=\"Subject ID\",keep=\"first\",inplace=True)"
   ]
  },
  {
   "cell_type": "code",

   "metadata": {},
   "outputs": [
    {
     "data": {
      "text/plain": [
       "150"
      ]
     },

     "metadata": {},
     "output_type": "execute_result"
    }
   ],
   "source": [
    "len(Longitudinal_df)"
   ]
  },
  {
   "cell_type": "markdown",
   "metadata": {},
   "source": [
    "A total of 223 replicated rows were deleted "
   ]
  },
  {
   "cell_type": "markdown",
   "metadata": {},
   "source": [

    "### Basic descriptive statistics of both datasets"
   ]
  },
  {
   "cell_type": "code",

   "metadata": {},
   "outputs": [
    {
     "data": {
      "text/html": [
       "<div>\n",
       "<style scoped>\n",
       "    .dataframe tbody tr th:only-of-type {\n",
       "        vertical-align: middle;\n",
       "    }\n",
       "\n",
       "    .dataframe tbody tr th {\n",
       "        vertical-align: top;\n",
       "    }\n",
       "\n",
       "    .dataframe thead th {\n",
       "        text-align: right;\n",
       "    }\n",
       "</style>\n",
       "<table border=\"1\" class=\"dataframe\">\n",
       "  <thead>\n",
       "    <tr style=\"text-align: right;\">\n",
       "      <th></th>\n",
       "      <th>Visit</th>\n",
       "      <th>MR Delay</th>\n",
       "      <th>Age</th>\n",
       "      <th>EDUC</th>\n",
       "      <th>SES</th>\n",
       "      <th>MMSE</th>\n",
       "      <th>CDR</th>\n",
       "      <th>eTIV</th>\n",
       "      <th>nWBV</th>\n",
       "      <th>ASF</th>\n",
       "    </tr>\n",
       "  </thead>\n",
       "  <tbody>\n",
       "    <tr>\n",
       "      <th>count</th>\n",
       "      <td>150.0</td>\n",
       "      <td>150.0</td>\n",
       "      <td>150.000000</td>\n",
       "      <td>150.000000</td>\n",
       "      <td>150.000000</td>\n",
       "      <td>150.00000</td>\n",
       "      <td>150.000000</td>\n",
       "      <td>150.000000</td>\n",
       "      <td>150.000000</td>\n",
       "      <td>150.000000</td>\n",
       "    </tr>\n",
       "    <tr>\n",
       "      <th>mean</th>\n",
       "      <td>1.0</td>\n",
       "      <td>0.0</td>\n",
       "      <td>75.446667</td>\n",
       "      <td>14.533333</td>\n",
       "      <td>2.486667</td>\n",
       "      <td>27.56000</td>\n",
       "      <td>0.260000</td>\n",
       "      <td>1474.426667</td>\n",
       "      <td>0.736073</td>\n",
       "      <td>1.206333</td>\n",
       "    </tr>\n",
       "    <tr>\n",
       "      <th>std</th>\n",
       "      <td>0.0</td>\n",
       "      <td>0.0</td>\n",
       "      <td>7.545421</td>\n",
       "      <td>2.874714</td>\n",
       "      <td>1.127667</td>\n",
       "      <td>2.96847</td>\n",
       "      <td>0.326256</td>\n",
       "      <td>174.683889</td>\n",
       "      <td>0.036458</td>\n",
       "      <td>0.137864</td>\n",
       "    </tr>\n",
       "    <tr>\n",
       "      <th>min</th>\n",
       "      <td>1.0</td>\n",
       "      <td>0.0</td>\n",
       "      <td>60.000000</td>\n",
       "      <td>6.000000</td>\n",
       "      <td>1.000000</td>\n",
       "      <td>17.00000</td>\n",
       "      <td>0.000000</td>\n",
       "      <td>1123.000000</td>\n",
       "      <td>0.660000</td>\n",
       "      <td>0.883000</td>\n",
       "    </tr>\n",
       "    <tr>\n",
       "      <th>25%</th>\n",
       "      <td>1.0</td>\n",
       "      <td>0.0</td>\n",
       "      <td>70.000000</td>\n",
       "      <td>12.000000</td>\n",
       "      <td>2.000000</td>\n",
       "      <td>26.00000</td>\n",
       "      <td>0.000000</td>\n",
       "      <td>1347.250000</td>\n",
       "      <td>0.710000</td>\n",
       "      <td>1.121000</td>\n",
       "    </tr>\n",
       "    <tr>\n",
       "      <th>50%</th>\n",
       "      <td>1.0</td>\n",
       "      <td>0.0</td>\n",
       "      <td>75.000000</td>\n",
       "      <td>14.000000</td>\n",
       "      <td>2.000000</td>\n",
       "      <td>29.00000</td>\n",
       "      <td>0.000000</td>\n",
       "      <td>1453.500000</td>\n",
       "      <td>0.735000</td>\n",
       "      <td>1.207500</td>\n",
       "    </tr>\n",
       "    <tr>\n",
       "      <th>75%</th>\n",
       "      <td>1.0</td>\n",
       "      <td>0.0</td>\n",
       "      <td>80.000000</td>\n",
       "      <td>16.000000</td>\n",
       "      <td>3.000000</td>\n",
       "      <td>30.00000</td>\n",
       "      <td>0.500000</td>\n",
       "      <td>1565.250000</td>\n",
       "      <td>0.757750</td>\n",
       "      <td>1.302750</td>\n",
       "    </tr>\n",
       "    <tr>\n",
       "      <th>max</th>\n",
       "      <td>1.0</td>\n",
       "      <td>0.0</td>\n",
       "      <td>96.000000</td>\n",
       "      <td>23.000000</td>\n",
       "      <td>5.000000</td>\n",
       "      <td>30.00000</td>\n",
       "      <td>1.000000</td>\n",
       "      <td>1987.000000</td>\n",
       "      <td>0.837000</td>\n",
       "      <td>1.563000</td>\n",
       "    </tr>\n",
       "  </tbody>\n",
       "</table>\n",
       "</div>"
      ],
      "text/plain": [
       "       Visit  MR Delay         Age        EDUC         SES       MMSE  \\\n",
       "count  150.0     150.0  150.000000  150.000000  150.000000  150.00000   \n",
       "mean     1.0       0.0   75.446667   14.533333    2.486667   27.56000   \n",
       "std      0.0       0.0    7.545421    2.874714    1.127667    2.96847   \n",
       "min      1.0       0.0   60.000000    6.000000    1.000000   17.00000   \n",
       "25%      1.0       0.0   70.000000   12.000000    2.000000   26.00000   \n",
       "50%      1.0       0.0   75.000000   14.000000    2.000000   29.00000   \n",
       "75%      1.0       0.0   80.000000   16.000000    3.000000   30.00000   \n",
       "max      1.0       0.0   96.000000   23.000000    5.000000   30.00000   \n",
       "\n",
       "              CDR         eTIV        nWBV         ASF  \n",
       "count  150.000000   150.000000  150.000000  150.000000  \n",
       "mean     0.260000  1474.426667    0.736073    1.206333  \n",
       "std      0.326256   174.683889    0.036458    0.137864  \n",
       "min      0.000000  1123.000000    0.660000    0.883000  \n",
       "25%      0.000000  1347.250000    0.710000    1.121000  \n",
       "50%      0.000000  1453.500000    0.735000    1.207500  \n",
       "75%      0.500000  1565.250000    0.757750    1.302750  \n",
       "max      1.000000  1987.000000    0.837000    1.563000  "
      ]
     },

     "metadata": {},
     "output_type": "execute_result"
    }
   ],
   "source": [
    "Longitudinal_df.describe()"
   ]
  },
  {
   "cell_type": "code",

   "metadata": {},
   "outputs": [
    {
     "data": {
      "text/html": [
       "<div>\n",
       "<style scoped>\n",
       "    .dataframe tbody tr th:only-of-type {\n",
       "        vertical-align: middle;\n",
       "    }\n",
       "\n",
       "    .dataframe tbody tr th {\n",
       "        vertical-align: top;\n",
       "    }\n",
       "\n",
       "    .dataframe thead th {\n",
       "        text-align: right;\n",
       "    }\n",
       "</style>\n",
       "<table border=\"1\" class=\"dataframe\">\n",
       "  <thead>\n",
       "    <tr style=\"text-align: right;\">\n",
       "      <th></th>\n",
       "      <th>Age</th>\n",
       "      <th>Educ</th>\n",
       "      <th>SES</th>\n",
       "      <th>MMSE</th>\n",
       "      <th>CDR</th>\n",
       "      <th>eTIV</th>\n",
       "      <th>nWBV</th>\n",
       "      <th>ASF</th>\n",
       "      <th>Delay</th>\n",
       "    </tr>\n",
       "  </thead>\n",
       "  <tbody>\n",
       "    <tr>\n",
       "      <th>count</th>\n",
       "      <td>436.000000</td>\n",
       "      <td>436.000000</td>\n",
       "      <td>436.000000</td>\n",
       "      <td>436.000000</td>\n",
       "      <td>436.000000</td>\n",
       "      <td>436.000000</td>\n",
       "      <td>436.000000</td>\n",
       "      <td>436.000000</td>\n",
       "      <td>436.000000</td>\n",
       "    </tr>\n",
       "    <tr>\n",
       "      <th>mean</th>\n",
       "      <td>51.357798</td>\n",
       "      <td>3.240826</td>\n",
       "      <td>2.371560</td>\n",
       "      <td>26.924312</td>\n",
       "      <td>0.275229</td>\n",
       "      <td>1481.919725</td>\n",
       "      <td>0.791670</td>\n",
       "      <td>1.198894</td>\n",
       "      <td>1.896789</td>\n",
       "    </tr>\n",
       "    <tr>\n",
       "      <th>std</th>\n",
       "      <td>25.269862</td>\n",
       "      <td>1.242646</td>\n",
       "      <td>1.067608</td>\n",
       "      <td>3.680487</td>\n",
       "      <td>0.360308</td>\n",
       "      <td>158.740866</td>\n",
       "      <td>0.059937</td>\n",
       "      <td>0.128682</td>\n",
       "      <td>6.452720</td>\n",
       "    </tr>\n",
       "    <tr>\n",
       "      <th>min</th>\n",
       "      <td>18.000000</td>\n",
       "      <td>1.000000</td>\n",
       "      <td>1.000000</td>\n",
       "      <td>14.000000</td>\n",
       "      <td>0.000000</td>\n",
       "      <td>1123.000000</td>\n",
       "      <td>0.644000</td>\n",
       "      <td>0.881000</td>\n",
       "      <td>1.000000</td>\n",
       "    </tr>\n",
       "    <tr>\n",
       "      <th>25%</th>\n",
       "      <td>23.000000</td>\n",
       "      <td>2.000000</td>\n",
       "      <td>1.000000</td>\n",
       "      <td>26.000000</td>\n",
       "      <td>0.000000</td>\n",
       "      <td>1367.750000</td>\n",
       "      <td>0.742750</td>\n",
       "      <td>1.111750</td>\n",
       "      <td>1.000000</td>\n",
       "    </tr>\n",
       "    <tr>\n",
       "      <th>50%</th>\n",
       "      <td>54.000000</td>\n",
       "      <td>3.000000</td>\n",
       "      <td>2.000000</td>\n",
       "      <td>28.000000</td>\n",
       "      <td>0.000000</td>\n",
       "      <td>1475.500000</td>\n",
       "      <td>0.809000</td>\n",
       "      <td>1.190000</td>\n",
       "      <td>1.000000</td>\n",
       "    </tr>\n",
       "    <tr>\n",
       "      <th>75%</th>\n",
       "      <td>74.000000</td>\n",
       "      <td>4.000000</td>\n",
       "      <td>3.000000</td>\n",
       "      <td>30.000000</td>\n",
       "      <td>0.500000</td>\n",
       "      <td>1579.250000</td>\n",
       "      <td>0.842000</td>\n",
       "      <td>1.284250</td>\n",
       "      <td>1.000000</td>\n",
       "    </tr>\n",
       "    <tr>\n",
       "      <th>max</th>\n",
       "      <td>96.000000</td>\n",
       "      <td>5.000000</td>\n",
       "      <td>5.000000</td>\n",
       "      <td>30.000000</td>\n",
       "      <td>2.000000</td>\n",
       "      <td>1992.000000</td>\n",
       "      <td>0.893000</td>\n",
       "      <td>1.563000</td>\n",
       "      <td>89.000000</td>\n",
       "    </tr>\n",
       "  </tbody>\n",
       "</table>\n",
       "</div>"
      ],
      "text/plain": [
       "              Age        Educ         SES        MMSE         CDR  \\\n",
       "count  436.000000  436.000000  436.000000  436.000000  436.000000   \n",
       "mean    51.357798    3.240826    2.371560   26.924312    0.275229   \n",
       "std     25.269862    1.242646    1.067608    3.680487    0.360308   \n",
       "min     18.000000    1.000000    1.000000   14.000000    0.000000   \n",
       "25%     23.000000    2.000000    1.000000   26.000000    0.000000   \n",
       "50%     54.000000    3.000000    2.000000   28.000000    0.000000   \n",
       "75%     74.000000    4.000000    3.000000   30.000000    0.500000   \n",
       "max     96.000000    5.000000    5.000000   30.000000    2.000000   \n",
       "\n",
       "              eTIV        nWBV         ASF       Delay  \n",
       "count   436.000000  436.000000  436.000000  436.000000  \n",
       "mean   1481.919725    0.791670    1.198894    1.896789  \n",
       "std     158.740866    0.059937    0.128682    6.452720  \n",
       "min    1123.000000    0.644000    0.881000    1.000000  \n",
       "25%    1367.750000    0.742750    1.111750    1.000000  \n",
       "50%    1475.500000    0.809000    1.190000    1.000000  \n",
       "75%    1579.250000    0.842000    1.284250    1.000000  \n",
       "max    1992.000000    0.893000    1.563000   89.000000  "
      ]
     },

     "metadata": {},
     "output_type": "execute_result"
    }
   ],
   "source": [
    "crossSectional_df.describe()"
   ]
  },
  {
   "cell_type": "markdown",
   "metadata": {},
   "source": [
    "### Average age  for males and females in Cross Sectional reading\n"
   ]
  },
  {
   "cell_type": "code",

   "metadata": {},
   "outputs": [
    {
     "data": {
      "text/html": [
       "<div>\n",
       "<style scoped>\n",
       "    .dataframe tbody tr th:only-of-type {\n",
       "        vertical-align: middle;\n",
       "    }\n",
       "\n",
       "    .dataframe tbody tr th {\n",
       "        vertical-align: top;\n",
       "    }\n",
       "\n",
       "    .dataframe thead th {\n",
       "        text-align: right;\n",
       "    }\n",
       "</style>\n",
       "<table border=\"1\" class=\"dataframe\">\n",
       "  <thead>\n",
       "    <tr style=\"text-align: right;\">\n",
       "      <th></th>\n",
       "      <th>Age</th>\n",
       "    </tr>\n",
       "    <tr>\n",
       "      <th>M/F</th>\n",
       "      <th></th>\n",
       "    </tr>\n",
       "  </thead>\n",
       "  <tbody>\n",
       "    <tr>\n",
       "      <th>F</th>\n",
       "      <td>53.369403</td>\n",
       "    </tr>\n",
       "    <tr>\n",
       "      <th>M</th>\n",
       "      <td>48.148810</td>\n",
       "    </tr>\n",
       "  </tbody>\n",
       "</table>\n",
       "</div>"
      ],
      "text/plain": [
       "           Age\n",
       "M/F           \n",
       "F    53.369403\n",
       "M    48.148810"
      ]
     },

     "metadata": {},
     "output_type": "execute_result"
    }
   ],
   "source": [
    "crossSectional_df.loc[:,[\"M/F\",\"Age\"]].groupby([\"M/F\"]).mean()"
   ]
  },
  {
   "cell_type": "markdown",
   "metadata": {},
   "source": [
    "### Average age for males and feamles in Longitudinal reading "
   ]
  },
  {
   "cell_type": "code",

   "metadata": {},
   "outputs": [
    {
     "data": {
      "text/html": [
       "<div>\n",
       "<style scoped>\n",
       "    .dataframe tbody tr th:only-of-type {\n",
       "        vertical-align: middle;\n",
       "    }\n",
       "\n",
       "    .dataframe tbody tr th {\n",
       "        vertical-align: top;\n",
       "    }\n",
       "\n",
       "    .dataframe thead th {\n",
       "        text-align: right;\n",
       "    }\n",
       "</style>\n",
       "<table border=\"1\" class=\"dataframe\">\n",
       "  <thead>\n",
       "    <tr style=\"text-align: right;\">\n",
       "      <th></th>\n",
       "      <th>Age</th>\n",
       "    </tr>\n",
       "    <tr>\n",
       "      <th>M/F</th>\n",
       "      <th></th>\n",
       "    </tr>\n",
       "  </thead>\n",
       "  <tbody>\n",
       "    <tr>\n",
       "      <th>F</th>\n",
       "      <td>75.840909</td>\n",
       "    </tr>\n",
       "    <tr>\n",
       "      <th>M</th>\n",
       "      <td>74.887097</td>\n",
       "    </tr>\n",
       "  </tbody>\n",
       "</table>\n",
       "</div>"
      ],
      "text/plain": [
       "           Age\n",
       "M/F           \n",
       "F    75.840909\n",
       "M    74.887097"
      ]
     },

     "metadata": {},
     "output_type": "execute_result"
    }
   ],
   "source": [
    "Longitudinal_df.loc[:,[\"M/F\",\"Age\"]].groupby([\"M/F\"]).mean()"
   ]
  },
  {
   "cell_type": "markdown",
   "metadata": {},
   "source": [
    "### Average parameter values and number of visits for Demented/NonDemented patients"
   ]
  },
  {
   "cell_type": "code",

   "metadata": {},
   "outputs": [
    {
     "data": {
      "text/html": [
       "<div>\n",
       "<style scoped>\n",
       "    .dataframe tbody tr th:only-of-type {\n",
       "        vertical-align: middle;\n",
       "    }\n",
       "\n",
       "    .dataframe tbody tr th {\n",
       "        vertical-align: top;\n",
       "    }\n",
       "\n",
       "    .dataframe thead th {\n",
       "        text-align: right;\n",
       "    }\n",
       "</style>\n",
       "<table border=\"1\" class=\"dataframe\">\n",
       "  <thead>\n",
       "    <tr style=\"text-align: right;\">\n",
       "      <th></th>\n",
       "      <th>ASF</th>\n",
       "      <th>Age</th>\n",
       "      <th>CDR</th>\n",
       "      <th>EDUC</th>\n",
       "      <th>MMSE</th>\n",
       "      <th>MR Delay</th>\n",
       "      <th>SES</th>\n",
       "      <th>Visit</th>\n",
       "      <th>eTIV</th>\n",
       "      <th>nWBV</th>\n",
       "    </tr>\n",
       "    <tr>\n",
       "      <th>Group</th>\n",
       "      <th></th>\n",
       "      <th></th>\n",
       "      <th></th>\n",
       "      <th></th>\n",
       "      <th></th>\n",
       "      <th></th>\n",
       "      <th></th>\n",
       "      <th></th>\n",
       "      <th></th>\n",
       "      <th></th>\n",
       "    </tr>\n",
       "  </thead>\n",
       "  <tbody>\n",
       "    <tr>\n",
       "      <th>Converted</th>\n",
       "      <td>1.229429</td>\n",
       "      <td>77.071429</td>\n",
       "      <td>0.035714</td>\n",
       "      <td>15.142857</td>\n",
       "      <td>29.357143</td>\n",
       "      <td>0</td>\n",
       "      <td>1.857143</td>\n",
       "      <td>1</td>\n",
       "      <td>1438.285714</td>\n",
       "      <td>0.737786</td>\n",
       "    </tr>\n",
       "    <tr>\n",
       "      <th>Demented</th>\n",
       "      <td>1.204719</td>\n",
       "      <td>75.109375</td>\n",
       "      <td>0.601562</td>\n",
       "      <td>13.687500</td>\n",
       "      <td>25.328125</td>\n",
       "      <td>0</td>\n",
       "      <td>2.703125</td>\n",
       "      <td>1</td>\n",
       "      <td>1475.937500</td>\n",
       "      <td>0.724391</td>\n",
       "    </tr>\n",
       "    <tr>\n",
       "      <th>Nondemented</th>\n",
       "      <td>1.203278</td>\n",
       "      <td>75.430556</td>\n",
       "      <td>0.000000</td>\n",
       "      <td>15.166667</td>\n",
       "      <td>29.194444</td>\n",
       "      <td>0</td>\n",
       "      <td>2.416667</td>\n",
       "      <td>1</td>\n",
       "      <td>1480.111111</td>\n",
       "      <td>0.746125</td>\n",
       "    </tr>\n",
       "  </tbody>\n",
       "</table>\n",
       "</div>"
      ],
      "text/plain": [
       "                  ASF        Age       CDR       EDUC       MMSE  MR Delay  \\\n",
       "Group                                                                        \n",
       "Converted    1.229429  77.071429  0.035714  15.142857  29.357143         0   \n",
       "Demented     1.204719  75.109375  0.601562  13.687500  25.328125         0   \n",
       "Nondemented  1.203278  75.430556  0.000000  15.166667  29.194444         0   \n",
       "\n",
       "                  SES  Visit         eTIV      nWBV  \n",
       "Group                                                \n",
       "Converted    1.857143      1  1438.285714  0.737786  \n",
       "Demented     2.703125      1  1475.937500  0.724391  \n",
       "Nondemented  2.416667      1  1480.111111  0.746125  "
      ]
     },

     "metadata": {},
     "output_type": "execute_result"
    }
   ],
   "source": [
    "Longitudinal_df.pivot_table(index=[\"Group\"])"
   ]
  },
  {
   "cell_type": "markdown",
   "metadata": {},
   "source": [
    "### Binning of Age Variable\n",
    "\n",
    "First we analyze the distribution of the variable \"Age\" in order to determine how to appropriately bin it to perform further analysis in cross tabulation\n",
    "\n",
    "\n"
   ]
  },
  {
   "cell_type": "code",

   "metadata": {},
   "outputs": [
    {
     "data": {
      "text/plain": [
       "(array([ 8., 14., 20., 28., 22., 28., 12., 10.,  6.,  2.]),\n",
       " array([60. , 63.6, 67.2, 70.8, 74.4, 78. , 81.6, 85.2, 88.8, 92.4, 96. ]),\n",

     "metadata": {},
     "output_type": "execute_result"
    },
    {
     "data": {

      "text/plain": [
       "<Figure size 432x288 with 1 Axes>"
      ]
     },
     "metadata": {
      "needs_background": "light"
     },
     "output_type": "display_data"
    }
   ],
   "source": [
    "plt.hist(Longitudinal_df[\"Age\"])"
   ]
  },
  {
   "cell_type": "markdown",
   "metadata": {},
   "source": [
    "Categories for binning \n",
    "\n",
    "60<age<70 = Lower bracket \n",
    "\n",
    "70<age<80 = Lower middle bracket \n",
    "\n",
    "80<age<90 = Upper middle bracket\n",
    "\n",
    "90<age = Upper bracket \n"
   ]
  },
  {
   "cell_type": "code",

   "metadata": {},
   "outputs": [],
   "source": [
    "def Bin_Age(dataset,column=\"Age\"):\n",
    "    dataset.loc[(dataset[column]>=60)&(dataset[column]<70),\"Age_Binned\"]=\"Lower Bracket\"\n",
    "    dataset.loc[(dataset[column]>=70)&(dataset[column]<80),\"Age_Binned\"]=\"Lower middle Bracket\"\n",
    "    dataset.loc[(dataset[column]>=80)&(dataset[column]<90),\"Age_Binned\"]=\"Upper middle Bracket\"\n",
    "    dataset.loc[(dataset[column]>=90),\"Age_Binned\"]=\"Upper middle Bracket\"\n",
    "    dataset.loc[(dataset[column]<60),\"Age_Binned\"]=\"Middle Age\""
   ]
  },
  {
   "cell_type": "code",

   "metadata": {},
   "outputs": [
    {
     "data": {
      "text/html": [
       "<div>\n",
       "<style scoped>\n",
       "    .dataframe tbody tr th:only-of-type {\n",
       "        vertical-align: middle;\n",
       "    }\n",
       "\n",
       "    .dataframe tbody tr th {\n",
       "        vertical-align: top;\n",
       "    }\n",
       "\n",
       "    .dataframe thead th {\n",
       "        text-align: right;\n",
       "    }\n",
       "</style>\n",
       "<table border=\"1\" class=\"dataframe\">\n",
       "  <thead>\n",
       "    <tr style=\"text-align: right;\">\n",
       "      <th></th>\n",
       "      <th>Subject ID</th>\n",
       "      <th>MRI ID</th>\n",
       "      <th>Group</th>\n",
       "      <th>Visit</th>\n",
       "      <th>MR Delay</th>\n",
       "      <th>M/F</th>\n",
       "      <th>Hand</th>\n",
       "      <th>Age</th>\n",
       "      <th>EDUC</th>\n",
       "      <th>SES</th>\n",
       "      <th>MMSE</th>\n",
       "      <th>CDR</th>\n",
       "      <th>eTIV</th>\n",
       "      <th>nWBV</th>\n",
       "      <th>ASF</th>\n",
       "      <th>Age_Binned</th>\n",
       "    </tr>\n",
       "  </thead>\n",
       "  <tbody>\n",
       "    <tr>\n",
       "      <th>0</th>\n",
       "      <td>OAS2_0001</td>\n",
       "      <td>OAS2_0001_MR1</td>\n",
       "      <td>Nondemented</td>\n",
       "      <td>1</td>\n",
       "      <td>0</td>\n",
       "      <td>M</td>\n",
       "      <td>R</td>\n",
       "      <td>87</td>\n",
       "      <td>14</td>\n",
       "      <td>2.0</td>\n",
       "      <td>27.0</td>\n",
       "      <td>0.0</td>\n",
       "      <td>1987</td>\n",
       "      <td>0.696</td>\n",
       "      <td>0.883</td>\n",
       "      <td>Upper middle Bracket</td>\n",
       "    </tr>\n",
       "    <tr>\n",
       "      <th>2</th>\n",
       "      <td>OAS2_0002</td>\n",
       "      <td>OAS2_0002_MR1</td>\n",
       "      <td>Demented</td>\n",
       "      <td>1</td>\n",
       "      <td>0</td>\n",
       "      <td>M</td>\n",
       "      <td>R</td>\n",
       "      <td>75</td>\n",
       "      <td>12</td>\n",
       "      <td>2.0</td>\n",
       "      <td>23.0</td>\n",
       "      <td>0.5</td>\n",
       "      <td>1678</td>\n",
       "      <td>0.736</td>\n",
       "      <td>1.046</td>\n",
       "      <td>Lower middle Bracket</td>\n",
       "    </tr>\n",
       "    <tr>\n",
       "      <th>5</th>\n",
       "      <td>OAS2_0004</td>\n",
       "      <td>OAS2_0004_MR1</td>\n",
       "      <td>Nondemented</td>\n",
       "      <td>1</td>\n",
       "      <td>0</td>\n",
       "      <td>F</td>\n",
       "      <td>R</td>\n",
       "      <td>88</td>\n",
       "      <td>18</td>\n",
       "      <td>3.0</td>\n",
       "      <td>28.0</td>\n",
       "      <td>0.0</td>\n",
       "      <td>1215</td>\n",
       "      <td>0.710</td>\n",
       "      <td>1.444</td>\n",
       "      <td>Upper middle Bracket</td>\n",
       "    </tr>\n",
       "    <tr>\n",
       "      <th>7</th>\n",
       "      <td>OAS2_0005</td>\n",
       "      <td>OAS2_0005_MR1</td>\n",
       "      <td>Nondemented</td>\n",
       "      <td>1</td>\n",
       "      <td>0</td>\n",
       "      <td>M</td>\n",
       "      <td>R</td>\n",
       "      <td>80</td>\n",
       "      <td>12</td>\n",
       "      <td>4.0</td>\n",
       "      <td>28.0</td>\n",
       "      <td>0.0</td>\n",
       "      <td>1689</td>\n",
       "      <td>0.712</td>\n",
       "      <td>1.039</td>\n",
       "      <td>Upper middle Bracket</td>\n",
       "    </tr>\n",
       "    <tr>\n",
       "      <th>10</th>\n",
       "      <td>OAS2_0007</td>\n",
       "      <td>OAS2_0007_MR1</td>\n",
       "      <td>Demented</td>\n",
       "      <td>1</td>\n",
       "      <td>0</td>\n",
       "      <td>M</td>\n",
       "      <td>R</td>\n",
       "      <td>71</td>\n",
       "      <td>16</td>\n",
       "      <td>4.0</td>\n",
       "      <td>28.0</td>\n",
       "      <td>0.5</td>\n",
       "      <td>1357</td>\n",
       "      <td>0.748</td>\n",
       "      <td>1.293</td>\n",
       "      <td>Lower middle Bracket</td>\n",
       "    </tr>\n",
       "  </tbody>\n",
       "</table>\n",
       "</div>"
      ],
      "text/plain": [
       "   Subject ID         MRI ID        Group  Visit  MR Delay M/F Hand  Age  \\\n",
       "0   OAS2_0001  OAS2_0001_MR1  Nondemented      1         0   M    R   87   \n",
       "2   OAS2_0002  OAS2_0002_MR1     Demented      1         0   M    R   75   \n",
       "5   OAS2_0004  OAS2_0004_MR1  Nondemented      1         0   F    R   88   \n",
       "7   OAS2_0005  OAS2_0005_MR1  Nondemented      1         0   M    R   80   \n",
       "10  OAS2_0007  OAS2_0007_MR1     Demented      1         0   M    R   71   \n",
       "\n",
       "    EDUC  SES  MMSE  CDR  eTIV   nWBV    ASF            Age_Binned  \n",
       "0     14  2.0  27.0  0.0  1987  0.696  0.883  Upper middle Bracket  \n",
       "2     12  2.0  23.0  0.5  1678  0.736  1.046  Lower middle Bracket  \n",
       "5     18  3.0  28.0  0.0  1215  0.710  1.444  Upper middle Bracket  \n",
       "7     12  4.0  28.0  0.0  1689  0.712  1.039  Upper middle Bracket  \n",
       "10    16  4.0  28.0  0.5  1357  0.748  1.293  Lower middle Bracket  "
      ]
     },

     "metadata": {},
     "output_type": "execute_result"
    }
   ],
   "source": [
    "Bin_Age(Longitudinal_df)\n",
    "Longitudinal_df.head(5)"
   ]
  },
  {
   "cell_type": "markdown",
   "metadata": {},
   "source": [
    "Check if there are missing values in the newly created column"
   ]
  },
  {
   "cell_type": "code",

   "metadata": {},
   "outputs": [
    {
     "data": {
      "text/plain": [
       "False"
      ]
     },

     "metadata": {},
     "output_type": "execute_result"
    }
   ],
   "source": [
    "Longitudinal_df[\"Age_Binned\"].isna().any()"
   ]
  },
  {
   "cell_type": "markdown",
   "metadata": {},
   "source": [
    "Pivot table for the effects of age and group in the MR scan measurements"
   ]
  },
  {
   "cell_type": "code",

   "metadata": {
    "scrolled": false
   },
   "outputs": [
    {
     "data": {
      "text/html": [
       "<div>\n",
       "<style scoped>\n",
       "    .dataframe tbody tr th:only-of-type {\n",
       "        vertical-align: middle;\n",
       "    }\n",
       "\n",
       "    .dataframe tbody tr th {\n",
       "        vertical-align: top;\n",
       "    }\n",
       "\n",
       "    .dataframe thead th {\n",
       "        text-align: right;\n",
       "    }\n",
       "</style>\n",
       "<table border=\"1\" class=\"dataframe\">\n",
       "  <thead>\n",
       "    <tr style=\"text-align: right;\">\n",
       "      <th></th>\n",
       "      <th></th>\n",
       "      <th>ASF</th>\n",
       "      <th>Age</th>\n",
       "      <th>CDR</th>\n",
       "      <th>EDUC</th>\n",
       "      <th>MMSE</th>\n",
       "      <th>MR Delay</th>\n",
       "      <th>SES</th>\n",
       "      <th>Visit</th>\n",
       "      <th>eTIV</th>\n",
       "      <th>nWBV</th>\n",
       "    </tr>\n",
       "    <tr>\n",
       "      <th>Group</th>\n",
       "      <th>Age_Binned</th>\n",
       "      <th></th>\n",
       "      <th></th>\n",
       "      <th></th>\n",
       "      <th></th>\n",
       "      <th></th>\n",
       "      <th></th>\n",
       "      <th></th>\n",
       "      <th></th>\n",
       "      <th></th>\n",
       "      <th></th>\n",
       "    </tr>\n",
       "  </thead>\n",
       "  <tbody>\n",
       "    <tr>\n",
       "      <th rowspan=\"3\" valign=\"top\">Converted</th>\n",
       "      <th>Lower Bracket</th>\n",
       "      <td>1.268750</td>\n",
       "      <td>67.250000</td>\n",
       "      <td>0.125000</td>\n",
       "      <td>14.500000</td>\n",
       "      <td>30.000000</td>\n",
       "      <td>0</td>\n",
       "      <td>2.500000</td>\n",
       "      <td>1</td>\n",
       "      <td>1387.500000</td>\n",
       "      <td>0.774250</td>\n",
       "    </tr>\n",
       "    <tr>\n",
       "      <th>Lower middle Bracket</th>\n",
       "      <td>1.162250</td>\n",
       "      <td>76.250000</td>\n",
       "      <td>0.000000</td>\n",
       "      <td>15.500000</td>\n",
       "      <td>28.750000</td>\n",
       "      <td>0</td>\n",
       "      <td>1.500000</td>\n",
       "      <td>1</td>\n",
       "      <td>1528.000000</td>\n",
       "      <td>0.736750</td>\n",
       "    </tr>\n",
       "    <tr>\n",
       "      <th>Upper middle Bracket</th>\n",
       "      <td>1.248000</td>\n",
       "      <td>84.166667</td>\n",
       "      <td>0.000000</td>\n",
       "      <td>15.333333</td>\n",
       "      <td>29.333333</td>\n",
       "      <td>0</td>\n",
       "      <td>1.666667</td>\n",
       "      <td>1</td>\n",
       "      <td>1412.333333</td>\n",
       "      <td>0.714167</td>\n",
       "    </tr>\n",
       "    <tr>\n",
       "      <th rowspan=\"3\" valign=\"top\">Demented</th>\n",
       "      <th>Lower Bracket</th>\n",
       "      <td>1.166000</td>\n",
       "      <td>65.727273</td>\n",
       "      <td>0.636364</td>\n",
       "      <td>14.272727</td>\n",
       "      <td>24.818182</td>\n",
       "      <td>0</td>\n",
       "      <td>2.545455</td>\n",
       "      <td>1</td>\n",
       "      <td>1521.727273</td>\n",
       "      <td>0.746000</td>\n",
       "    </tr>\n",
       "    <tr>\n",
       "      <th>Lower middle Bracket</th>\n",
       "      <td>1.205139</td>\n",
       "      <td>73.972222</td>\n",
       "      <td>0.597222</td>\n",
       "      <td>13.833333</td>\n",
       "      <td>25.555556</td>\n",
       "      <td>0</td>\n",
       "      <td>2.722222</td>\n",
       "      <td>1</td>\n",
       "      <td>1477.166667</td>\n",
       "      <td>0.726333</td>\n",
       "    </tr>\n",
       "    <tr>\n",
       "      <th>Upper middle Bracket</th>\n",
       "      <td>1.228882</td>\n",
       "      <td>83.588235</td>\n",
       "      <td>0.588235</td>\n",
       "      <td>13.000000</td>\n",
       "      <td>25.176471</td>\n",
       "      <td>0</td>\n",
       "      <td>2.764706</td>\n",
       "      <td>1</td>\n",
       "      <td>1443.705882</td>\n",
       "      <td>0.706294</td>\n",
       "    </tr>\n",
       "    <tr>\n",
       "      <th rowspan=\"3\" valign=\"top\">Nondemented</th>\n",
       "      <th>Lower Bracket</th>\n",
       "      <td>1.233632</td>\n",
       "      <td>65.368421</td>\n",
       "      <td>0.000000</td>\n",
       "      <td>15.105263</td>\n",
       "      <td>29.368421</td>\n",
       "      <td>0</td>\n",
       "      <td>2.473684</td>\n",
       "      <td>1</td>\n",
       "      <td>1435.789474</td>\n",
       "      <td>0.783632</td>\n",
       "    </tr>\n",
       "    <tr>\n",
       "      <th>Lower middle Bracket</th>\n",
       "      <td>1.198226</td>\n",
       "      <td>74.741935</td>\n",
       "      <td>0.000000</td>\n",
       "      <td>15.645161</td>\n",
       "      <td>29.258065</td>\n",
       "      <td>0</td>\n",
       "      <td>2.258065</td>\n",
       "      <td>1</td>\n",
       "      <td>1484.354839</td>\n",
       "      <td>0.740097</td>\n",
       "    </tr>\n",
       "    <tr>\n",
       "      <th>Upper middle Bracket</th>\n",
       "      <td>1.184182</td>\n",
       "      <td>85.090909</td>\n",
       "      <td>0.000000</td>\n",
       "      <td>14.545455</td>\n",
       "      <td>28.954545</td>\n",
       "      <td>0</td>\n",
       "      <td>2.590909</td>\n",
       "      <td>1</td>\n",
       "      <td>1512.409091</td>\n",
       "      <td>0.722227</td>\n",
       "    </tr>\n",
       "  </tbody>\n",
       "</table>\n",
       "</div>"
      ],
      "text/plain": [
       "                                       ASF        Age       CDR       EDUC  \\\n",
       "Group       Age_Binned                                                       \n",
       "Converted   Lower Bracket         1.268750  67.250000  0.125000  14.500000   \n",
       "            Lower middle Bracket  1.162250  76.250000  0.000000  15.500000   \n",
       "            Upper middle Bracket  1.248000  84.166667  0.000000  15.333333   \n",
       "Demented    Lower Bracket         1.166000  65.727273  0.636364  14.272727   \n",
       "            Lower middle Bracket  1.205139  73.972222  0.597222  13.833333   \n",
       "            Upper middle Bracket  1.228882  83.588235  0.588235  13.000000   \n",
       "Nondemented Lower Bracket         1.233632  65.368421  0.000000  15.105263   \n",
       "            Lower middle Bracket  1.198226  74.741935  0.000000  15.645161   \n",
       "            Upper middle Bracket  1.184182  85.090909  0.000000  14.545455   \n",
       "\n",
       "                                       MMSE  MR Delay       SES  Visit  \\\n",
       "Group       Age_Binned                                                   \n",
       "Converted   Lower Bracket         30.000000         0  2.500000      1   \n",
       "            Lower middle Bracket  28.750000         0  1.500000      1   \n",
       "            Upper middle Bracket  29.333333         0  1.666667      1   \n",
       "Demented    Lower Bracket         24.818182         0  2.545455      1   \n",
       "            Lower middle Bracket  25.555556         0  2.722222      1   \n",
       "            Upper middle Bracket  25.176471         0  2.764706      1   \n",
       "Nondemented Lower Bracket         29.368421         0  2.473684      1   \n",
       "            Lower middle Bracket  29.258065         0  2.258065      1   \n",
       "            Upper middle Bracket  28.954545         0  2.590909      1   \n",
       "\n",
       "                                         eTIV      nWBV  \n",
       "Group       Age_Binned                                   \n",
       "Converted   Lower Bracket         1387.500000  0.774250  \n",
       "            Lower middle Bracket  1528.000000  0.736750  \n",
       "            Upper middle Bracket  1412.333333  0.714167  \n",
       "Demented    Lower Bracket         1521.727273  0.746000  \n",
       "            Lower middle Bracket  1477.166667  0.726333  \n",
       "            Upper middle Bracket  1443.705882  0.706294  \n",
       "Nondemented Lower Bracket         1435.789474  0.783632  \n",
       "            Lower middle Bracket  1484.354839  0.740097  \n",
       "            Upper middle Bracket  1512.409091  0.722227  "
      ]
     },

     "metadata": {},
     "output_type": "execute_result"
    }
   ],
   "source": [
    "longitudinal_pivotTable=Longitudinal_df.pivot_table(index=[\"Group\",\"Age_Binned\"])\n",
    "longitudinal_pivotTable"
   ]
  },
  {
   "cell_type": "markdown",
   "metadata": {},
   "source": [
    "We needed a measured variable that showed a clear pattern between the Converted/Demented/NonDemented groups in order to build a function that would allow the prediction of the group in terms of a measured variable. The most clear pattern was detected for the variable CDR as shown in the barplot below."
   ]
  },
  {
   "cell_type": "code",

   "metadata": {},
   "outputs": [],
   "source": [
    "data=longitudinal_pivotTable[\"CDR\"]\n",
    "index=longitudinal_pivotTable[\"ASF\"].index\n",
    "extracted_index=[i[0] for i in index.values]"
   ]
  },
  {
   "cell_type": "code",

   "metadata": {},
   "outputs": [
    {
     "data": {
      "text/plain": [

     "metadata": {},
     "output_type": "execute_result"
    },
    {
     "data": {

      "text/plain": [
       "<Figure size 432x288 with 1 Axes>"
      ]
     },
     "metadata": {
      "needs_background": "light"
     },
     "output_type": "display_data"
    }
   ],
   "source": [
    "data.plot.bar()"
   ]
  },
  {
   "cell_type": "markdown",
   "metadata": {},
   "source": [
    "Based on the observed pattern , the follwing prediction function is proposed:\n",
    "\n",
    "0<CDR<0.1 Group-> NonDemented\n",
    "\n",
    "0.1<CDR<0.3 Group -> Converted \n",
    "\n",
    "CDR>0.3  Group -> Demented "
   ]
  },
  {
   "cell_type": "code",

   "metadata": {},
   "outputs": [],
   "source": [
    "def group_prediction(dataset,column=\"CDR\"):\n",
    "    dataset.loc[(dataset[column]>=0)&(dataset[column]<=0.1),\"Group\"]=\"NonDemented\"\n",
    "    dataset.loc[(dataset[column]>=0.1)&(dataset[column]<=0.3),\"Group\"]=\"Converted\"\n",
    "    dataset.loc[(dataset[column]>=0.3),\"Group\"]=\"Demented\"\n",
    "    \n",
    "    "
   ]
  },
  {
   "cell_type": "markdown",
   "metadata": {},
   "source": [
    "Run Bin_Age, group_prediction on crossSectional_df"
   ]
  },
  {
   "cell_type": "code",

   "metadata": {},
   "outputs": [
    {
     "data": {
      "text/html": [
       "<div>\n",
       "<style scoped>\n",
       "    .dataframe tbody tr th:only-of-type {\n",
       "        vertical-align: middle;\n",
       "    }\n",
       "\n",
       "    .dataframe tbody tr th {\n",
       "        vertical-align: top;\n",
       "    }\n",
       "\n",
       "    .dataframe thead th {\n",
       "        text-align: right;\n",
       "    }\n",
       "</style>\n",
       "<table border=\"1\" class=\"dataframe\">\n",
       "  <thead>\n",
       "    <tr style=\"text-align: right;\">\n",
       "      <th></th>\n",
       "      <th>ID</th>\n",
       "      <th>M/F</th>\n",
       "      <th>Hand</th>\n",
       "      <th>Age</th>\n",
       "      <th>Educ</th>\n",
       "      <th>SES</th>\n",
       "      <th>MMSE</th>\n",
       "      <th>CDR</th>\n",
       "      <th>eTIV</th>\n",
       "      <th>nWBV</th>\n",
       "      <th>ASF</th>\n",
       "      <th>Delay</th>\n",
       "      <th>Age_Binned</th>\n",
       "      <th>Group</th>\n",
       "    </tr>\n",
       "  </thead>\n",
       "  <tbody>\n",
       "    <tr>\n",
       "      <th>0</th>\n",
       "      <td>OAS1_0001_MR1</td>\n",
       "      <td>F</td>\n",
       "      <td>R</td>\n",
       "      <td>74</td>\n",
       "      <td>2.0</td>\n",
       "      <td>3.0</td>\n",
       "      <td>29.0</td>\n",
       "      <td>0.0</td>\n",
       "      <td>1344</td>\n",
       "      <td>0.743</td>\n",
       "      <td>1.306</td>\n",
       "      <td>1.0</td>\n",
       "      <td>Lower middle Bracket</td>\n",
       "      <td>NonDemented</td>\n",
       "    </tr>\n",
       "    <tr>\n",
       "      <th>1</th>\n",
       "      <td>OAS1_0002_MR1</td>\n",
       "      <td>F</td>\n",
       "      <td>R</td>\n",
       "      <td>55</td>\n",
       "      <td>4.0</td>\n",
       "      <td>1.0</td>\n",
       "      <td>29.0</td>\n",
       "      <td>0.0</td>\n",
       "      <td>1147</td>\n",
       "      <td>0.810</td>\n",
       "      <td>1.531</td>\n",
       "      <td>1.0</td>\n",
       "      <td>Middle Age</td>\n",
       "      <td>NonDemented</td>\n",
       "    </tr>\n",
       "    <tr>\n",
       "      <th>2</th>\n",
       "      <td>OAS1_0003_MR1</td>\n",
       "      <td>F</td>\n",
       "      <td>R</td>\n",
       "      <td>73</td>\n",
       "      <td>4.0</td>\n",
       "      <td>3.0</td>\n",
       "      <td>27.0</td>\n",
       "      <td>0.5</td>\n",
       "      <td>1454</td>\n",
       "      <td>0.708</td>\n",
       "      <td>1.207</td>\n",
       "      <td>1.0</td>\n",
       "      <td>Lower middle Bracket</td>\n",
       "      <td>Demented</td>\n",
       "    </tr>\n",
       "    <tr>\n",
       "      <th>3</th>\n",
       "      <td>OAS1_0004_MR1</td>\n",
       "      <td>M</td>\n",
       "      <td>R</td>\n",
       "      <td>28</td>\n",
       "      <td>4.0</td>\n",
       "      <td>3.0</td>\n",
       "      <td>27.0</td>\n",
       "      <td>0.5</td>\n",
       "      <td>1588</td>\n",
       "      <td>0.803</td>\n",
       "      <td>1.105</td>\n",
       "      <td>1.0</td>\n",
       "      <td>Middle Age</td>\n",
       "      <td>Demented</td>\n",
       "    </tr>\n",
       "    <tr>\n",
       "      <th>4</th>\n",
       "      <td>OAS1_0005_MR1</td>\n",
       "      <td>M</td>\n",
       "      <td>R</td>\n",
       "      <td>18</td>\n",
       "      <td>4.0</td>\n",
       "      <td>3.0</td>\n",
       "      <td>27.0</td>\n",
       "      <td>0.5</td>\n",
       "      <td>1737</td>\n",
       "      <td>0.848</td>\n",
       "      <td>1.010</td>\n",
       "      <td>1.0</td>\n",
       "      <td>Middle Age</td>\n",
       "      <td>Demented</td>\n",
       "    </tr>\n",
       "  </tbody>\n",
       "</table>\n",
       "</div>"
      ],
      "text/plain": [
       "              ID M/F Hand  Age  Educ  SES  MMSE  CDR  eTIV   nWBV    ASF  \\\n",
       "0  OAS1_0001_MR1   F    R   74   2.0  3.0  29.0  0.0  1344  0.743  1.306   \n",
       "1  OAS1_0002_MR1   F    R   55   4.0  1.0  29.0  0.0  1147  0.810  1.531   \n",
       "2  OAS1_0003_MR1   F    R   73   4.0  3.0  27.0  0.5  1454  0.708  1.207   \n",
       "3  OAS1_0004_MR1   M    R   28   4.0  3.0  27.0  0.5  1588  0.803  1.105   \n",
       "4  OAS1_0005_MR1   M    R   18   4.0  3.0  27.0  0.5  1737  0.848  1.010   \n",
       "\n",
       "   Delay            Age_Binned        Group  \n",
       "0    1.0  Lower middle Bracket  NonDemented  \n",
       "1    1.0            Middle Age  NonDemented  \n",
       "2    1.0  Lower middle Bracket     Demented  \n",
       "3    1.0            Middle Age     Demented  \n",
       "4    1.0            Middle Age     Demented  "
      ]
     },

     "metadata": {},
     "output_type": "execute_result"
    }
   ],
   "source": [
    "Bin_Age(crossSectional_df)\n",
    "group_prediction(crossSectional_df)\n",
    "\n",
    "crossSectional_df.head(5)"
   ]
  },
  {
   "cell_type": "markdown",
   "metadata": {},
   "source": [
    "Pivot table to obtain the average values per age group bracket "
   ]
  },
  {
   "cell_type": "code",

   "metadata": {},
   "outputs": [
    {
     "data": {
      "text/html": [
       "<div>\n",
       "<style scoped>\n",
       "    .dataframe tbody tr th:only-of-type {\n",
       "        vertical-align: middle;\n",
       "    }\n",
       "\n",
       "    .dataframe tbody tr th {\n",
       "        vertical-align: top;\n",
       "    }\n",
       "\n",
       "    .dataframe thead th {\n",
       "        text-align: right;\n",
       "    }\n",
       "</style>\n",
       "<table border=\"1\" class=\"dataframe\">\n",
       "  <thead>\n",
       "    <tr style=\"text-align: right;\">\n",
       "      <th></th>\n",
       "      <th></th>\n",
       "      <th>ASF</th>\n",
       "      <th>Age</th>\n",
       "      <th>CDR</th>\n",
       "      <th>Delay</th>\n",
       "      <th>Educ</th>\n",
       "      <th>MMSE</th>\n",
       "      <th>SES</th>\n",
       "      <th>eTIV</th>\n",
       "      <th>nWBV</th>\n",
       "    </tr>\n",
       "    <tr>\n",
       "      <th>Group</th>\n",
       "      <th>Age_Binned</th>\n",
       "      <th></th>\n",
       "      <th></th>\n",
       "      <th></th>\n",
       "      <th></th>\n",
       "      <th></th>\n",
       "      <th></th>\n",
       "      <th></th>\n",
       "      <th></th>\n",
       "      <th></th>\n",
       "    </tr>\n",
       "  </thead>\n",
       "  <tbody>\n",
       "    <tr>\n",
       "      <th rowspan=\"4\" valign=\"top\">Demented</th>\n",
       "      <th>Lower Bracket</th>\n",
       "      <td>1.216933</td>\n",
       "      <td>66.133333</td>\n",
       "      <td>0.600000</td>\n",
       "      <td>1.000000</td>\n",
       "      <td>2.533333</td>\n",
       "      <td>22.933333</td>\n",
       "      <td>2.733333</td>\n",
       "      <td>1448.533333</td>\n",
       "      <td>0.740867</td>\n",
       "    </tr>\n",
       "    <tr>\n",
       "      <th>Lower middle Bracket</th>\n",
       "      <td>1.195646</td>\n",
       "      <td>74.416667</td>\n",
       "      <td>0.687500</td>\n",
       "      <td>1.000000</td>\n",
       "      <td>3.041667</td>\n",
       "      <td>24.687500</td>\n",
       "      <td>2.479167</td>\n",
       "      <td>1487.958333</td>\n",
       "      <td>0.728333</td>\n",
       "    </tr>\n",
       "    <tr>\n",
       "      <th>Middle Age</th>\n",
       "      <td>1.183954</td>\n",
       "      <td>27.505747</td>\n",
       "      <td>0.609195</td>\n",
       "      <td>1.000000</td>\n",
       "      <td>3.103448</td>\n",
       "      <td>24.528736</td>\n",
       "      <td>2.310345</td>\n",
       "      <td>1503.689655</td>\n",
       "      <td>0.840471</td>\n",
       "    </tr>\n",
       "    <tr>\n",
       "      <th>Upper middle Bracket</th>\n",
       "      <td>1.191757</td>\n",
       "      <td>84.108108</td>\n",
       "      <td>0.675676</td>\n",
       "      <td>1.000000</td>\n",
       "      <td>2.648649</td>\n",
       "      <td>24.405405</td>\n",
       "      <td>2.810811</td>\n",
       "      <td>1492.567568</td>\n",
       "      <td>0.706135</td>\n",
       "    </tr>\n",
       "    <tr>\n",
       "      <th rowspan=\"4\" valign=\"top\">NonDemented</th>\n",
       "      <th>Lower Bracket</th>\n",
       "      <td>1.257320</td>\n",
       "      <td>64.880000</td>\n",
       "      <td>0.000000</td>\n",
       "      <td>1.000000</td>\n",
       "      <td>3.280000</td>\n",
       "      <td>29.160000</td>\n",
       "      <td>2.760000</td>\n",
       "      <td>1403.920000</td>\n",
       "      <td>0.794400</td>\n",
       "    </tr>\n",
       "    <tr>\n",
       "      <th>Lower middle Bracket</th>\n",
       "      <td>1.221914</td>\n",
       "      <td>73.371429</td>\n",
       "      <td>0.000000</td>\n",
       "      <td>1.000000</td>\n",
       "      <td>3.228571</td>\n",
       "      <td>29.142857</td>\n",
       "      <td>2.400000</td>\n",
       "      <td>1454.342857</td>\n",
       "      <td>0.754029</td>\n",
       "    </tr>\n",
       "    <tr>\n",
       "      <th>Middle Age</th>\n",
       "      <td>1.186662</td>\n",
       "      <td>32.337748</td>\n",
       "      <td>0.000000</td>\n",
       "      <td>3.589404</td>\n",
       "      <td>3.582781</td>\n",
       "      <td>28.708609</td>\n",
       "      <td>2.145695</td>\n",
       "      <td>1496.119205</td>\n",
       "      <td>0.835119</td>\n",
       "    </tr>\n",
       "    <tr>\n",
       "      <th>Upper middle Bracket</th>\n",
       "      <td>1.226000</td>\n",
       "      <td>85.526316</td>\n",
       "      <td>0.000000</td>\n",
       "      <td>1.000000</td>\n",
       "      <td>3.289474</td>\n",
       "      <td>28.657895</td>\n",
       "      <td>2.421053</td>\n",
       "      <td>1447.552632</td>\n",
       "      <td>0.723500</td>\n",
       "    </tr>\n",
       "  </tbody>\n",
       "</table>\n",
       "</div>"
      ],
      "text/plain": [
       "                                       ASF        Age       CDR     Delay  \\\n",
       "Group       Age_Binned                                                      \n",
       "Demented    Lower Bracket         1.216933  66.133333  0.600000  1.000000   \n",
       "            Lower middle Bracket  1.195646  74.416667  0.687500  1.000000   \n",
       "            Middle Age            1.183954  27.505747  0.609195  1.000000   \n",
       "            Upper middle Bracket  1.191757  84.108108  0.675676  1.000000   \n",
       "NonDemented Lower Bracket         1.257320  64.880000  0.000000  1.000000   \n",
       "            Lower middle Bracket  1.221914  73.371429  0.000000  1.000000   \n",
       "            Middle Age            1.186662  32.337748  0.000000  3.589404   \n",
       "            Upper middle Bracket  1.226000  85.526316  0.000000  1.000000   \n",
       "\n",
       "                                      Educ       MMSE       SES         eTIV  \\\n",
       "Group       Age_Binned                                                         \n",
       "Demented    Lower Bracket         2.533333  22.933333  2.733333  1448.533333   \n",
       "            Lower middle Bracket  3.041667  24.687500  2.479167  1487.958333   \n",
       "            Middle Age            3.103448  24.528736  2.310345  1503.689655   \n",
       "            Upper middle Bracket  2.648649  24.405405  2.810811  1492.567568   \n",
       "NonDemented Lower Bracket         3.280000  29.160000  2.760000  1403.920000   \n",
       "            Lower middle Bracket  3.228571  29.142857  2.400000  1454.342857   \n",
       "            Middle Age            3.582781  28.708609  2.145695  1496.119205   \n",
       "            Upper middle Bracket  3.289474  28.657895  2.421053  1447.552632   \n",
       "\n",
       "                                      nWBV  \n",
       "Group       Age_Binned                      \n",
       "Demented    Lower Bracket         0.740867  \n",
       "            Lower middle Bracket  0.728333  \n",
       "            Middle Age            0.840471  \n",
       "            Upper middle Bracket  0.706135  \n",
       "NonDemented Lower Bracket         0.794400  \n",
       "            Lower middle Bracket  0.754029  \n",
       "            Middle Age            0.835119  \n",
       "            Upper middle Bracket  0.723500  "
      ]
     },

     "metadata": {},
     "output_type": "execute_result"
    }
   ],
   "source": [
    "crossSectional_df.pivot_table(index=[\"Group\",\"Age_Binned\"])"
   ]
  },
  {
   "cell_type": "markdown",
   "metadata": {},
   "source": [
    "### Boolean exploration "
   ]
  },
  {
   "cell_type": "markdown",
   "metadata": {},
   "source": [
    "For Longitudinal scans , what is the minimum age for demented male and female patients? "
   ]
  },
  {
   "cell_type": "code",

   "metadata": {},
   "outputs": [
    {
     "name": "stdout",
     "output_type": "stream",
     "text": [
      "The minimum age for Demented females in longitudinal scans is: 66\n"
     ]
    }
   ],
   "source": [
    "print(\"The minimum age for Demented females in longitudinal scans is:\", Longitudinal_df[(Longitudinal_df[\"Group\"]==\"Demented\") &\n",
    "               (Longitudinal_df[\"M/F\"]==\"F\")][\"Age\"].min())"
   ]
  },
  {
   "cell_type": "code",

   "metadata": {},
   "outputs": [
    {
     "name": "stdout",
     "output_type": "stream",
     "text": [
      "The minimum age for Demented males in longitudinal scans is: 61\n"
     ]
    }
   ],
   "source": [
    "print(\"The minimum age for Demented males in longitudinal scans is:\", Longitudinal_df[(Longitudinal_df[\"Group\"]==\"Demented\") &\n",
    "               (Longitudinal_df[\"M/F\"]==\"M\")][\"Age\"].min())"
   ]
  },
  {
   "cell_type": "markdown",
   "metadata": {},
   "source": [
    "For Longitudinal scans, what percentage of male demented patients are over the age of 70? "
   ]
  },
  {
   "cell_type": "code",

   "metadata": {},
   "outputs": [
    {
     "name": "stdout",
     "output_type": "stream",
     "text": [
      "The percentage of male demented patients over the age of 70 for Longitudinal scans is 16 percent\n"
     ]
    }
   ],
   "source": [
    "query=len(Longitudinal_df[(Longitudinal_df[\"M/F\"]==\"M\")&\n",
    "                     (Longitudinal_df[\"Group\"]==\"Demented\")&\n",
    "                     (Longitudinal_df[\"Age\"]>70)])\n",
    "percentage=(query/len(Longitudinal_df))*100\n",
    "print(\"The percentage of male demented patients over the age of 70 for Longitudinal scans is %d percent\"%percentage)"
   ]
  },
  {
   "cell_type": "markdown",
   "metadata": {},
   "source": [
    "Visualization of data distribution across all groups for Longitudinal and Cross Sectional Scans"
   ]
  },
  {
   "cell_type": "markdown",
   "metadata": {},
   "source": [
    "## Additional Dataset (Alzheimer_s_Disease_and_Healthy_Aging_Data)"
   ]
  },
  {
   "cell_type": "code",

   "metadata": {},
   "outputs": [],
   "source": [
    "#Dataswet Import\n",
    "gg_df=pd.read_csv(\"Alzheimer_s_Disease_and_Healthy_Aging_Data.csv\")"
   ]
  },
  {
   "cell_type": "code",

   "metadata": {},
   "outputs": [
    {
     "data": {
      "text/html": [
       "<div>\n",
       "<style scoped>\n",
       "    .dataframe tbody tr th:only-of-type {\n",
       "        vertical-align: middle;\n",
       "    }\n",
       "\n",
       "    .dataframe tbody tr th {\n",
       "        vertical-align: top;\n",
       "    }\n",
       "\n",
       "    .dataframe thead th {\n",
       "        text-align: right;\n",
       "    }\n",
       "</style>\n",
       "<table border=\"1\" class=\"dataframe\">\n",
       "  <thead>\n",
       "    <tr style=\"text-align: right;\">\n",
       "      <th></th>\n",
       "      <th>RowId</th>\n",
       "      <th>YearStart</th>\n",
       "      <th>YearEnd</th>\n",
       "      <th>LocationAbbr</th>\n",
       "      <th>LocationDesc</th>\n",
       "      <th>Datasource</th>\n",
       "      <th>Class</th>\n",
       "      <th>Topic</th>\n",
       "      <th>Question</th>\n",
       "      <th>Response</th>\n",

       "      <th>QuestionID</th>\n",
       "      <th>ResponseID</th>\n",
       "      <th>LocationID</th>\n",
       "      <th>StratificationCategoryID1</th>\n",
       "      <th>StratificationID1</th>\n",
       "      <th>StratificationCategoryID2</th>\n",
       "      <th>StratificationID2</th>\n",
       "      <th>StratificationCategoryID3</th>\n",
       "      <th>StratificationID3</th>\n",
       "      <th>Report</th>\n",
       "    </tr>\n",
       "  </thead>\n",
       "  <tbody>\n",
       "    <tr>\n",
       "      <th>0</th>\n",
       "      <td>2016~2016~12~Q27~AGE~AGE_OVERALL~GENDER~MALE</td>\n",
       "      <td>2016</td>\n",
       "      <td>2016</td>\n",
       "      <td>FL</td>\n",
       "      <td>Florida</td>\n",
       "      <td>BRFSS</td>\n",
       "      <td>Mental Health</td>\n",
       "      <td>Lifetime diagnosis of depression</td>\n",
       "      <td>Percentage of older adults with a lifetime dia...</td>\n",
       "      <td>NaN</td>\n",

       "      <td>Q27</td>\n",
       "      <td>NaN</td>\n",
       "      <td>12</td>\n",
       "      <td>AGE</td>\n",
       "      <td>AGE_OVERALL</td>\n",
       "      <td>GENDER</td>\n",
       "      <td>MALE</td>\n",
       "      <td>NaN</td>\n",
       "      <td>NaN</td>\n",
       "      <td>NaN</td>\n",
       "    </tr>\n",
       "    <tr>\n",
       "      <th>1</th>\n",
       "      <td>2015~2015~66~Q43~AGE~5064~GENDER~MALE</td>\n",
       "      <td>2015</td>\n",
       "      <td>2015</td>\n",
       "      <td>GU</td>\n",
       "      <td>Guam</td>\n",
       "      <td>BRFSS</td>\n",
       "      <td>Overall Health</td>\n",
       "      <td>Arthritis among older adults</td>\n",
       "      <td>Percentage of older adults ever told they have...</td>\n",
       "      <td>NaN</td>\n",

       "      <td>Q43</td>\n",
       "      <td>NaN</td>\n",
       "      <td>66</td>\n",
       "      <td>AGE</td>\n",
       "      <td>5064</td>\n",
       "      <td>GENDER</td>\n",
       "      <td>MALE</td>\n",
       "      <td>NaN</td>\n",
       "      <td>NaN</td>\n",
       "      <td>NaN</td>\n",
       "    </tr>\n",
       "    <tr>\n",
       "      <th>2</th>\n",
       "      <td>2018~2018~66~Q18~AGE~5064~GENDER~MALE</td>\n",
       "      <td>2018</td>\n",
       "      <td>2018</td>\n",
       "      <td>GU</td>\n",
       "      <td>Guam</td>\n",
       "      <td>BRFSS</td>\n",
       "      <td>Screenings and Vaccines</td>\n",
       "      <td>Influenza vaccine within past year</td>\n",
       "      <td>Percentage of older adults who reported influe...</td>\n",
       "      <td>NaN</td>\n",

       "      <td>Q18</td>\n",
       "      <td>NaN</td>\n",
       "      <td>66</td>\n",
       "      <td>AGE</td>\n",
       "      <td>5064</td>\n",
       "      <td>GENDER</td>\n",
       "      <td>MALE</td>\n",
       "      <td>NaN</td>\n",
       "      <td>NaN</td>\n",
       "      <td>NaN</td>\n",
       "    </tr>\n",
       "    <tr>\n",
       "      <th>3</th>\n",
       "      <td>2018~2018~66~Q34~AGE~5064~GENDER~FEMALE</td>\n",
       "      <td>2018</td>\n",
       "      <td>2018</td>\n",
       "      <td>GU</td>\n",
       "      <td>Guam</td>\n",
       "      <td>BRFSS</td>\n",
       "      <td>Overall Health</td>\n",
       "      <td>Prevalence of sufficient sleep</td>\n",
       "      <td>Percentage of older adults getting sufficient ...</td>\n",
       "      <td>NaN</td>\n",

       "      <td>Q34</td>\n",
       "      <td>NaN</td>\n",
       "      <td>66</td>\n",
       "      <td>AGE</td>\n",
       "      <td>5064</td>\n",
       "      <td>GENDER</td>\n",
       "      <td>FEMALE</td>\n",
       "      <td>NaN</td>\n",
       "      <td>NaN</td>\n",
       "      <td>NaN</td>\n",
       "    </tr>\n",
       "    <tr>\n",
       "      <th>4</th>\n",
       "      <td>2015~2015~16~Q43~AGE~65PLUS~GENDER~FEMALE</td>\n",
       "      <td>2015</td>\n",
       "      <td>2015</td>\n",
       "      <td>ID</td>\n",
       "      <td>Idaho</td>\n",
       "      <td>BRFSS</td>\n",
       "      <td>Overall Health</td>\n",
       "      <td>Arthritis among older adults</td>\n",
       "      <td>Percentage of older adults ever told they have...</td>\n",
       "      <td>NaN</td>\n",

       "      <td>Q43</td>\n",
       "      <td>NaN</td>\n",
       "      <td>16</td>\n",
       "      <td>AGE</td>\n",
       "      <td>65PLUS</td>\n",
       "      <td>GENDER</td>\n",
       "      <td>FEMALE</td>\n",
       "      <td>NaN</td>\n",
       "      <td>NaN</td>\n",
       "      <td>NaN</td>\n",
       "    </tr>\n",
       "  </tbody>\n",
       "</table>\n",

       "</div>"
      ],
      "text/plain": [
       "                                          RowId  YearStart  YearEnd  \\\n",
       "0  2016~2016~12~Q27~AGE~AGE_OVERALL~GENDER~MALE       2016     2016   \n",
       "1         2015~2015~66~Q43~AGE~5064~GENDER~MALE       2015     2015   \n",
       "2         2018~2018~66~Q18~AGE~5064~GENDER~MALE       2018     2018   \n",
       "3       2018~2018~66~Q34~AGE~5064~GENDER~FEMALE       2018     2018   \n",
       "4     2015~2015~16~Q43~AGE~65PLUS~GENDER~FEMALE       2015     2015   \n",
       "\n",
       "  LocationAbbr LocationDesc Datasource                    Class  \\\n",
       "0           FL      Florida      BRFSS            Mental Health   \n",
       "1           GU         Guam      BRFSS           Overall Health   \n",
       "2           GU         Guam      BRFSS  Screenings and Vaccines   \n",
       "3           GU         Guam      BRFSS           Overall Health   \n",
       "4           ID        Idaho      BRFSS           Overall Health   \n",
       "\n",
       "                                Topic  \\\n",
       "0    Lifetime diagnosis of depression   \n",
       "1        Arthritis among older adults   \n",
       "2  Influenza vaccine within past year   \n",
       "3      Prevalence of sufficient sleep   \n",
       "4        Arthritis among older adults   \n",
       "\n",

     "metadata": {},
     "output_type": "execute_result"
    }
   ],
   "source": [
    "gg_df.head(5)"
   ]
  },
  {
   "cell_type": "code",

   "metadata": {},
   "outputs": [
    {
     "data": {

     "metadata": {},
     "output_type": "execute_result"
    }
   ],
   "source": [

    "gender_value=[]\n",
    "for index in index_list:\n",
    "    if index in [\"FEMALE\",\"MALE\"]:\n",
    "        if index.contains(\"FEMALE\"):\n",
    "            gender_value.append(\"FEMALE\")\n",
    "        else:\n",
    "            gender_value.append(\"MALE\")\n"
   ]
  },
  {
   "cell_type": "code",

   "metadata": {},
   "outputs": [
    {
     "data": {
      "text/plain": [
       "array(['Mental Health', 'Overall Health', 'Screenings and Vaccines',\n",
       "       'Nutrition/Physical Activity/Obesity', 'Caregiving',\n",
       "       'Smoking and Alcohol Use', 'Cognitive Decline'], dtype=object)"
      ]
     },

     "metadata": {},
     "output_type": "execute_result"
    }
   ],
   "source": [
    "gg_df[\"Class\"].unique()"
   ]
  },
  {
   "cell_type": "markdown",
   "metadata": {},
   "source": [
    "### Filtering Dataset by classes and percentage values [2 classes selected]"
   ]
  },
  {
   "cell_type": "code",

   "metadata": {},
   "outputs": [],
   "source": [
    "gg_df1=gg_df[gg_df[\"Class\"]==\"Cognitive Decline\"]\n",
    "gg_df1=gg_df1.loc[gg_df1[\"Data_Value_Type\"]==\"Percentage\"]\n"
   ]
  },
  {
   "cell_type": "code",

   "metadata": {},
   "outputs": [],
   "source": [
    "gg_df2=gg_df.loc[gg_df[\"Class\"]==\"Mental Health\"]\n",
    "gg_df2=gg_df2.loc[gg_df2[\"Data_Value_Type\"]==\"Percentage\"]\n"
   ]
  },
  {
   "cell_type": "markdown",
   "metadata": {},
   "source": [
    "### Identifying relevant health topics under each class"
   ]
  },
  {
   "cell_type": "code",

   "source": [
    "gg_df1[\"Topic\"].unique()"
   ]
  },
  {
   "cell_type": "code",

   "source": [
    "gg_df2[\"Topic\"].unique()"
   ]
  },
  {
   "cell_type": "markdown",
   "metadata": {},
   "source": [
    "### Assessing percentage distribution/mean by Topic"
   ]
  },
  {
   "cell_type": "code",

   "source": [
    "gg_df1.groupby([\"Topic\"]).mean()[\"Data_Value\"]"
   ]
  },
  {
   "cell_type": "code",

   "source": [
    "plt.hist(gg_df1[\"Data_Value\"])"
   ]
  },
  {
   "cell_type": "code",

   "source": [
    "gg_df2.groupby([\"Topic\"]).mean()[\"Data_Value\"]"
   ]
  },
  {
   "cell_type": "code",

   "source": [
    "plt.hist(gg_df2[\"Data_Value\"]) "
   ]
  },
  {
   "cell_type": "code",
   "execution_count": null,
   "metadata": {},
   "outputs": [],
   "source": []
  }
 ],
 "metadata": {
  "kernelspec": {
   "display_name": "Python 3",
   "language": "python",
   "name": "python3"
  },
  "language_info": {
   "codemirror_mode": {
    "name": "ipython",
    "version": 3
   },
   "file_extension": ".py",
   "mimetype": "text/x-python",
   "name": "python",
   "nbconvert_exporter": "python",
   "pygments_lexer": "ipython3",
   "version": "3.8.3"
  }
 },
 "nbformat": 4,
 "nbformat_minor": 4
}
