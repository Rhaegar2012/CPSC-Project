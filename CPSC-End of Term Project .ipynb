{
 "cells": [
  {
   "cell_type": "markdown",
   "metadata": {
    "slideshow": {
     "slide_type": "slide"
    }
   },
   "source": [
    "# CSPC 4810-W01 End of Term Project\n",
    "### Jose Fernando Tellez ID- 100363335\n",
    "### Sai Naren Kantipundi ID-100369639\n",
    "### Edward Thjang ID-100369639\n",
    "### Srinivasa Sachin Suresh Kumar  ID- 100369196"
   ]
  },
  {
   "cell_type": "markdown",
   "metadata": {
    "slideshow": {
     "slide_type": "slide"
    }
   },
   "source": [
    "## Context\n",
    "\n",
    "The Open Access Series of Imaging Studies (OASIS) is a project aimed at making MRI data sets of the brain freely available to the scientific community. The MRI and Alzheimers dataset containes Magnetic Resonance Imaging Comparisons of Demented and Nondemented adults\n",
    "The base data consists in two main datasets: \n",
    "\n",
    "-__oasis_cross-sectional.csv__- Cross sectional collections of 416 subjects aged 18 to 96\n",
    "\n",
    "-__oasis_longitudinal.csv__- Longitudinal collection of 150 subjects aged 60 to 96 \n",
    "\n",
    "\n"
   ]
  },
  {
   "cell_type": "code",
   "execution_count": 193,
   "metadata": {
    "slideshow": {
     "slide_type": "slide"
    }
   },
   "outputs": [],
   "source": [
    "#Dataset import \n",
    "import pandas as pd\n",
    "import numpy as np \n",
    "import matplotlib.pyplot as plt\n",
    "import seaborn as sns\n",
    "crossSectional_df=pd.read_csv(\"oasis_cross-sectional.csv\")\n",
    "Longitudinal_df=pd.read_csv(\"oasis_longitudinal.csv\")\n"
   ]
  },
  {
   "cell_type": "markdown",
   "metadata": {
    "slideshow": {
     "slide_type": "slide"
    }
   },
   "source": [
    "### Basic Information on selected datasets"
   ]
  },
  {
   "cell_type": "code",
   "execution_count": 194,
   "metadata": {
    "slideshow": {
     "slide_type": "subslide"
    }
   },
   "outputs": [
    {
     "name": "stdout",
     "output_type": "stream",
     "text": [
      "<class 'pandas.core.frame.DataFrame'>\n",
      "RangeIndex: 436 entries, 0 to 435\n",
      "Data columns (total 12 columns):\n",
      " #   Column  Non-Null Count  Dtype  \n",
      "---  ------  --------------  -----  \n",
      " 0   ID      436 non-null    object \n",
      " 1   M/F     436 non-null    object \n",
      " 2   Hand    436 non-null    object \n",
      " 3   Age     436 non-null    int64  \n",
      " 4   Educ    235 non-null    float64\n",
      " 5   SES     216 non-null    float64\n",
      " 6   MMSE    235 non-null    float64\n",
      " 7   CDR     235 non-null    float64\n",
      " 8   eTIV    436 non-null    int64  \n",
      " 9   nWBV    436 non-null    float64\n",
      " 10  ASF     436 non-null    float64\n",
      " 11  Delay   20 non-null     float64\n",
      "dtypes: float64(7), int64(2), object(3)\n",
      "memory usage: 41.0+ KB\n"
     ]
    }
   ],
   "source": [
    "crossSectional_df.info()"
   ]
  },
  {
   "cell_type": "code",
   "execution_count": 195,
   "metadata": {
    "slideshow": {
     "slide_type": "subslide"
    }
   },
   "outputs": [
    {
     "name": "stdout",
     "output_type": "stream",
     "text": [
      "<class 'pandas.core.frame.DataFrame'>\n",
      "RangeIndex: 373 entries, 0 to 372\n",
      "Data columns (total 15 columns):\n",
      " #   Column      Non-Null Count  Dtype  \n",
      "---  ------      --------------  -----  \n",
      " 0   Subject ID  373 non-null    object \n",
      " 1   MRI ID      373 non-null    object \n",
      " 2   Group       373 non-null    object \n",
      " 3   Visit       373 non-null    int64  \n",
      " 4   MR Delay    373 non-null    int64  \n",
      " 5   M/F         373 non-null    object \n",
      " 6   Hand        373 non-null    object \n",
      " 7   Age         373 non-null    int64  \n",
      " 8   EDUC        373 non-null    int64  \n",
      " 9   SES         354 non-null    float64\n",
      " 10  MMSE        371 non-null    float64\n",
      " 11  CDR         373 non-null    float64\n",
      " 12  eTIV        373 non-null    int64  \n",
      " 13  nWBV        373 non-null    float64\n",
      " 14  ASF         373 non-null    float64\n",
      "dtypes: float64(5), int64(5), object(5)\n",
      "memory usage: 43.8+ KB\n"
     ]
    }
   ],
   "source": [
    "Longitudinal_df.info()"
   ]
  },
  {
   "cell_type": "markdown",
   "metadata": {
    "slideshow": {
     "slide_type": "slide"
    }
   },
   "source": [
    "Proposed transformations \n",
    "\n",
    "Cleaning NaN values in both datasets\n",
    "\n",
    "Combine the two datasets \n",
    "\n",
    "Perform in depth exploratory analysis \n",
    "\n",
    "Average number of visits for demented Non demented patients\n",
    "\n",
    "Summarize / Use cross validation tables -Binning Age and getting average parameters per group (eTIV, nWBV, ASF)\n",
    "\n",
    "Boolean queries combined with hierarchical index\n",
    "\n",
    "Plot scatter plots /correlations between selected variables \n",
    "\n",
    "\n",
    "\n"
   ]
  },
  {
   "cell_type": "markdown",
   "metadata": {
    "slideshow": {
     "slide_type": "slide"
    }
   },
   "source": [
    "### Data Imputation /Outlier detecting "
   ]
  },
  {
   "cell_type": "code",
   "execution_count": 196,
   "metadata": {
    "slideshow": {
     "slide_type": "subslide"
    }
   },
   "outputs": [
    {
     "data": {
      "text/html": [
       "<div>\n",
       "<style scoped>\n",
       "    .dataframe tbody tr th:only-of-type {\n",
       "        vertical-align: middle;\n",
       "    }\n",
       "\n",
       "    .dataframe tbody tr th {\n",
       "        vertical-align: top;\n",
       "    }\n",
       "\n",
       "    .dataframe thead th {\n",
       "        text-align: right;\n",
       "    }\n",
       "</style>\n",
       "<table border=\"1\" class=\"dataframe\">\n",
       "  <thead>\n",
       "    <tr style=\"text-align: right;\">\n",
       "      <th></th>\n",
       "      <th>ID</th>\n",
       "      <th>M/F</th>\n",
       "      <th>Hand</th>\n",
       "      <th>Age</th>\n",
       "      <th>Educ</th>\n",
       "      <th>SES</th>\n",
       "      <th>MMSE</th>\n",
       "      <th>CDR</th>\n",
       "      <th>eTIV</th>\n",
       "      <th>nWBV</th>\n",
       "      <th>ASF</th>\n",
       "      <th>Delay</th>\n",
       "    </tr>\n",
       "  </thead>\n",
       "  <tbody>\n",
       "    <tr>\n",
       "      <th>0</th>\n",
       "      <td>OAS1_0001_MR1</td>\n",
       "      <td>F</td>\n",
       "      <td>R</td>\n",
       "      <td>74</td>\n",
       "      <td>2.0</td>\n",
       "      <td>3.0</td>\n",
       "      <td>29.0</td>\n",
       "      <td>0.0</td>\n",
       "      <td>1344</td>\n",
       "      <td>0.743</td>\n",
       "      <td>1.306</td>\n",
       "      <td>NaN</td>\n",
       "    </tr>\n",
       "    <tr>\n",
       "      <th>1</th>\n",
       "      <td>OAS1_0002_MR1</td>\n",
       "      <td>F</td>\n",
       "      <td>R</td>\n",
       "      <td>55</td>\n",
       "      <td>4.0</td>\n",
       "      <td>1.0</td>\n",
       "      <td>29.0</td>\n",
       "      <td>0.0</td>\n",
       "      <td>1147</td>\n",
       "      <td>0.810</td>\n",
       "      <td>1.531</td>\n",
       "      <td>NaN</td>\n",
       "    </tr>\n",
       "    <tr>\n",
       "      <th>2</th>\n",
       "      <td>OAS1_0003_MR1</td>\n",
       "      <td>F</td>\n",
       "      <td>R</td>\n",
       "      <td>73</td>\n",
       "      <td>4.0</td>\n",
       "      <td>3.0</td>\n",
       "      <td>27.0</td>\n",
       "      <td>0.5</td>\n",
       "      <td>1454</td>\n",
       "      <td>0.708</td>\n",
       "      <td>1.207</td>\n",
       "      <td>NaN</td>\n",
       "    </tr>\n",
       "    <tr>\n",
       "      <th>3</th>\n",
       "      <td>OAS1_0004_MR1</td>\n",
       "      <td>M</td>\n",
       "      <td>R</td>\n",
       "      <td>28</td>\n",
       "      <td>NaN</td>\n",
       "      <td>NaN</td>\n",
       "      <td>NaN</td>\n",
       "      <td>NaN</td>\n",
       "      <td>1588</td>\n",
       "      <td>0.803</td>\n",
       "      <td>1.105</td>\n",
       "      <td>NaN</td>\n",
       "    </tr>\n",
       "    <tr>\n",
       "      <th>4</th>\n",
       "      <td>OAS1_0005_MR1</td>\n",
       "      <td>M</td>\n",
       "      <td>R</td>\n",
       "      <td>18</td>\n",
       "      <td>NaN</td>\n",
       "      <td>NaN</td>\n",
       "      <td>NaN</td>\n",
       "      <td>NaN</td>\n",
       "      <td>1737</td>\n",
       "      <td>0.848</td>\n",
       "      <td>1.010</td>\n",
       "      <td>NaN</td>\n",
       "    </tr>\n",
       "    <tr>\n",
       "      <th>5</th>\n",
       "      <td>OAS1_0006_MR1</td>\n",
       "      <td>F</td>\n",
       "      <td>R</td>\n",
       "      <td>24</td>\n",
       "      <td>NaN</td>\n",
       "      <td>NaN</td>\n",
       "      <td>NaN</td>\n",
       "      <td>NaN</td>\n",
       "      <td>1131</td>\n",
       "      <td>0.862</td>\n",
       "      <td>1.551</td>\n",
       "      <td>NaN</td>\n",
       "    </tr>\n",
       "    <tr>\n",
       "      <th>6</th>\n",
       "      <td>OAS1_0007_MR1</td>\n",
       "      <td>M</td>\n",
       "      <td>R</td>\n",
       "      <td>21</td>\n",
       "      <td>NaN</td>\n",
       "      <td>NaN</td>\n",
       "      <td>NaN</td>\n",
       "      <td>NaN</td>\n",
       "      <td>1516</td>\n",
       "      <td>0.830</td>\n",
       "      <td>1.157</td>\n",
       "      <td>NaN</td>\n",
       "    </tr>\n",
       "    <tr>\n",
       "      <th>7</th>\n",
       "      <td>OAS1_0009_MR1</td>\n",
       "      <td>F</td>\n",
       "      <td>R</td>\n",
       "      <td>20</td>\n",
       "      <td>NaN</td>\n",
       "      <td>NaN</td>\n",
       "      <td>NaN</td>\n",
       "      <td>NaN</td>\n",
       "      <td>1505</td>\n",
       "      <td>0.843</td>\n",
       "      <td>1.166</td>\n",
       "      <td>NaN</td>\n",
       "    </tr>\n",
       "    <tr>\n",
       "      <th>8</th>\n",
       "      <td>OAS1_0010_MR1</td>\n",
       "      <td>M</td>\n",
       "      <td>R</td>\n",
       "      <td>74</td>\n",
       "      <td>5.0</td>\n",
       "      <td>2.0</td>\n",
       "      <td>30.0</td>\n",
       "      <td>0.0</td>\n",
       "      <td>1636</td>\n",
       "      <td>0.689</td>\n",
       "      <td>1.073</td>\n",
       "      <td>NaN</td>\n",
       "    </tr>\n",
       "    <tr>\n",
       "      <th>9</th>\n",
       "      <td>OAS1_0011_MR1</td>\n",
       "      <td>F</td>\n",
       "      <td>R</td>\n",
       "      <td>52</td>\n",
       "      <td>3.0</td>\n",
       "      <td>2.0</td>\n",
       "      <td>30.0</td>\n",
       "      <td>0.0</td>\n",
       "      <td>1321</td>\n",
       "      <td>0.827</td>\n",
       "      <td>1.329</td>\n",
       "      <td>NaN</td>\n",
       "    </tr>\n",
       "  </tbody>\n",
       "</table>\n",
       "</div>"
      ],
      "text/plain": [
       "              ID M/F Hand  Age  Educ  SES  MMSE  CDR  eTIV   nWBV    ASF  \\\n",
       "0  OAS1_0001_MR1   F    R   74   2.0  3.0  29.0  0.0  1344  0.743  1.306   \n",
       "1  OAS1_0002_MR1   F    R   55   4.0  1.0  29.0  0.0  1147  0.810  1.531   \n",
       "2  OAS1_0003_MR1   F    R   73   4.0  3.0  27.0  0.5  1454  0.708  1.207   \n",
       "3  OAS1_0004_MR1   M    R   28   NaN  NaN   NaN  NaN  1588  0.803  1.105   \n",
       "4  OAS1_0005_MR1   M    R   18   NaN  NaN   NaN  NaN  1737  0.848  1.010   \n",
       "5  OAS1_0006_MR1   F    R   24   NaN  NaN   NaN  NaN  1131  0.862  1.551   \n",
       "6  OAS1_0007_MR1   M    R   21   NaN  NaN   NaN  NaN  1516  0.830  1.157   \n",
       "7  OAS1_0009_MR1   F    R   20   NaN  NaN   NaN  NaN  1505  0.843  1.166   \n",
       "8  OAS1_0010_MR1   M    R   74   5.0  2.0  30.0  0.0  1636  0.689  1.073   \n",
       "9  OAS1_0011_MR1   F    R   52   3.0  2.0  30.0  0.0  1321  0.827  1.329   \n",
       "\n",
       "   Delay  \n",
       "0    NaN  \n",
       "1    NaN  \n",
       "2    NaN  \n",
       "3    NaN  \n",
       "4    NaN  \n",
       "5    NaN  \n",
       "6    NaN  \n",
       "7    NaN  \n",
       "8    NaN  \n",
       "9    NaN  "
      ]
     },
     "execution_count": 196,
     "metadata": {},
     "output_type": "execute_result"
    }
   ],
   "source": [
    "crossSectional_df.head(10)"
   ]
  },
  {
   "cell_type": "code",
   "execution_count": 197,
   "metadata": {
    "slideshow": {
     "slide_type": "subslide"
    }
   },
   "outputs": [
    {
     "data": {
      "text/html": [
       "<div>\n",
       "<style scoped>\n",
       "    .dataframe tbody tr th:only-of-type {\n",
       "        vertical-align: middle;\n",
       "    }\n",
       "\n",
       "    .dataframe tbody tr th {\n",
       "        vertical-align: top;\n",
       "    }\n",
       "\n",
       "    .dataframe thead th {\n",
       "        text-align: right;\n",
       "    }\n",
       "</style>\n",
       "<table border=\"1\" class=\"dataframe\">\n",
       "  <thead>\n",
       "    <tr style=\"text-align: right;\">\n",
       "      <th></th>\n",
       "      <th>Subject ID</th>\n",
       "      <th>MRI ID</th>\n",
       "      <th>Group</th>\n",
       "      <th>Visit</th>\n",
       "      <th>MR Delay</th>\n",
       "      <th>M/F</th>\n",
       "      <th>Hand</th>\n",
       "      <th>Age</th>\n",
       "      <th>EDUC</th>\n",
       "      <th>SES</th>\n",
       "      <th>MMSE</th>\n",
       "      <th>CDR</th>\n",
       "      <th>eTIV</th>\n",
       "      <th>nWBV</th>\n",
       "      <th>ASF</th>\n",
       "    </tr>\n",
       "  </thead>\n",
       "  <tbody>\n",
       "    <tr>\n",
       "      <th>0</th>\n",
       "      <td>OAS2_0001</td>\n",
       "      <td>OAS2_0001_MR1</td>\n",
       "      <td>Nondemented</td>\n",
       "      <td>1</td>\n",
       "      <td>0</td>\n",
       "      <td>M</td>\n",
       "      <td>R</td>\n",
       "      <td>87</td>\n",
       "      <td>14</td>\n",
       "      <td>2.0</td>\n",
       "      <td>27.0</td>\n",
       "      <td>0.0</td>\n",
       "      <td>1987</td>\n",
       "      <td>0.696</td>\n",
       "      <td>0.883</td>\n",
       "    </tr>\n",
       "    <tr>\n",
       "      <th>1</th>\n",
       "      <td>OAS2_0001</td>\n",
       "      <td>OAS2_0001_MR2</td>\n",
       "      <td>Nondemented</td>\n",
       "      <td>2</td>\n",
       "      <td>457</td>\n",
       "      <td>M</td>\n",
       "      <td>R</td>\n",
       "      <td>88</td>\n",
       "      <td>14</td>\n",
       "      <td>2.0</td>\n",
       "      <td>30.0</td>\n",
       "      <td>0.0</td>\n",
       "      <td>2004</td>\n",
       "      <td>0.681</td>\n",
       "      <td>0.876</td>\n",
       "    </tr>\n",
       "    <tr>\n",
       "      <th>2</th>\n",
       "      <td>OAS2_0002</td>\n",
       "      <td>OAS2_0002_MR1</td>\n",
       "      <td>Demented</td>\n",
       "      <td>1</td>\n",
       "      <td>0</td>\n",
       "      <td>M</td>\n",
       "      <td>R</td>\n",
       "      <td>75</td>\n",
       "      <td>12</td>\n",
       "      <td>NaN</td>\n",
       "      <td>23.0</td>\n",
       "      <td>0.5</td>\n",
       "      <td>1678</td>\n",
       "      <td>0.736</td>\n",
       "      <td>1.046</td>\n",
       "    </tr>\n",
       "    <tr>\n",
       "      <th>3</th>\n",
       "      <td>OAS2_0002</td>\n",
       "      <td>OAS2_0002_MR2</td>\n",
       "      <td>Demented</td>\n",
       "      <td>2</td>\n",
       "      <td>560</td>\n",
       "      <td>M</td>\n",
       "      <td>R</td>\n",
       "      <td>76</td>\n",
       "      <td>12</td>\n",
       "      <td>NaN</td>\n",
       "      <td>28.0</td>\n",
       "      <td>0.5</td>\n",
       "      <td>1738</td>\n",
       "      <td>0.713</td>\n",
       "      <td>1.010</td>\n",
       "    </tr>\n",
       "    <tr>\n",
       "      <th>4</th>\n",
       "      <td>OAS2_0002</td>\n",
       "      <td>OAS2_0002_MR3</td>\n",
       "      <td>Demented</td>\n",
       "      <td>3</td>\n",
       "      <td>1895</td>\n",
       "      <td>M</td>\n",
       "      <td>R</td>\n",
       "      <td>80</td>\n",
       "      <td>12</td>\n",
       "      <td>NaN</td>\n",
       "      <td>22.0</td>\n",
       "      <td>0.5</td>\n",
       "      <td>1698</td>\n",
       "      <td>0.701</td>\n",
       "      <td>1.034</td>\n",
       "    </tr>\n",
       "    <tr>\n",
       "      <th>5</th>\n",
       "      <td>OAS2_0004</td>\n",
       "      <td>OAS2_0004_MR1</td>\n",
       "      <td>Nondemented</td>\n",
       "      <td>1</td>\n",
       "      <td>0</td>\n",
       "      <td>F</td>\n",
       "      <td>R</td>\n",
       "      <td>88</td>\n",
       "      <td>18</td>\n",
       "      <td>3.0</td>\n",
       "      <td>28.0</td>\n",
       "      <td>0.0</td>\n",
       "      <td>1215</td>\n",
       "      <td>0.710</td>\n",
       "      <td>1.444</td>\n",
       "    </tr>\n",
       "    <tr>\n",
       "      <th>6</th>\n",
       "      <td>OAS2_0004</td>\n",
       "      <td>OAS2_0004_MR2</td>\n",
       "      <td>Nondemented</td>\n",
       "      <td>2</td>\n",
       "      <td>538</td>\n",
       "      <td>F</td>\n",
       "      <td>R</td>\n",
       "      <td>90</td>\n",
       "      <td>18</td>\n",
       "      <td>3.0</td>\n",
       "      <td>27.0</td>\n",
       "      <td>0.0</td>\n",
       "      <td>1200</td>\n",
       "      <td>0.718</td>\n",
       "      <td>1.462</td>\n",
       "    </tr>\n",
       "    <tr>\n",
       "      <th>7</th>\n",
       "      <td>OAS2_0005</td>\n",
       "      <td>OAS2_0005_MR1</td>\n",
       "      <td>Nondemented</td>\n",
       "      <td>1</td>\n",
       "      <td>0</td>\n",
       "      <td>M</td>\n",
       "      <td>R</td>\n",
       "      <td>80</td>\n",
       "      <td>12</td>\n",
       "      <td>4.0</td>\n",
       "      <td>28.0</td>\n",
       "      <td>0.0</td>\n",
       "      <td>1689</td>\n",
       "      <td>0.712</td>\n",
       "      <td>1.039</td>\n",
       "    </tr>\n",
       "    <tr>\n",
       "      <th>8</th>\n",
       "      <td>OAS2_0005</td>\n",
       "      <td>OAS2_0005_MR2</td>\n",
       "      <td>Nondemented</td>\n",
       "      <td>2</td>\n",
       "      <td>1010</td>\n",
       "      <td>M</td>\n",
       "      <td>R</td>\n",
       "      <td>83</td>\n",
       "      <td>12</td>\n",
       "      <td>4.0</td>\n",
       "      <td>29.0</td>\n",
       "      <td>0.5</td>\n",
       "      <td>1701</td>\n",
       "      <td>0.711</td>\n",
       "      <td>1.032</td>\n",
       "    </tr>\n",
       "    <tr>\n",
       "      <th>9</th>\n",
       "      <td>OAS2_0005</td>\n",
       "      <td>OAS2_0005_MR3</td>\n",
       "      <td>Nondemented</td>\n",
       "      <td>3</td>\n",
       "      <td>1603</td>\n",
       "      <td>M</td>\n",
       "      <td>R</td>\n",
       "      <td>85</td>\n",
       "      <td>12</td>\n",
       "      <td>4.0</td>\n",
       "      <td>30.0</td>\n",
       "      <td>0.0</td>\n",
       "      <td>1699</td>\n",
       "      <td>0.705</td>\n",
       "      <td>1.033</td>\n",
       "    </tr>\n",
       "  </tbody>\n",
       "</table>\n",
       "</div>"
      ],
      "text/plain": [
       "  Subject ID         MRI ID        Group  Visit  MR Delay M/F Hand  Age  EDUC  \\\n",
       "0  OAS2_0001  OAS2_0001_MR1  Nondemented      1         0   M    R   87    14   \n",
       "1  OAS2_0001  OAS2_0001_MR2  Nondemented      2       457   M    R   88    14   \n",
       "2  OAS2_0002  OAS2_0002_MR1     Demented      1         0   M    R   75    12   \n",
       "3  OAS2_0002  OAS2_0002_MR2     Demented      2       560   M    R   76    12   \n",
       "4  OAS2_0002  OAS2_0002_MR3     Demented      3      1895   M    R   80    12   \n",
       "5  OAS2_0004  OAS2_0004_MR1  Nondemented      1         0   F    R   88    18   \n",
       "6  OAS2_0004  OAS2_0004_MR2  Nondemented      2       538   F    R   90    18   \n",
       "7  OAS2_0005  OAS2_0005_MR1  Nondemented      1         0   M    R   80    12   \n",
       "8  OAS2_0005  OAS2_0005_MR2  Nondemented      2      1010   M    R   83    12   \n",
       "9  OAS2_0005  OAS2_0005_MR3  Nondemented      3      1603   M    R   85    12   \n",
       "\n",
       "   SES  MMSE  CDR  eTIV   nWBV    ASF  \n",
       "0  2.0  27.0  0.0  1987  0.696  0.883  \n",
       "1  2.0  30.0  0.0  2004  0.681  0.876  \n",
       "2  NaN  23.0  0.5  1678  0.736  1.046  \n",
       "3  NaN  28.0  0.5  1738  0.713  1.010  \n",
       "4  NaN  22.0  0.5  1698  0.701  1.034  \n",
       "5  3.0  28.0  0.0  1215  0.710  1.444  \n",
       "6  3.0  27.0  0.0  1200  0.718  1.462  \n",
       "7  4.0  28.0  0.0  1689  0.712  1.039  \n",
       "8  4.0  29.0  0.5  1701  0.711  1.032  \n",
       "9  4.0  30.0  0.0  1699  0.705  1.033  "
      ]
     },
     "execution_count": 197,
     "metadata": {},
     "output_type": "execute_result"
    }
   ],
   "source": [
    "Longitudinal_df.head(10)"
   ]
  },
  {
   "cell_type": "code",
   "execution_count": 198,
   "metadata": {
    "slideshow": {
     "slide_type": "subslide"
    }
   },
   "outputs": [],
   "source": [
    "Longitudinal_df.fillna(method=\"ffill\",inplace=True)"
   ]
  },
  {
   "cell_type": "code",
   "execution_count": 199,
   "metadata": {
    "slideshow": {
     "slide_type": "subslide"
    }
   },
   "outputs": [
    {
     "data": {
      "text/plain": [
       "ID       False\n",
       "M/F      False\n",
       "Hand     False\n",
       "Age      False\n",
       "Educ     False\n",
       "SES      False\n",
       "MMSE     False\n",
       "CDR      False\n",
       "eTIV     False\n",
       "nWBV     False\n",
       "ASF      False\n",
       "Delay    False\n",
       "dtype: bool"
      ]
     },
     "execution_count": 199,
     "metadata": {},
     "output_type": "execute_result"
    }
   ],
   "source": [
    "crossSectional_df.fillna(method=\"ffill\",inplace=True)\n",
    "crossSectional_df.fillna(method=\"bfill\",inplace=True)\n",
    "crossSectional_df.isna().any()"
   ]
  },
  {
   "cell_type": "code",
   "execution_count": 200,
   "metadata": {
    "slideshow": {
     "slide_type": "subslide"
    }
   },
   "outputs": [
    {
     "data": {
      "text/plain": [
       "Subject ID    False\n",
       "MRI ID        False\n",
       "Group         False\n",
       "Visit         False\n",
       "MR Delay      False\n",
       "M/F           False\n",
       "Hand          False\n",
       "Age           False\n",
       "EDUC          False\n",
       "SES           False\n",
       "MMSE          False\n",
       "CDR           False\n",
       "eTIV          False\n",
       "nWBV          False\n",
       "ASF           False\n",
       "dtype: bool"
      ]
     },
     "execution_count": 200,
     "metadata": {},
     "output_type": "execute_result"
    }
   ],
   "source": [
    "Longitudinal_df.fillna(method=\"ffill\",inplace=True)\n",
    "Longitudinal_df.isna().any()"
   ]
  },
  {
   "cell_type": "markdown",
   "metadata": {
    "slideshow": {
     "slide_type": "slide"
    }
   },
   "source": [
    "Check for repeated values in the table keys:\n",
    "\n",
    "crossSectional_df, key =\"ID\" \n",
    "\n",
    "Longitudinal_df, key = \"Subject ID\"\n"
   ]
  },
  {
   "cell_type": "code",
   "execution_count": 201,
   "metadata": {
    "slideshow": {
     "slide_type": "subslide"
    }
   },
   "outputs": [
    {
     "data": {
      "text/plain": [
       "False"
      ]
     },
     "execution_count": 201,
     "metadata": {},
     "output_type": "execute_result"
    }
   ],
   "source": [
    "crossSectional_df[\"ID\"].duplicated().any()"
   ]
  },
  {
   "cell_type": "code",
   "execution_count": 202,
   "metadata": {
    "slideshow": {
     "slide_type": "subslide"
    }
   },
   "outputs": [
    {
     "data": {
      "text/plain": [
       "True"
      ]
     },
     "execution_count": 202,
     "metadata": {},
     "output_type": "execute_result"
    }
   ],
   "source": [
    "Longitudinal_df[\"Subject ID\"].duplicated().any()"
   ]
  },
  {
   "cell_type": "markdown",
   "metadata": {
    "slideshow": {
     "slide_type": "subslide"
    }
   },
   "source": [
    "Observe structure of duplicated values from Longitudinal_df"
   ]
  },
  {
   "cell_type": "code",
   "execution_count": 203,
   "metadata": {
    "slideshow": {
     "slide_type": "subslide"
    }
   },
   "outputs": [
    {
     "data": {
      "text/html": [
       "<div>\n",
       "<style scoped>\n",
       "    .dataframe tbody tr th:only-of-type {\n",
       "        vertical-align: middle;\n",
       "    }\n",
       "\n",
       "    .dataframe tbody tr th {\n",
       "        vertical-align: top;\n",
       "    }\n",
       "\n",
       "    .dataframe thead th {\n",
       "        text-align: right;\n",
       "    }\n",
       "</style>\n",
       "<table border=\"1\" class=\"dataframe\">\n",
       "  <thead>\n",
       "    <tr style=\"text-align: right;\">\n",
       "      <th></th>\n",
       "      <th>Subject ID</th>\n",
       "      <th>MRI ID</th>\n",
       "      <th>Group</th>\n",
       "      <th>Visit</th>\n",
       "      <th>MR Delay</th>\n",
       "      <th>M/F</th>\n",
       "      <th>Hand</th>\n",
       "      <th>Age</th>\n",
       "      <th>EDUC</th>\n",
       "      <th>SES</th>\n",
       "      <th>MMSE</th>\n",
       "      <th>CDR</th>\n",
       "      <th>eTIV</th>\n",
       "      <th>nWBV</th>\n",
       "      <th>ASF</th>\n",
       "    </tr>\n",
       "  </thead>\n",
       "  <tbody>\n",
       "    <tr>\n",
       "      <th>1</th>\n",
       "      <td>OAS2_0001</td>\n",
       "      <td>OAS2_0001_MR2</td>\n",
       "      <td>Nondemented</td>\n",
       "      <td>2</td>\n",
       "      <td>457</td>\n",
       "      <td>M</td>\n",
       "      <td>R</td>\n",
       "      <td>88</td>\n",
       "      <td>14</td>\n",
       "      <td>2.0</td>\n",
       "      <td>30.0</td>\n",
       "      <td>0.0</td>\n",
       "      <td>2004</td>\n",
       "      <td>0.681</td>\n",
       "      <td>0.876</td>\n",
       "    </tr>\n",
       "    <tr>\n",
       "      <th>3</th>\n",
       "      <td>OAS2_0002</td>\n",
       "      <td>OAS2_0002_MR2</td>\n",
       "      <td>Demented</td>\n",
       "      <td>2</td>\n",
       "      <td>560</td>\n",
       "      <td>M</td>\n",
       "      <td>R</td>\n",
       "      <td>76</td>\n",
       "      <td>12</td>\n",
       "      <td>2.0</td>\n",
       "      <td>28.0</td>\n",
       "      <td>0.5</td>\n",
       "      <td>1738</td>\n",
       "      <td>0.713</td>\n",
       "      <td>1.010</td>\n",
       "    </tr>\n",
       "    <tr>\n",
       "      <th>4</th>\n",
       "      <td>OAS2_0002</td>\n",
       "      <td>OAS2_0002_MR3</td>\n",
       "      <td>Demented</td>\n",
       "      <td>3</td>\n",
       "      <td>1895</td>\n",
       "      <td>M</td>\n",
       "      <td>R</td>\n",
       "      <td>80</td>\n",
       "      <td>12</td>\n",
       "      <td>2.0</td>\n",
       "      <td>22.0</td>\n",
       "      <td>0.5</td>\n",
       "      <td>1698</td>\n",
       "      <td>0.701</td>\n",
       "      <td>1.034</td>\n",
       "    </tr>\n",
       "    <tr>\n",
       "      <th>6</th>\n",
       "      <td>OAS2_0004</td>\n",
       "      <td>OAS2_0004_MR2</td>\n",
       "      <td>Nondemented</td>\n",
       "      <td>2</td>\n",
       "      <td>538</td>\n",
       "      <td>F</td>\n",
       "      <td>R</td>\n",
       "      <td>90</td>\n",
       "      <td>18</td>\n",
       "      <td>3.0</td>\n",
       "      <td>27.0</td>\n",
       "      <td>0.0</td>\n",
       "      <td>1200</td>\n",
       "      <td>0.718</td>\n",
       "      <td>1.462</td>\n",
       "    </tr>\n",
       "    <tr>\n",
       "      <th>8</th>\n",
       "      <td>OAS2_0005</td>\n",
       "      <td>OAS2_0005_MR2</td>\n",
       "      <td>Nondemented</td>\n",
       "      <td>2</td>\n",
       "      <td>1010</td>\n",
       "      <td>M</td>\n",
       "      <td>R</td>\n",
       "      <td>83</td>\n",
       "      <td>12</td>\n",
       "      <td>4.0</td>\n",
       "      <td>29.0</td>\n",
       "      <td>0.5</td>\n",
       "      <td>1701</td>\n",
       "      <td>0.711</td>\n",
       "      <td>1.032</td>\n",
       "    </tr>\n",
       "    <tr>\n",
       "      <th>...</th>\n",
       "      <td>...</td>\n",
       "      <td>...</td>\n",
       "      <td>...</td>\n",
       "      <td>...</td>\n",
       "      <td>...</td>\n",
       "      <td>...</td>\n",
       "      <td>...</td>\n",
       "      <td>...</td>\n",
       "      <td>...</td>\n",
       "      <td>...</td>\n",
       "      <td>...</td>\n",
       "      <td>...</td>\n",
       "      <td>...</td>\n",
       "      <td>...</td>\n",
       "      <td>...</td>\n",
       "    </tr>\n",
       "    <tr>\n",
       "      <th>366</th>\n",
       "      <td>OAS2_0184</td>\n",
       "      <td>OAS2_0184_MR2</td>\n",
       "      <td>Demented</td>\n",
       "      <td>2</td>\n",
       "      <td>553</td>\n",
       "      <td>F</td>\n",
       "      <td>R</td>\n",
       "      <td>73</td>\n",
       "      <td>16</td>\n",
       "      <td>3.0</td>\n",
       "      <td>21.0</td>\n",
       "      <td>1.0</td>\n",
       "      <td>1351</td>\n",
       "      <td>0.708</td>\n",
       "      <td>1.299</td>\n",
       "    </tr>\n",
       "    <tr>\n",
       "      <th>368</th>\n",
       "      <td>OAS2_0185</td>\n",
       "      <td>OAS2_0185_MR2</td>\n",
       "      <td>Demented</td>\n",
       "      <td>2</td>\n",
       "      <td>842</td>\n",
       "      <td>M</td>\n",
       "      <td>R</td>\n",
       "      <td>82</td>\n",
       "      <td>16</td>\n",
       "      <td>1.0</td>\n",
       "      <td>28.0</td>\n",
       "      <td>0.5</td>\n",
       "      <td>1693</td>\n",
       "      <td>0.694</td>\n",
       "      <td>1.037</td>\n",
       "    </tr>\n",
       "    <tr>\n",
       "      <th>369</th>\n",
       "      <td>OAS2_0185</td>\n",
       "      <td>OAS2_0185_MR3</td>\n",
       "      <td>Demented</td>\n",
       "      <td>3</td>\n",
       "      <td>2297</td>\n",
       "      <td>M</td>\n",
       "      <td>R</td>\n",
       "      <td>86</td>\n",
       "      <td>16</td>\n",
       "      <td>1.0</td>\n",
       "      <td>26.0</td>\n",
       "      <td>0.5</td>\n",
       "      <td>1688</td>\n",
       "      <td>0.675</td>\n",
       "      <td>1.040</td>\n",
       "    </tr>\n",
       "    <tr>\n",
       "      <th>371</th>\n",
       "      <td>OAS2_0186</td>\n",
       "      <td>OAS2_0186_MR2</td>\n",
       "      <td>Nondemented</td>\n",
       "      <td>2</td>\n",
       "      <td>763</td>\n",
       "      <td>F</td>\n",
       "      <td>R</td>\n",
       "      <td>63</td>\n",
       "      <td>13</td>\n",
       "      <td>2.0</td>\n",
       "      <td>30.0</td>\n",
       "      <td>0.0</td>\n",
       "      <td>1327</td>\n",
       "      <td>0.796</td>\n",
       "      <td>1.323</td>\n",
       "    </tr>\n",
       "    <tr>\n",
       "      <th>372</th>\n",
       "      <td>OAS2_0186</td>\n",
       "      <td>OAS2_0186_MR3</td>\n",
       "      <td>Nondemented</td>\n",
       "      <td>3</td>\n",
       "      <td>1608</td>\n",
       "      <td>F</td>\n",
       "      <td>R</td>\n",
       "      <td>65</td>\n",
       "      <td>13</td>\n",
       "      <td>2.0</td>\n",
       "      <td>30.0</td>\n",
       "      <td>0.0</td>\n",
       "      <td>1333</td>\n",
       "      <td>0.801</td>\n",
       "      <td>1.317</td>\n",
       "    </tr>\n",
       "  </tbody>\n",
       "</table>\n",
       "<p>223 rows × 15 columns</p>\n",
       "</div>"
      ],
      "text/plain": [
       "    Subject ID         MRI ID        Group  Visit  MR Delay M/F Hand  Age  \\\n",
       "1    OAS2_0001  OAS2_0001_MR2  Nondemented      2       457   M    R   88   \n",
       "3    OAS2_0002  OAS2_0002_MR2     Demented      2       560   M    R   76   \n",
       "4    OAS2_0002  OAS2_0002_MR3     Demented      3      1895   M    R   80   \n",
       "6    OAS2_0004  OAS2_0004_MR2  Nondemented      2       538   F    R   90   \n",
       "8    OAS2_0005  OAS2_0005_MR2  Nondemented      2      1010   M    R   83   \n",
       "..         ...            ...          ...    ...       ...  ..  ...  ...   \n",
       "366  OAS2_0184  OAS2_0184_MR2     Demented      2       553   F    R   73   \n",
       "368  OAS2_0185  OAS2_0185_MR2     Demented      2       842   M    R   82   \n",
       "369  OAS2_0185  OAS2_0185_MR3     Demented      3      2297   M    R   86   \n",
       "371  OAS2_0186  OAS2_0186_MR2  Nondemented      2       763   F    R   63   \n",
       "372  OAS2_0186  OAS2_0186_MR3  Nondemented      3      1608   F    R   65   \n",
       "\n",
       "     EDUC  SES  MMSE  CDR  eTIV   nWBV    ASF  \n",
       "1      14  2.0  30.0  0.0  2004  0.681  0.876  \n",
       "3      12  2.0  28.0  0.5  1738  0.713  1.010  \n",
       "4      12  2.0  22.0  0.5  1698  0.701  1.034  \n",
       "6      18  3.0  27.0  0.0  1200  0.718  1.462  \n",
       "8      12  4.0  29.0  0.5  1701  0.711  1.032  \n",
       "..    ...  ...   ...  ...   ...    ...    ...  \n",
       "366    16  3.0  21.0  1.0  1351  0.708  1.299  \n",
       "368    16  1.0  28.0  0.5  1693  0.694  1.037  \n",
       "369    16  1.0  26.0  0.5  1688  0.675  1.040  \n",
       "371    13  2.0  30.0  0.0  1327  0.796  1.323  \n",
       "372    13  2.0  30.0  0.0  1333  0.801  1.317  \n",
       "\n",
       "[223 rows x 15 columns]"
      ]
     },
     "execution_count": 203,
     "metadata": {},
     "output_type": "execute_result"
    }
   ],
   "source": [
    "Longitudinal_df[Longitudinal_df[\"Subject ID\"].duplicated()==True]"
   ]
  },
  {
   "cell_type": "markdown",
   "metadata": {
    "slideshow": {
     "slide_type": "slide"
    }
   },
   "source": [
    "Removal of duplicated values from the Longitudinal_df\n"
   ]
  },
  {
   "cell_type": "code",
   "execution_count": 204,
   "metadata": {
    "slideshow": {
     "slide_type": "subslide"
    }
   },
   "outputs": [],
   "source": [
    "Longitudinal_df.drop_duplicates(subset=\"Subject ID\",keep=\"first\",inplace=True)"
   ]
  },
  {
   "cell_type": "code",
   "execution_count": 205,
   "metadata": {
    "slideshow": {
     "slide_type": "subslide"
    }
   },
   "outputs": [
    {
     "data": {
      "text/plain": [
       "150"
      ]
     },
     "execution_count": 205,
     "metadata": {},
     "output_type": "execute_result"
    }
   ],
   "source": [
    "len(Longitudinal_df)"
   ]
  },
  {
   "cell_type": "markdown",
   "metadata": {
    "slideshow": {
     "slide_type": "subslide"
    }
   },
   "source": [
    "A total of 223 replicated rows were deleted "
   ]
  },
  {
   "cell_type": "markdown",
   "metadata": {
    "slideshow": {
     "slide_type": "slide"
    }
   },
   "source": [
    "### Check For Outliers Via Plots:"
   ]
  },
  {
   "cell_type": "markdown",
   "metadata": {
    "slideshow": {
     "slide_type": "subslide"
    }
   },
   "source": [
    "#### Check for Outliers for Numerical Variables in Longitudinal Dataset:"
   ]
  },
  {
   "cell_type": "code",
   "execution_count": 206,
   "metadata": {
    "slideshow": {
     "slide_type": "subslide"
    }
   },
   "outputs": [
    {
     "data": {
      "image/png": "[encoded data removed]",
      "text/plain": [
       "<Figure size 720x720 with 6 Axes>"
      ]
     },
     "metadata": {
      "needs_background": "light"
     },
     "output_type": "display_data"
    }
   ],
   "source": [
    "# Eddy Edit:\n",
    "\n",
    "fig = plt.figure(figsize=(10,10))\n",
    "ax1 = fig.add_subplot(3,2,1)\n",
    "ax2 = fig.add_subplot(3,2,2)\n",
    "ax3 = fig.add_subplot(3,2,3)\n",
    "ax4 = fig.add_subplot(3,2,4)\n",
    "ax5 = fig.add_subplot(3,2,5)\n",
    "ax6 = fig.add_subplot(3,2,6)\n",
    "\n",
    "ax1.boxplot(Longitudinal_df['ASF'])\n",
    "ax2.boxplot(Longitudinal_df['nWBV'])\n",
    "ax3.boxplot(Longitudinal_df['eTIV'])\n",
    "ax4.boxplot(Longitudinal_df['CDR'])\n",
    "ax5.boxplot(Longitudinal_df['MMSE'])\n",
    "ax6.boxplot(Longitudinal_df['Age'])\n",
    "\n",
    "ax1.set_title('ASF')\n",
    "ax2.set_title('nWBV')\n",
    "ax3.set_title('eTIV')\n",
    "ax4.set_title('CDR')\n",
    "ax5.set_title('MMSE')\n",
    "ax6.set_title('Age')\n",
    "\n",
    "plt.subplots_adjust(wspace = 0.5, hspace = 0.75)"
   ]
  },
  {
   "cell_type": "markdown",
   "metadata": {
    "slideshow": {
     "slide_type": "slide"
    }
   },
   "source": [
    "#### Check for Outliers in Cross-Sectional Dataset:"
   ]
  },
  {
   "cell_type": "code",
   "execution_count": 207,
   "metadata": {
    "slideshow": {
     "slide_type": "subslide"
    }
   },
   "outputs": [
    {
     "data": {
      "image/png": "[encoded data removed]",
      "text/plain": [
       "<Figure size 720x720 with 6 Axes>"
      ]
     },
     "metadata": {
      "needs_background": "light"
     },
     "output_type": "display_data"
    }
   ],
   "source": [
    "# Eddy Edit:\n",
    "\n",
    "fig = plt.figure(figsize=(10,10))\n",
    "ax1 = fig.add_subplot(3,2,1)\n",
    "ax2 = fig.add_subplot(3,2,2)\n",
    "ax3 = fig.add_subplot(3,2,3)\n",
    "ax4 = fig.add_subplot(3,2,4)\n",
    "ax5 = fig.add_subplot(3,2,5)\n",
    "ax6 = fig.add_subplot(3,2,6)\n",
    "\n",
    "ax1.boxplot(crossSectional_df['ASF'])\n",
    "ax2.boxplot(crossSectional_df['nWBV'])\n",
    "ax3.boxplot(crossSectional_df['eTIV'])\n",
    "ax4.boxplot(crossSectional_df['CDR'])\n",
    "ax5.boxplot(crossSectional_df['MMSE'])\n",
    "ax6.boxplot(crossSectional_df['Age'])\n",
    "\n",
    "ax1.set_title('ASF')\n",
    "ax2.set_title('nWBV')\n",
    "ax3.set_title('eTIV')\n",
    "ax4.set_title('CDR')\n",
    "ax5.set_title('MMSE')\n",
    "ax6.set_title('Age')\n",
    "\n",
    "plt.subplots_adjust(wspace = 0.5, hspace = 0.75)"
   ]
  },
  {
   "cell_type": "markdown",
   "metadata": {
    "slideshow": {
     "slide_type": "slide"
    }
   },
   "source": [
    "### Basic descriptive statistics of both datasets"
   ]
  },
  {
   "cell_type": "code",
   "execution_count": 208,
   "metadata": {
    "slideshow": {
     "slide_type": "subslide"
    }
   },
   "outputs": [
    {
     "data": {
      "text/html": [
       "<div>\n",
       "<style scoped>\n",
       "    .dataframe tbody tr th:only-of-type {\n",
       "        vertical-align: middle;\n",
       "    }\n",
       "\n",
       "    .dataframe tbody tr th {\n",
       "        vertical-align: top;\n",
       "    }\n",
       "\n",
       "    .dataframe thead th {\n",
       "        text-align: right;\n",
       "    }\n",
       "</style>\n",
       "<table border=\"1\" class=\"dataframe\">\n",
       "  <thead>\n",
       "    <tr style=\"text-align: right;\">\n",
       "      <th></th>\n",
       "      <th>Visit</th>\n",
       "      <th>MR Delay</th>\n",
       "      <th>Age</th>\n",
       "      <th>EDUC</th>\n",
       "      <th>SES</th>\n",
       "      <th>MMSE</th>\n",
       "      <th>CDR</th>\n",
       "      <th>eTIV</th>\n",
       "      <th>nWBV</th>\n",
       "      <th>ASF</th>\n",
       "    </tr>\n",
       "  </thead>\n",
       "  <tbody>\n",
       "    <tr>\n",
       "      <th>count</th>\n",
       "      <td>150.0</td>\n",
       "      <td>150.0</td>\n",
       "      <td>150.000000</td>\n",
       "      <td>150.000000</td>\n",
       "      <td>150.000000</td>\n",
       "      <td>150.00000</td>\n",
       "      <td>150.000000</td>\n",
       "      <td>150.000000</td>\n",
       "      <td>150.000000</td>\n",
       "      <td>150.000000</td>\n",
       "    </tr>\n",
       "    <tr>\n",
       "      <th>mean</th>\n",
       "      <td>1.0</td>\n",
       "      <td>0.0</td>\n",
       "      <td>75.446667</td>\n",
       "      <td>14.533333</td>\n",
       "      <td>2.486667</td>\n",
       "      <td>27.56000</td>\n",
       "      <td>0.260000</td>\n",
       "      <td>1474.426667</td>\n",
       "      <td>0.736073</td>\n",
       "      <td>1.206333</td>\n",
       "    </tr>\n",
       "    <tr>\n",
       "      <th>std</th>\n",
       "      <td>0.0</td>\n",
       "      <td>0.0</td>\n",
       "      <td>7.545421</td>\n",
       "      <td>2.874714</td>\n",
       "      <td>1.127667</td>\n",
       "      <td>2.96847</td>\n",
       "      <td>0.326256</td>\n",
       "      <td>174.683889</td>\n",
       "      <td>0.036458</td>\n",
       "      <td>0.137864</td>\n",
       "    </tr>\n",
       "    <tr>\n",
       "      <th>min</th>\n",
       "      <td>1.0</td>\n",
       "      <td>0.0</td>\n",
       "      <td>60.000000</td>\n",
       "      <td>6.000000</td>\n",
       "      <td>1.000000</td>\n",
       "      <td>17.00000</td>\n",
       "      <td>0.000000</td>\n",
       "      <td>1123.000000</td>\n",
       "      <td>0.660000</td>\n",
       "      <td>0.883000</td>\n",
       "    </tr>\n",
       "    <tr>\n",
       "      <th>25%</th>\n",
       "      <td>1.0</td>\n",
       "      <td>0.0</td>\n",
       "      <td>70.000000</td>\n",
       "      <td>12.000000</td>\n",
       "      <td>2.000000</td>\n",
       "      <td>26.00000</td>\n",
       "      <td>0.000000</td>\n",
       "      <td>1347.250000</td>\n",
       "      <td>0.710000</td>\n",
       "      <td>1.121000</td>\n",
       "    </tr>\n",
       "    <tr>\n",
       "      <th>50%</th>\n",
       "      <td>1.0</td>\n",
       "      <td>0.0</td>\n",
       "      <td>75.000000</td>\n",
       "      <td>14.000000</td>\n",
       "      <td>2.000000</td>\n",
       "      <td>29.00000</td>\n",
       "      <td>0.000000</td>\n",
       "      <td>1453.500000</td>\n",
       "      <td>0.735000</td>\n",
       "      <td>1.207500</td>\n",
       "    </tr>\n",
       "    <tr>\n",
       "      <th>75%</th>\n",
       "      <td>1.0</td>\n",
       "      <td>0.0</td>\n",
       "      <td>80.000000</td>\n",
       "      <td>16.000000</td>\n",
       "      <td>3.000000</td>\n",
       "      <td>30.00000</td>\n",
       "      <td>0.500000</td>\n",
       "      <td>1565.250000</td>\n",
       "      <td>0.757750</td>\n",
       "      <td>1.302750</td>\n",
       "    </tr>\n",
       "    <tr>\n",
       "      <th>max</th>\n",
       "      <td>1.0</td>\n",
       "      <td>0.0</td>\n",
       "      <td>96.000000</td>\n",
       "      <td>23.000000</td>\n",
       "      <td>5.000000</td>\n",
       "      <td>30.00000</td>\n",
       "      <td>1.000000</td>\n",
       "      <td>1987.000000</td>\n",
       "      <td>0.837000</td>\n",
       "      <td>1.563000</td>\n",
       "    </tr>\n",
       "  </tbody>\n",
       "</table>\n",
       "</div>"
      ],
      "text/plain": [
       "       Visit  MR Delay         Age        EDUC         SES       MMSE  \\\n",
       "count  150.0     150.0  150.000000  150.000000  150.000000  150.00000   \n",
       "mean     1.0       0.0   75.446667   14.533333    2.486667   27.56000   \n",
       "std      0.0       0.0    7.545421    2.874714    1.127667    2.96847   \n",
       "min      1.0       0.0   60.000000    6.000000    1.000000   17.00000   \n",
       "25%      1.0       0.0   70.000000   12.000000    2.000000   26.00000   \n",
       "50%      1.0       0.0   75.000000   14.000000    2.000000   29.00000   \n",
       "75%      1.0       0.0   80.000000   16.000000    3.000000   30.00000   \n",
       "max      1.0       0.0   96.000000   23.000000    5.000000   30.00000   \n",
       "\n",
       "              CDR         eTIV        nWBV         ASF  \n",
       "count  150.000000   150.000000  150.000000  150.000000  \n",
       "mean     0.260000  1474.426667    0.736073    1.206333  \n",
       "std      0.326256   174.683889    0.036458    0.137864  \n",
       "min      0.000000  1123.000000    0.660000    0.883000  \n",
       "25%      0.000000  1347.250000    0.710000    1.121000  \n",
       "50%      0.000000  1453.500000    0.735000    1.207500  \n",
       "75%      0.500000  1565.250000    0.757750    1.302750  \n",
       "max      1.000000  1987.000000    0.837000    1.563000  "
      ]
     },
     "execution_count": 208,
     "metadata": {},
     "output_type": "execute_result"
    }
   ],
   "source": [
    "Longitudinal_df.describe()"
   ]
  },
  {
   "cell_type": "code",
   "execution_count": 209,
   "metadata": {
    "slideshow": {
     "slide_type": "subslide"
    }
   },
   "outputs": [
    {
     "data": {
      "text/html": [
       "<div>\n",
       "<style scoped>\n",
       "    .dataframe tbody tr th:only-of-type {\n",
       "        vertical-align: middle;\n",
       "    }\n",
       "\n",
       "    .dataframe tbody tr th {\n",
       "        vertical-align: top;\n",
       "    }\n",
       "\n",
       "    .dataframe thead th {\n",
       "        text-align: right;\n",
       "    }\n",
       "</style>\n",
       "<table border=\"1\" class=\"dataframe\">\n",
       "  <thead>\n",
       "    <tr style=\"text-align: right;\">\n",
       "      <th></th>\n",
       "      <th>Age</th>\n",
       "      <th>Educ</th>\n",
       "      <th>SES</th>\n",
       "      <th>MMSE</th>\n",
       "      <th>CDR</th>\n",
       "      <th>eTIV</th>\n",
       "      <th>nWBV</th>\n",
       "      <th>ASF</th>\n",
       "      <th>Delay</th>\n",
       "    </tr>\n",
       "  </thead>\n",
       "  <tbody>\n",
       "    <tr>\n",
       "      <th>count</th>\n",
       "      <td>436.000000</td>\n",
       "      <td>436.000000</td>\n",
       "      <td>436.000000</td>\n",
       "      <td>436.000000</td>\n",
       "      <td>436.000000</td>\n",
       "      <td>436.000000</td>\n",
       "      <td>436.000000</td>\n",
       "      <td>436.000000</td>\n",
       "      <td>436.000000</td>\n",
       "    </tr>\n",
       "    <tr>\n",
       "      <th>mean</th>\n",
       "      <td>51.357798</td>\n",
       "      <td>3.240826</td>\n",
       "      <td>2.371560</td>\n",
       "      <td>26.924312</td>\n",
       "      <td>0.275229</td>\n",
       "      <td>1481.919725</td>\n",
       "      <td>0.791670</td>\n",
       "      <td>1.198894</td>\n",
       "      <td>1.896789</td>\n",
       "    </tr>\n",
       "    <tr>\n",
       "      <th>std</th>\n",
       "      <td>25.269862</td>\n",
       "      <td>1.242646</td>\n",
       "      <td>1.067608</td>\n",
       "      <td>3.680487</td>\n",
       "      <td>0.360308</td>\n",
       "      <td>158.740866</td>\n",
       "      <td>0.059937</td>\n",
       "      <td>0.128682</td>\n",
       "      <td>6.452720</td>\n",
       "    </tr>\n",
       "    <tr>\n",
       "      <th>min</th>\n",
       "      <td>18.000000</td>\n",
       "      <td>1.000000</td>\n",
       "      <td>1.000000</td>\n",
       "      <td>14.000000</td>\n",
       "      <td>0.000000</td>\n",
       "      <td>1123.000000</td>\n",
       "      <td>0.644000</td>\n",
       "      <td>0.881000</td>\n",
       "      <td>1.000000</td>\n",
       "    </tr>\n",
       "    <tr>\n",
       "      <th>25%</th>\n",
       "      <td>23.000000</td>\n",
       "      <td>2.000000</td>\n",
       "      <td>1.000000</td>\n",
       "      <td>26.000000</td>\n",
       "      <td>0.000000</td>\n",
       "      <td>1367.750000</td>\n",
       "      <td>0.742750</td>\n",
       "      <td>1.111750</td>\n",
       "      <td>1.000000</td>\n",
       "    </tr>\n",
       "    <tr>\n",
       "      <th>50%</th>\n",
       "      <td>54.000000</td>\n",
       "      <td>3.000000</td>\n",
       "      <td>2.000000</td>\n",
       "      <td>28.000000</td>\n",
       "      <td>0.000000</td>\n",
       "      <td>1475.500000</td>\n",
       "      <td>0.809000</td>\n",
       "      <td>1.190000</td>\n",
       "      <td>1.000000</td>\n",
       "    </tr>\n",
       "    <tr>\n",
       "      <th>75%</th>\n",
       "      <td>74.000000</td>\n",
       "      <td>4.000000</td>\n",
       "      <td>3.000000</td>\n",
       "      <td>30.000000</td>\n",
       "      <td>0.500000</td>\n",
       "      <td>1579.250000</td>\n",
       "      <td>0.842000</td>\n",
       "      <td>1.284250</td>\n",
       "      <td>1.000000</td>\n",
       "    </tr>\n",
       "    <tr>\n",
       "      <th>max</th>\n",
       "      <td>96.000000</td>\n",
       "      <td>5.000000</td>\n",
       "      <td>5.000000</td>\n",
       "      <td>30.000000</td>\n",
       "      <td>2.000000</td>\n",
       "      <td>1992.000000</td>\n",
       "      <td>0.893000</td>\n",
       "      <td>1.563000</td>\n",
       "      <td>89.000000</td>\n",
       "    </tr>\n",
       "  </tbody>\n",
       "</table>\n",
       "</div>"
      ],
      "text/plain": [
       "              Age        Educ         SES        MMSE         CDR  \\\n",
       "count  436.000000  436.000000  436.000000  436.000000  436.000000   \n",
       "mean    51.357798    3.240826    2.371560   26.924312    0.275229   \n",
       "std     25.269862    1.242646    1.067608    3.680487    0.360308   \n",
       "min     18.000000    1.000000    1.000000   14.000000    0.000000   \n",
       "25%     23.000000    2.000000    1.000000   26.000000    0.000000   \n",
       "50%     54.000000    3.000000    2.000000   28.000000    0.000000   \n",
       "75%     74.000000    4.000000    3.000000   30.000000    0.500000   \n",
       "max     96.000000    5.000000    5.000000   30.000000    2.000000   \n",
       "\n",
       "              eTIV        nWBV         ASF       Delay  \n",
       "count   436.000000  436.000000  436.000000  436.000000  \n",
       "mean   1481.919725    0.791670    1.198894    1.896789  \n",
       "std     158.740866    0.059937    0.128682    6.452720  \n",
       "min    1123.000000    0.644000    0.881000    1.000000  \n",
       "25%    1367.750000    0.742750    1.111750    1.000000  \n",
       "50%    1475.500000    0.809000    1.190000    1.000000  \n",
       "75%    1579.250000    0.842000    1.284250    1.000000  \n",
       "max    1992.000000    0.893000    1.563000   89.000000  "
      ]
     },
     "execution_count": 209,
     "metadata": {},
     "output_type": "execute_result"
    }
   ],
   "source": [
    "crossSectional_df.describe()"
   ]
  },
  {
   "cell_type": "markdown",
   "metadata": {
    "slideshow": {
     "slide_type": "slide"
    }
   },
   "source": [
    "### Average  and education levels  for males and females (Cross-Sectional Dataset): \n"
   ]
  },
  {
   "cell_type": "code",
   "execution_count": 210,
   "metadata": {
    "slideshow": {
     "slide_type": "subslide"
    }
   },
   "outputs": [
    {
     "data": {
      "text/html": [
       "<div>\n",
       "<style scoped>\n",
       "    .dataframe tbody tr th:only-of-type {\n",
       "        vertical-align: middle;\n",
       "    }\n",
       "\n",
       "    .dataframe tbody tr th {\n",
       "        vertical-align: top;\n",
       "    }\n",
       "\n",
       "    .dataframe thead th {\n",
       "        text-align: right;\n",
       "    }\n",
       "</style>\n",
       "<table border=\"1\" class=\"dataframe\">\n",
       "  <thead>\n",
       "    <tr style=\"text-align: right;\">\n",
       "      <th>Educ</th>\n",
       "      <th>1.0</th>\n",
       "      <th>2.0</th>\n",
       "      <th>3.0</th>\n",
       "      <th>4.0</th>\n",
       "      <th>5.0</th>\n",
       "    </tr>\n",
       "    <tr>\n",
       "      <th>M/F</th>\n",
       "      <th></th>\n",
       "      <th></th>\n",
       "      <th></th>\n",
       "      <th></th>\n",
       "      <th></th>\n",
       "    </tr>\n",
       "  </thead>\n",
       "  <tbody>\n",
       "    <tr>\n",
       "      <th>F</th>\n",
       "      <td>60.652174</td>\n",
       "      <td>56.573529</td>\n",
       "      <td>52.703125</td>\n",
       "      <td>50.109091</td>\n",
       "      <td>50.551724</td>\n",
       "    </tr>\n",
       "    <tr>\n",
       "      <th>M</th>\n",
       "      <td>75.333333</td>\n",
       "      <td>50.071429</td>\n",
       "      <td>36.390244</td>\n",
       "      <td>47.136364</td>\n",
       "      <td>54.437500</td>\n",
       "    </tr>\n",
       "  </tbody>\n",
       "</table>\n",
       "</div>"
      ],
      "text/plain": [
       "Educ        1.0        2.0        3.0        4.0        5.0\n",
       "M/F                                                        \n",
       "F     60.652174  56.573529  52.703125  50.109091  50.551724\n",
       "M     75.333333  50.071429  36.390244  47.136364  54.437500"
      ]
     },
     "execution_count": 210,
     "metadata": {},
     "output_type": "execute_result"
    }
   ],
   "source": [
    "# Eddy Edit:\n",
    "\n",
    "means_cross = crossSectional_df['Age'].groupby([crossSectional_df['M/F'], crossSectional_df['Educ']]).mean()\n",
    "means_cross.unstack()"
   ]
  },
  {
   "cell_type": "code",
   "execution_count": 211,
   "metadata": {
    "slideshow": {
     "slide_type": "subslide"
    }
   },
   "outputs": [
    {
     "data": {
      "text/html": [
       "<div>\n",
       "<style scoped>\n",
       "    .dataframe tbody tr th:only-of-type {\n",
       "        vertical-align: middle;\n",
       "    }\n",
       "\n",
       "    .dataframe tbody tr th {\n",
       "        vertical-align: top;\n",
       "    }\n",
       "\n",
       "    .dataframe thead th {\n",
       "        text-align: right;\n",
       "    }\n",
       "</style>\n",
       "<table border=\"1\" class=\"dataframe\">\n",
       "  <thead>\n",
       "    <tr style=\"text-align: right;\">\n",
       "      <th></th>\n",
       "      <th>Age</th>\n",
       "    </tr>\n",
       "    <tr>\n",
       "      <th>M/F</th>\n",
       "      <th></th>\n",
       "    </tr>\n",
       "  </thead>\n",
       "  <tbody>\n",
       "    <tr>\n",
       "      <th>F</th>\n",
       "      <td>53.369403</td>\n",
       "    </tr>\n",
       "    <tr>\n",
       "      <th>M</th>\n",
       "      <td>48.148810</td>\n",
       "    </tr>\n",
       "  </tbody>\n",
       "</table>\n",
       "</div>"
      ],
      "text/plain": [
       "           Age\n",
       "M/F           \n",
       "F    53.369403\n",
       "M    48.148810"
      ]
     },
     "execution_count": 211,
     "metadata": {},
     "output_type": "execute_result"
    }
   ],
   "source": [
    "crossSectional_df.loc[:,[\"M/F\",\"Age\"]].groupby([\"M/F\"]).mean()"
   ]
  },
  {
   "cell_type": "markdown",
   "metadata": {
    "slideshow": {
     "slide_type": "slide"
    }
   },
   "source": [
    "### Average age for males and females (Longituinal Dataset): "
   ]
  },
  {
   "cell_type": "code",
   "execution_count": 212,
   "metadata": {
    "slideshow": {
     "slide_type": "subslide"
    }
   },
   "outputs": [
    {
     "data": {
      "text/html": [
       "<div>\n",
       "<style scoped>\n",
       "    .dataframe tbody tr th:only-of-type {\n",
       "        vertical-align: middle;\n",
       "    }\n",
       "\n",
       "    .dataframe tbody tr th {\n",
       "        vertical-align: top;\n",
       "    }\n",
       "\n",
       "    .dataframe thead th {\n",
       "        text-align: right;\n",
       "    }\n",
       "</style>\n",
       "<table border=\"1\" class=\"dataframe\">\n",
       "  <thead>\n",
       "    <tr style=\"text-align: right;\">\n",
       "      <th>EDUC</th>\n",
       "      <th>6</th>\n",
       "      <th>8</th>\n",
       "      <th>11</th>\n",
       "      <th>12</th>\n",
       "      <th>13</th>\n",
       "      <th>14</th>\n",
       "      <th>15</th>\n",
       "      <th>16</th>\n",
       "      <th>17</th>\n",
       "      <th>18</th>\n",
       "      <th>20</th>\n",
       "      <th>23</th>\n",
       "    </tr>\n",
       "    <tr>\n",
       "      <th>M/F</th>\n",
       "      <th></th>\n",
       "      <th></th>\n",
       "      <th></th>\n",
       "      <th></th>\n",
       "      <th></th>\n",
       "      <th></th>\n",
       "      <th></th>\n",
       "      <th></th>\n",
       "      <th></th>\n",
       "      <th></th>\n",
       "      <th></th>\n",
       "      <th></th>\n",
       "    </tr>\n",
       "  </thead>\n",
       "  <tbody>\n",
       "    <tr>\n",
       "      <th>F</th>\n",
       "      <td>NaN</td>\n",
       "      <td>76.333333</td>\n",
       "      <td>72.5</td>\n",
       "      <td>77.083333</td>\n",
       "      <td>74.875</td>\n",
       "      <td>78.25</td>\n",
       "      <td>76.0</td>\n",
       "      <td>72.588235</td>\n",
       "      <td>83.0</td>\n",
       "      <td>75.5</td>\n",
       "      <td>NaN</td>\n",
       "      <td>92.0</td>\n",
       "    </tr>\n",
       "    <tr>\n",
       "      <th>M</th>\n",
       "      <td>84.0</td>\n",
       "      <td>88.000000</td>\n",
       "      <td>81.0</td>\n",
       "      <td>74.684211</td>\n",
       "      <td>70.000</td>\n",
       "      <td>76.60</td>\n",
       "      <td>74.0</td>\n",
       "      <td>74.933333</td>\n",
       "      <td>80.0</td>\n",
       "      <td>71.5</td>\n",
       "      <td>76.2</td>\n",
       "      <td>NaN</td>\n",
       "    </tr>\n",
       "  </tbody>\n",
       "</table>\n",
       "</div>"
      ],
      "text/plain": [
       "EDUC    6          8     11         12      13     14    15         16    17  \\\n",
       "M/F                                                                            \n",
       "F      NaN  76.333333  72.5  77.083333  74.875  78.25  76.0  72.588235  83.0   \n",
       "M     84.0  88.000000  81.0  74.684211  70.000  76.60  74.0  74.933333  80.0   \n",
       "\n",
       "EDUC    18    20    23  \n",
       "M/F                     \n",
       "F     75.5   NaN  92.0  \n",
       "M     71.5  76.2   NaN  "
      ]
     },
     "execution_count": 212,
     "metadata": {},
     "output_type": "execute_result"
    }
   ],
   "source": [
    "# Eddy Edit:\n",
    "\n",
    "means_long = Longitudinal_df['Age'].groupby([Longitudinal_df['M/F'], Longitudinal_df['EDUC']]).mean()\n",
    "means_long.unstack()"
   ]
  },
  {
   "cell_type": "code",
   "execution_count": 213,
   "metadata": {
    "slideshow": {
     "slide_type": "subslide"
    }
   },
   "outputs": [
    {
     "data": {
      "text/html": [
       "<div>\n",
       "<style scoped>\n",
       "    .dataframe tbody tr th:only-of-type {\n",
       "        vertical-align: middle;\n",
       "    }\n",
       "\n",
       "    .dataframe tbody tr th {\n",
       "        vertical-align: top;\n",
       "    }\n",
       "\n",
       "    .dataframe thead th {\n",
       "        text-align: right;\n",
       "    }\n",
       "</style>\n",
       "<table border=\"1\" class=\"dataframe\">\n",
       "  <thead>\n",
       "    <tr style=\"text-align: right;\">\n",
       "      <th></th>\n",
       "      <th>Age</th>\n",
       "    </tr>\n",
       "    <tr>\n",
       "      <th>M/F</th>\n",
       "      <th></th>\n",
       "    </tr>\n",
       "  </thead>\n",
       "  <tbody>\n",
       "    <tr>\n",
       "      <th>F</th>\n",
       "      <td>75.840909</td>\n",
       "    </tr>\n",
       "    <tr>\n",
       "      <th>M</th>\n",
       "      <td>74.887097</td>\n",
       "    </tr>\n",
       "  </tbody>\n",
       "</table>\n",
       "</div>"
      ],
      "text/plain": [
       "           Age\n",
       "M/F           \n",
       "F    75.840909\n",
       "M    74.887097"
      ]
     },
     "execution_count": 213,
     "metadata": {},
     "output_type": "execute_result"
    }
   ],
   "source": [
    "Longitudinal_df.loc[:,[\"M/F\",\"Age\"]].groupby([\"M/F\"]).mean()"
   ]
  },
  {
   "cell_type": "markdown",
   "metadata": {
    "slideshow": {
     "slide_type": "slide"
    }
   },
   "source": [
    "### Average parameter values and number of visits for Demented/NonDemented patients"
   ]
  },
  {
   "cell_type": "code",
   "execution_count": 214,
   "metadata": {
    "slideshow": {
     "slide_type": "subslide"
    }
   },
   "outputs": [
    {
     "data": {
      "text/html": [
       "<div>\n",
       "<style scoped>\n",
       "    .dataframe tbody tr th:only-of-type {\n",
       "        vertical-align: middle;\n",
       "    }\n",
       "\n",
       "    .dataframe tbody tr th {\n",
       "        vertical-align: top;\n",
       "    }\n",
       "\n",
       "    .dataframe thead th {\n",
       "        text-align: right;\n",
       "    }\n",
       "</style>\n",
       "<table border=\"1\" class=\"dataframe\">\n",
       "  <thead>\n",
       "    <tr style=\"text-align: right;\">\n",
       "      <th></th>\n",
       "      <th>ASF</th>\n",
       "      <th>Age</th>\n",
       "      <th>CDR</th>\n",
       "      <th>EDUC</th>\n",
       "      <th>MMSE</th>\n",
       "      <th>MR Delay</th>\n",
       "      <th>SES</th>\n",
       "      <th>Visit</th>\n",
       "      <th>eTIV</th>\n",
       "      <th>nWBV</th>\n",
       "    </tr>\n",
       "    <tr>\n",
       "      <th>Group</th>\n",
       "      <th></th>\n",
       "      <th></th>\n",
       "      <th></th>\n",
       "      <th></th>\n",
       "      <th></th>\n",
       "      <th></th>\n",
       "      <th></th>\n",
       "      <th></th>\n",
       "      <th></th>\n",
       "      <th></th>\n",
       "    </tr>\n",
       "  </thead>\n",
       "  <tbody>\n",
       "    <tr>\n",
       "      <th>Converted</th>\n",
       "      <td>1.229429</td>\n",
       "      <td>77.071429</td>\n",
       "      <td>0.035714</td>\n",
       "      <td>15.142857</td>\n",
       "      <td>29.357143</td>\n",
       "      <td>0</td>\n",
       "      <td>1.857143</td>\n",
       "      <td>1</td>\n",
       "      <td>1438.285714</td>\n",
       "      <td>0.737786</td>\n",
       "    </tr>\n",
       "    <tr>\n",
       "      <th>Demented</th>\n",
       "      <td>1.204719</td>\n",
       "      <td>75.109375</td>\n",
       "      <td>0.601562</td>\n",
       "      <td>13.687500</td>\n",
       "      <td>25.328125</td>\n",
       "      <td>0</td>\n",
       "      <td>2.703125</td>\n",
       "      <td>1</td>\n",
       "      <td>1475.937500</td>\n",
       "      <td>0.724391</td>\n",
       "    </tr>\n",
       "    <tr>\n",
       "      <th>Nondemented</th>\n",
       "      <td>1.203278</td>\n",
       "      <td>75.430556</td>\n",
       "      <td>0.000000</td>\n",
       "      <td>15.166667</td>\n",
       "      <td>29.194444</td>\n",
       "      <td>0</td>\n",
       "      <td>2.416667</td>\n",
       "      <td>1</td>\n",
       "      <td>1480.111111</td>\n",
       "      <td>0.746125</td>\n",
       "    </tr>\n",
       "  </tbody>\n",
       "</table>\n",
       "</div>"
      ],
      "text/plain": [
       "                  ASF        Age       CDR       EDUC       MMSE  MR Delay  \\\n",
       "Group                                                                        \n",
       "Converted    1.229429  77.071429  0.035714  15.142857  29.357143         0   \n",
       "Demented     1.204719  75.109375  0.601562  13.687500  25.328125         0   \n",
       "Nondemented  1.203278  75.430556  0.000000  15.166667  29.194444         0   \n",
       "\n",
       "                  SES  Visit         eTIV      nWBV  \n",
       "Group                                                \n",
       "Converted    1.857143      1  1438.285714  0.737786  \n",
       "Demented     2.703125      1  1475.937500  0.724391  \n",
       "Nondemented  2.416667      1  1480.111111  0.746125  "
      ]
     },
     "execution_count": 214,
     "metadata": {},
     "output_type": "execute_result"
    }
   ],
   "source": [
    "Longitudinal_df.pivot_table(index=[\"Group\"])"
   ]
  },
  {
   "cell_type": "markdown",
   "metadata": {
    "slideshow": {
     "slide_type": "slide"
    }
   },
   "source": [
    "### Binning of Age Variable\n",
    "\n",
    "First we analyze the distribution of the variable \"Age\" in order to determine how to appropriately bin it to perform further analysis in cross tabulation\n",
    "\n",
    "\n"
   ]
  },
  {
   "cell_type": "code",
   "execution_count": 215,
   "metadata": {
    "slideshow": {
     "slide_type": "subslide"
    }
   },
   "outputs": [
    {
     "data": {
      "text/plain": [
       "(array([ 8., 14., 20., 28., 22., 28., 12., 10.,  6.,  2.]),\n",
       " array([60. , 63.6, 67.2, 70.8, 74.4, 78. , 81.6, 85.2, 88.8, 92.4, 96. ]),\n",
       " <a list of 10 Patch objects>)"
      ]
     },
     "execution_count": 215,
     "metadata": {},
     "output_type": "execute_result"
    },
    {
     "data": {
      "image/png": "[encoded data removed]",
      "text/plain": [
       "<Figure size 432x288 with 1 Axes>"
      ]
     },
     "metadata": {
      "needs_background": "light"
     },
     "output_type": "display_data"
    }
   ],
   "source": [
    "plt.hist(Longitudinal_df[\"Age\"])"
   ]
  },
  {
   "cell_type": "markdown",
   "metadata": {
    "slideshow": {
     "slide_type": "slide"
    }
   },
   "source": [
    "Categories for binning \n",
    "\n",
    "60<age<70 = Lower bracket \n",
    "\n",
    "70<age<80 = Lower middle bracket \n",
    "\n",
    "80<age<90 = Upper middle bracket\n",
    "\n",
    "90<age = Upper bracket \n"
   ]
  },
  {
   "cell_type": "code",
   "execution_count": 216,
   "metadata": {
    "slideshow": {
     "slide_type": "subslide"
    }
   },
   "outputs": [],
   "source": [
    "def Bin_Age(dataset,column=\"Age\"):\n",
    "    dataset.loc[(dataset[column]>=60)&(dataset[column]<70),\"Age_Binned\"]=\"Lower Bracket\"\n",
    "    dataset.loc[(dataset[column]>=70)&(dataset[column]<80),\"Age_Binned\"]=\"Lower middle Bracket\"\n",
    "    dataset.loc[(dataset[column]>=80)&(dataset[column]<90),\"Age_Binned\"]=\"Upper middle Bracket\"\n",
    "    dataset.loc[(dataset[column]>=90),\"Age_Binned\"]=\"Upper middle Bracket\"\n",
    "    dataset.loc[(dataset[column]<60),\"Age_Binned\"]=\"Middle Age\""
   ]
  },
  {
   "cell_type": "code",
   "execution_count": 217,
   "metadata": {
    "slideshow": {
     "slide_type": "subslide"
    }
   },
   "outputs": [
    {
     "data": {
      "text/html": [
       "<div>\n",
       "<style scoped>\n",
       "    .dataframe tbody tr th:only-of-type {\n",
       "        vertical-align: middle;\n",
       "    }\n",
       "\n",
       "    .dataframe tbody tr th {\n",
       "        vertical-align: top;\n",
       "    }\n",
       "\n",
       "    .dataframe thead th {\n",
       "        text-align: right;\n",
       "    }\n",
       "</style>\n",
       "<table border=\"1\" class=\"dataframe\">\n",
       "  <thead>\n",
       "    <tr style=\"text-align: right;\">\n",
       "      <th></th>\n",
       "      <th>Subject ID</th>\n",
       "      <th>MRI ID</th>\n",
       "      <th>Group</th>\n",
       "      <th>Visit</th>\n",
       "      <th>MR Delay</th>\n",
       "      <th>M/F</th>\n",
       "      <th>Hand</th>\n",
       "      <th>Age</th>\n",
       "      <th>EDUC</th>\n",
       "      <th>SES</th>\n",
       "      <th>MMSE</th>\n",
       "      <th>CDR</th>\n",
       "      <th>eTIV</th>\n",
       "      <th>nWBV</th>\n",
       "      <th>ASF</th>\n",
       "      <th>Age_Binned</th>\n",
       "    </tr>\n",
       "  </thead>\n",
       "  <tbody>\n",
       "    <tr>\n",
       "      <th>0</th>\n",
       "      <td>OAS2_0001</td>\n",
       "      <td>OAS2_0001_MR1</td>\n",
       "      <td>Nondemented</td>\n",
       "      <td>1</td>\n",
       "      <td>0</td>\n",
       "      <td>M</td>\n",
       "      <td>R</td>\n",
       "      <td>87</td>\n",
       "      <td>14</td>\n",
       "      <td>2.0</td>\n",
       "      <td>27.0</td>\n",
       "      <td>0.0</td>\n",
       "      <td>1987</td>\n",
       "      <td>0.696</td>\n",
       "      <td>0.883</td>\n",
       "      <td>Upper middle Bracket</td>\n",
       "    </tr>\n",
       "    <tr>\n",
       "      <th>2</th>\n",
       "      <td>OAS2_0002</td>\n",
       "      <td>OAS2_0002_MR1</td>\n",
       "      <td>Demented</td>\n",
       "      <td>1</td>\n",
       "      <td>0</td>\n",
       "      <td>M</td>\n",
       "      <td>R</td>\n",
       "      <td>75</td>\n",
       "      <td>12</td>\n",
       "      <td>2.0</td>\n",
       "      <td>23.0</td>\n",
       "      <td>0.5</td>\n",
       "      <td>1678</td>\n",
       "      <td>0.736</td>\n",
       "      <td>1.046</td>\n",
       "      <td>Lower middle Bracket</td>\n",
       "    </tr>\n",
       "    <tr>\n",
       "      <th>5</th>\n",
       "      <td>OAS2_0004</td>\n",
       "      <td>OAS2_0004_MR1</td>\n",
       "      <td>Nondemented</td>\n",
       "      <td>1</td>\n",
       "      <td>0</td>\n",
       "      <td>F</td>\n",
       "      <td>R</td>\n",
       "      <td>88</td>\n",
       "      <td>18</td>\n",
       "      <td>3.0</td>\n",
       "      <td>28.0</td>\n",
       "      <td>0.0</td>\n",
       "      <td>1215</td>\n",
       "      <td>0.710</td>\n",
       "      <td>1.444</td>\n",
       "      <td>Upper middle Bracket</td>\n",
       "    </tr>\n",
       "    <tr>\n",
       "      <th>7</th>\n",
       "      <td>OAS2_0005</td>\n",
       "      <td>OAS2_0005_MR1</td>\n",
       "      <td>Nondemented</td>\n",
       "      <td>1</td>\n",
       "      <td>0</td>\n",
       "      <td>M</td>\n",
       "      <td>R</td>\n",
       "      <td>80</td>\n",
       "      <td>12</td>\n",
       "      <td>4.0</td>\n",
       "      <td>28.0</td>\n",
       "      <td>0.0</td>\n",
       "      <td>1689</td>\n",
       "      <td>0.712</td>\n",
       "      <td>1.039</td>\n",
       "      <td>Upper middle Bracket</td>\n",
       "    </tr>\n",
       "    <tr>\n",
       "      <th>10</th>\n",
       "      <td>OAS2_0007</td>\n",
       "      <td>OAS2_0007_MR1</td>\n",
       "      <td>Demented</td>\n",
       "      <td>1</td>\n",
       "      <td>0</td>\n",
       "      <td>M</td>\n",
       "      <td>R</td>\n",
       "      <td>71</td>\n",
       "      <td>16</td>\n",
       "      <td>4.0</td>\n",
       "      <td>28.0</td>\n",
       "      <td>0.5</td>\n",
       "      <td>1357</td>\n",
       "      <td>0.748</td>\n",
       "      <td>1.293</td>\n",
       "      <td>Lower middle Bracket</td>\n",
       "    </tr>\n",
       "  </tbody>\n",
       "</table>\n",
       "</div>"
      ],
      "text/plain": [
       "   Subject ID         MRI ID        Group  Visit  MR Delay M/F Hand  Age  \\\n",
       "0   OAS2_0001  OAS2_0001_MR1  Nondemented      1         0   M    R   87   \n",
       "2   OAS2_0002  OAS2_0002_MR1     Demented      1         0   M    R   75   \n",
       "5   OAS2_0004  OAS2_0004_MR1  Nondemented      1         0   F    R   88   \n",
       "7   OAS2_0005  OAS2_0005_MR1  Nondemented      1         0   M    R   80   \n",
       "10  OAS2_0007  OAS2_0007_MR1     Demented      1         0   M    R   71   \n",
       "\n",
       "    EDUC  SES  MMSE  CDR  eTIV   nWBV    ASF            Age_Binned  \n",
       "0     14  2.0  27.0  0.0  1987  0.696  0.883  Upper middle Bracket  \n",
       "2     12  2.0  23.0  0.5  1678  0.736  1.046  Lower middle Bracket  \n",
       "5     18  3.0  28.0  0.0  1215  0.710  1.444  Upper middle Bracket  \n",
       "7     12  4.0  28.0  0.0  1689  0.712  1.039  Upper middle Bracket  \n",
       "10    16  4.0  28.0  0.5  1357  0.748  1.293  Lower middle Bracket  "
      ]
     },
     "execution_count": 217,
     "metadata": {},
     "output_type": "execute_result"
    }
   ],
   "source": [
    "Bin_Age(Longitudinal_df)\n",
    "Longitudinal_df.head(5)"
   ]
  },
  {
   "cell_type": "markdown",
   "metadata": {
    "slideshow": {
     "slide_type": "slide"
    }
   },
   "source": [
    "Check if there are missing values in the newly created column"
   ]
  },
  {
   "cell_type": "code",
   "execution_count": 218,
   "metadata": {
    "slideshow": {
     "slide_type": "subslide"
    }
   },
   "outputs": [
    {
     "data": {
      "text/plain": [
       "False"
      ]
     },
     "execution_count": 218,
     "metadata": {},
     "output_type": "execute_result"
    }
   ],
   "source": [
    "Longitudinal_df[\"Age_Binned\"].isna().any()"
   ]
  },
  {
   "cell_type": "markdown",
   "metadata": {
    "slideshow": {
     "slide_type": "subslide"
    }
   },
   "source": [
    "Pivot table for the effects of age and group in the MR scan measurements"
   ]
  },
  {
   "cell_type": "code",
   "execution_count": 219,
   "metadata": {
    "scrolled": false,
    "slideshow": {
     "slide_type": "subslide"
    }
   },
   "outputs": [
    {
     "data": {
      "text/html": [
       "<div>\n",
       "<style scoped>\n",
       "    .dataframe tbody tr th:only-of-type {\n",
       "        vertical-align: middle;\n",
       "    }\n",
       "\n",
       "    .dataframe tbody tr th {\n",
       "        vertical-align: top;\n",
       "    }\n",
       "\n",
       "    .dataframe thead th {\n",
       "        text-align: right;\n",
       "    }\n",
       "</style>\n",
       "<table border=\"1\" class=\"dataframe\">\n",
       "  <thead>\n",
       "    <tr style=\"text-align: right;\">\n",
       "      <th></th>\n",
       "      <th></th>\n",
       "      <th>ASF</th>\n",
       "      <th>Age</th>\n",
       "      <th>CDR</th>\n",
       "      <th>EDUC</th>\n",
       "      <th>MMSE</th>\n",
       "      <th>MR Delay</th>\n",
       "      <th>SES</th>\n",
       "      <th>Visit</th>\n",
       "      <th>eTIV</th>\n",
       "      <th>nWBV</th>\n",
       "    </tr>\n",
       "    <tr>\n",
       "      <th>Group</th>\n",
       "      <th>Age_Binned</th>\n",
       "      <th></th>\n",
       "      <th></th>\n",
       "      <th></th>\n",
       "      <th></th>\n",
       "      <th></th>\n",
       "      <th></th>\n",
       "      <th></th>\n",
       "      <th></th>\n",
       "      <th></th>\n",
       "      <th></th>\n",
       "    </tr>\n",
       "  </thead>\n",
       "  <tbody>\n",
       "    <tr>\n",
       "      <th rowspan=\"3\" valign=\"top\">Converted</th>\n",
       "      <th>Lower Bracket</th>\n",
       "      <td>1.268750</td>\n",
       "      <td>67.250000</td>\n",
       "      <td>0.125000</td>\n",
       "      <td>14.500000</td>\n",
       "      <td>30.000000</td>\n",
       "      <td>0</td>\n",
       "      <td>2.500000</td>\n",
       "      <td>1</td>\n",
       "      <td>1387.500000</td>\n",
       "      <td>0.774250</td>\n",
       "    </tr>\n",
       "    <tr>\n",
       "      <th>Lower middle Bracket</th>\n",
       "      <td>1.162250</td>\n",
       "      <td>76.250000</td>\n",
       "      <td>0.000000</td>\n",
       "      <td>15.500000</td>\n",
       "      <td>28.750000</td>\n",
       "      <td>0</td>\n",
       "      <td>1.500000</td>\n",
       "      <td>1</td>\n",
       "      <td>1528.000000</td>\n",
       "      <td>0.736750</td>\n",
       "    </tr>\n",
       "    <tr>\n",
       "      <th>Upper middle Bracket</th>\n",
       "      <td>1.248000</td>\n",
       "      <td>84.166667</td>\n",
       "      <td>0.000000</td>\n",
       "      <td>15.333333</td>\n",
       "      <td>29.333333</td>\n",
       "      <td>0</td>\n",
       "      <td>1.666667</td>\n",
       "      <td>1</td>\n",
       "      <td>1412.333333</td>\n",
       "      <td>0.714167</td>\n",
       "    </tr>\n",
       "    <tr>\n",
       "      <th rowspan=\"3\" valign=\"top\">Demented</th>\n",
       "      <th>Lower Bracket</th>\n",
       "      <td>1.166000</td>\n",
       "      <td>65.727273</td>\n",
       "      <td>0.636364</td>\n",
       "      <td>14.272727</td>\n",
       "      <td>24.818182</td>\n",
       "      <td>0</td>\n",
       "      <td>2.545455</td>\n",
       "      <td>1</td>\n",
       "      <td>1521.727273</td>\n",
       "      <td>0.746000</td>\n",
       "    </tr>\n",
       "    <tr>\n",
       "      <th>Lower middle Bracket</th>\n",
       "      <td>1.205139</td>\n",
       "      <td>73.972222</td>\n",
       "      <td>0.597222</td>\n",
       "      <td>13.833333</td>\n",
       "      <td>25.555556</td>\n",
       "      <td>0</td>\n",
       "      <td>2.722222</td>\n",
       "      <td>1</td>\n",
       "      <td>1477.166667</td>\n",
       "      <td>0.726333</td>\n",
       "    </tr>\n",
       "    <tr>\n",
       "      <th>Upper middle Bracket</th>\n",
       "      <td>1.228882</td>\n",
       "      <td>83.588235</td>\n",
       "      <td>0.588235</td>\n",
       "      <td>13.000000</td>\n",
       "      <td>25.176471</td>\n",
       "      <td>0</td>\n",
       "      <td>2.764706</td>\n",
       "      <td>1</td>\n",
       "      <td>1443.705882</td>\n",
       "      <td>0.706294</td>\n",
       "    </tr>\n",
       "    <tr>\n",
       "      <th rowspan=\"3\" valign=\"top\">Nondemented</th>\n",
       "      <th>Lower Bracket</th>\n",
       "      <td>1.233632</td>\n",
       "      <td>65.368421</td>\n",
       "      <td>0.000000</td>\n",
       "      <td>15.105263</td>\n",
       "      <td>29.368421</td>\n",
       "      <td>0</td>\n",
       "      <td>2.473684</td>\n",
       "      <td>1</td>\n",
       "      <td>1435.789474</td>\n",
       "      <td>0.783632</td>\n",
       "    </tr>\n",
       "    <tr>\n",
       "      <th>Lower middle Bracket</th>\n",
       "      <td>1.198226</td>\n",
       "      <td>74.741935</td>\n",
       "      <td>0.000000</td>\n",
       "      <td>15.645161</td>\n",
       "      <td>29.258065</td>\n",
       "      <td>0</td>\n",
       "      <td>2.258065</td>\n",
       "      <td>1</td>\n",
       "      <td>1484.354839</td>\n",
       "      <td>0.740097</td>\n",
       "    </tr>\n",
       "    <tr>\n",
       "      <th>Upper middle Bracket</th>\n",
       "      <td>1.184182</td>\n",
       "      <td>85.090909</td>\n",
       "      <td>0.000000</td>\n",
       "      <td>14.545455</td>\n",
       "      <td>28.954545</td>\n",
       "      <td>0</td>\n",
       "      <td>2.590909</td>\n",
       "      <td>1</td>\n",
       "      <td>1512.409091</td>\n",
       "      <td>0.722227</td>\n",
       "    </tr>\n",
       "  </tbody>\n",
       "</table>\n",
       "</div>"
      ],
      "text/plain": [
       "                                       ASF        Age       CDR       EDUC  \\\n",
       "Group       Age_Binned                                                       \n",
       "Converted   Lower Bracket         1.268750  67.250000  0.125000  14.500000   \n",
       "            Lower middle Bracket  1.162250  76.250000  0.000000  15.500000   \n",
       "            Upper middle Bracket  1.248000  84.166667  0.000000  15.333333   \n",
       "Demented    Lower Bracket         1.166000  65.727273  0.636364  14.272727   \n",
       "            Lower middle Bracket  1.205139  73.972222  0.597222  13.833333   \n",
       "            Upper middle Bracket  1.228882  83.588235  0.588235  13.000000   \n",
       "Nondemented Lower Bracket         1.233632  65.368421  0.000000  15.105263   \n",
       "            Lower middle Bracket  1.198226  74.741935  0.000000  15.645161   \n",
       "            Upper middle Bracket  1.184182  85.090909  0.000000  14.545455   \n",
       "\n",
       "                                       MMSE  MR Delay       SES  Visit  \\\n",
       "Group       Age_Binned                                                   \n",
       "Converted   Lower Bracket         30.000000         0  2.500000      1   \n",
       "            Lower middle Bracket  28.750000         0  1.500000      1   \n",
       "            Upper middle Bracket  29.333333         0  1.666667      1   \n",
       "Demented    Lower Bracket         24.818182         0  2.545455      1   \n",
       "            Lower middle Bracket  25.555556         0  2.722222      1   \n",
       "            Upper middle Bracket  25.176471         0  2.764706      1   \n",
       "Nondemented Lower Bracket         29.368421         0  2.473684      1   \n",
       "            Lower middle Bracket  29.258065         0  2.258065      1   \n",
       "            Upper middle Bracket  28.954545         0  2.590909      1   \n",
       "\n",
       "                                         eTIV      nWBV  \n",
       "Group       Age_Binned                                   \n",
       "Converted   Lower Bracket         1387.500000  0.774250  \n",
       "            Lower middle Bracket  1528.000000  0.736750  \n",
       "            Upper middle Bracket  1412.333333  0.714167  \n",
       "Demented    Lower Bracket         1521.727273  0.746000  \n",
       "            Lower middle Bracket  1477.166667  0.726333  \n",
       "            Upper middle Bracket  1443.705882  0.706294  \n",
       "Nondemented Lower Bracket         1435.789474  0.783632  \n",
       "            Lower middle Bracket  1484.354839  0.740097  \n",
       "            Upper middle Bracket  1512.409091  0.722227  "
      ]
     },
     "execution_count": 219,
     "metadata": {},
     "output_type": "execute_result"
    }
   ],
   "source": [
    "longitudinal_pivotTable=Longitudinal_df.pivot_table(index=[\"Group\",\"Age_Binned\"])\n",
    "longitudinal_pivotTable"
   ]
  },
  {
   "cell_type": "markdown",
   "metadata": {
    "slideshow": {
     "slide_type": "slide"
    }
   },
   "source": [
    "We needed a measured variable that showed a clear pattern between the Converted/Demented/NonDemented groups in order to build a function that would allow the prediction of the group in terms of a measured variable. The most clear pattern was detected for the variable CDR as shown in the barplot below."
   ]
  },
  {
   "cell_type": "code",
   "execution_count": 220,
   "metadata": {
    "slideshow": {
     "slide_type": "subslide"
    }
   },
   "outputs": [],
   "source": [
    "data=longitudinal_pivotTable[\"CDR\"]\n",
    "index=longitudinal_pivotTable[\"ASF\"].index\n",
    "extracted_index=[i[0] for i in index.values]"
   ]
  },
  {
   "cell_type": "code",
   "execution_count": 221,
   "metadata": {
    "slideshow": {
     "slide_type": "subslide"
    }
   },
   "outputs": [
    {
     "data": {
      "text/plain": [
       "<matplotlib.axes._subplots.AxesSubplot at 0x7ffbd81e4430>"
      ]
     },
     "execution_count": 221,
     "metadata": {},
     "output_type": "execute_result"
    },
    {
     "data": {
      "image/png": "[encoded data removed]",
      "text/plain": [
       "<Figure size 432x288 with 1 Axes>"
      ]
     },
     "metadata": {
      "needs_background": "light"
     },
     "output_type": "display_data"
    }
   ],
   "source": [
    "data.plot.bar()"
   ]
  },
  {
   "cell_type": "markdown",
   "metadata": {
    "slideshow": {
     "slide_type": "slide"
    }
   },
   "source": [
    "Based on the observed pattern , the follwing prediction function is proposed:\n",
    "\n",
    "0<CDR<0.1 Group-> NonDemented\n",
    "\n",
    "0.1<CDR<0.3 Group -> Converted \n",
    "\n",
    "CDR>0.3  Group -> Demented "
   ]
  },
  {
   "cell_type": "code",
   "execution_count": 222,
   "metadata": {
    "slideshow": {
     "slide_type": "subslide"
    }
   },
   "outputs": [],
   "source": [
    "def group_prediction(dataset,column=\"CDR\"):\n",
    "    dataset.loc[(dataset[column]>=0)&(dataset[column]<=0.1),\"Group\"]=\"NonDemented\"\n",
    "    dataset.loc[(dataset[column]>=0.1)&(dataset[column]<=0.3),\"Group\"]=\"Converted\"\n",
    "    dataset.loc[(dataset[column]>=0.3),\"Group\"]=\"Demented\"\n",
    "    \n",
    "    "
   ]
  },
  {
   "cell_type": "markdown",
   "metadata": {
    "slideshow": {
     "slide_type": "subslide"
    }
   },
   "source": [
    "Run Bin_Age, group_prediction on crossSectional_df"
   ]
  },
  {
   "cell_type": "code",
   "execution_count": 223,
   "metadata": {
    "slideshow": {
     "slide_type": "subslide"
    }
   },
   "outputs": [
    {
     "data": {
      "text/html": [
       "<div>\n",
       "<style scoped>\n",
       "    .dataframe tbody tr th:only-of-type {\n",
       "        vertical-align: middle;\n",
       "    }\n",
       "\n",
       "    .dataframe tbody tr th {\n",
       "        vertical-align: top;\n",
       "    }\n",
       "\n",
       "    .dataframe thead th {\n",
       "        text-align: right;\n",
       "    }\n",
       "</style>\n",
       "<table border=\"1\" class=\"dataframe\">\n",
       "  <thead>\n",
       "    <tr style=\"text-align: right;\">\n",
       "      <th></th>\n",
       "      <th>ID</th>\n",
       "      <th>M/F</th>\n",
       "      <th>Hand</th>\n",
       "      <th>Age</th>\n",
       "      <th>Educ</th>\n",
       "      <th>SES</th>\n",
       "      <th>MMSE</th>\n",
       "      <th>CDR</th>\n",
       "      <th>eTIV</th>\n",
       "      <th>nWBV</th>\n",
       "      <th>ASF</th>\n",
       "      <th>Delay</th>\n",
       "      <th>Age_Binned</th>\n",
       "      <th>Group</th>\n",
       "    </tr>\n",
       "  </thead>\n",
       "  <tbody>\n",
       "    <tr>\n",
       "      <th>0</th>\n",
       "      <td>OAS1_0001_MR1</td>\n",
       "      <td>F</td>\n",
       "      <td>R</td>\n",
       "      <td>74</td>\n",
       "      <td>2.0</td>\n",
       "      <td>3.0</td>\n",
       "      <td>29.0</td>\n",
       "      <td>0.0</td>\n",
       "      <td>1344</td>\n",
       "      <td>0.743</td>\n",
       "      <td>1.306</td>\n",
       "      <td>1.0</td>\n",
       "      <td>Lower middle Bracket</td>\n",
       "      <td>NonDemented</td>\n",
       "    </tr>\n",
       "    <tr>\n",
       "      <th>1</th>\n",
       "      <td>OAS1_0002_MR1</td>\n",
       "      <td>F</td>\n",
       "      <td>R</td>\n",
       "      <td>55</td>\n",
       "      <td>4.0</td>\n",
       "      <td>1.0</td>\n",
       "      <td>29.0</td>\n",
       "      <td>0.0</td>\n",
       "      <td>1147</td>\n",
       "      <td>0.810</td>\n",
       "      <td>1.531</td>\n",
       "      <td>1.0</td>\n",
       "      <td>Middle Age</td>\n",
       "      <td>NonDemented</td>\n",
       "    </tr>\n",
       "    <tr>\n",
       "      <th>2</th>\n",
       "      <td>OAS1_0003_MR1</td>\n",
       "      <td>F</td>\n",
       "      <td>R</td>\n",
       "      <td>73</td>\n",
       "      <td>4.0</td>\n",
       "      <td>3.0</td>\n",
       "      <td>27.0</td>\n",
       "      <td>0.5</td>\n",
       "      <td>1454</td>\n",
       "      <td>0.708</td>\n",
       "      <td>1.207</td>\n",
       "      <td>1.0</td>\n",
       "      <td>Lower middle Bracket</td>\n",
       "      <td>Demented</td>\n",
       "    </tr>\n",
       "    <tr>\n",
       "      <th>3</th>\n",
       "      <td>OAS1_0004_MR1</td>\n",
       "      <td>M</td>\n",
       "      <td>R</td>\n",
       "      <td>28</td>\n",
       "      <td>4.0</td>\n",
       "      <td>3.0</td>\n",
       "      <td>27.0</td>\n",
       "      <td>0.5</td>\n",
       "      <td>1588</td>\n",
       "      <td>0.803</td>\n",
       "      <td>1.105</td>\n",
       "      <td>1.0</td>\n",
       "      <td>Middle Age</td>\n",
       "      <td>Demented</td>\n",
       "    </tr>\n",
       "    <tr>\n",
       "      <th>4</th>\n",
       "      <td>OAS1_0005_MR1</td>\n",
       "      <td>M</td>\n",
       "      <td>R</td>\n",
       "      <td>18</td>\n",
       "      <td>4.0</td>\n",
       "      <td>3.0</td>\n",
       "      <td>27.0</td>\n",
       "      <td>0.5</td>\n",
       "      <td>1737</td>\n",
       "      <td>0.848</td>\n",
       "      <td>1.010</td>\n",
       "      <td>1.0</td>\n",
       "      <td>Middle Age</td>\n",
       "      <td>Demented</td>\n",
       "    </tr>\n",
       "  </tbody>\n",
       "</table>\n",
       "</div>"
      ],
      "text/plain": [
       "              ID M/F Hand  Age  Educ  SES  MMSE  CDR  eTIV   nWBV    ASF  \\\n",
       "0  OAS1_0001_MR1   F    R   74   2.0  3.0  29.0  0.0  1344  0.743  1.306   \n",
       "1  OAS1_0002_MR1   F    R   55   4.0  1.0  29.0  0.0  1147  0.810  1.531   \n",
       "2  OAS1_0003_MR1   F    R   73   4.0  3.0  27.0  0.5  1454  0.708  1.207   \n",
       "3  OAS1_0004_MR1   M    R   28   4.0  3.0  27.0  0.5  1588  0.803  1.105   \n",
       "4  OAS1_0005_MR1   M    R   18   4.0  3.0  27.0  0.5  1737  0.848  1.010   \n",
       "\n",
       "   Delay            Age_Binned        Group  \n",
       "0    1.0  Lower middle Bracket  NonDemented  \n",
       "1    1.0            Middle Age  NonDemented  \n",
       "2    1.0  Lower middle Bracket     Demented  \n",
       "3    1.0            Middle Age     Demented  \n",
       "4    1.0            Middle Age     Demented  "
      ]
     },
     "execution_count": 223,
     "metadata": {},
     "output_type": "execute_result"
    }
   ],
   "source": [
    "Bin_Age(crossSectional_df)\n",
    "group_prediction(crossSectional_df)\n",
    "\n",
    "crossSectional_df.head(5)"
   ]
  },
  {
   "cell_type": "markdown",
   "metadata": {
    "slideshow": {
     "slide_type": "slide"
    }
   },
   "source": [
    "Pivot table to obtain the average values per age group bracket "
   ]
  },
  {
   "cell_type": "code",
   "execution_count": 224,
   "metadata": {
    "slideshow": {
     "slide_type": "subslide"
    }
   },
   "outputs": [
    {
     "data": {
      "text/html": [
       "<div>\n",
       "<style scoped>\n",
       "    .dataframe tbody tr th:only-of-type {\n",
       "        vertical-align: middle;\n",
       "    }\n",
       "\n",
       "    .dataframe tbody tr th {\n",
       "        vertical-align: top;\n",
       "    }\n",
       "\n",
       "    .dataframe thead th {\n",
       "        text-align: right;\n",
       "    }\n",
       "</style>\n",
       "<table border=\"1\" class=\"dataframe\">\n",
       "  <thead>\n",
       "    <tr style=\"text-align: right;\">\n",
       "      <th></th>\n",
       "      <th></th>\n",
       "      <th>ASF</th>\n",
       "      <th>Age</th>\n",
       "      <th>CDR</th>\n",
       "      <th>Delay</th>\n",
       "      <th>Educ</th>\n",
       "      <th>MMSE</th>\n",
       "      <th>SES</th>\n",
       "      <th>eTIV</th>\n",
       "      <th>nWBV</th>\n",
       "    </tr>\n",
       "    <tr>\n",
       "      <th>Group</th>\n",
       "      <th>Age_Binned</th>\n",
       "      <th></th>\n",
       "      <th></th>\n",
       "      <th></th>\n",
       "      <th></th>\n",
       "      <th></th>\n",
       "      <th></th>\n",
       "      <th></th>\n",
       "      <th></th>\n",
       "      <th></th>\n",
       "    </tr>\n",
       "  </thead>\n",
       "  <tbody>\n",
       "    <tr>\n",
       "      <th rowspan=\"4\" valign=\"top\">Demented</th>\n",
       "      <th>Lower Bracket</th>\n",
       "      <td>1.216933</td>\n",
       "      <td>66.133333</td>\n",
       "      <td>0.600000</td>\n",
       "      <td>1.000000</td>\n",
       "      <td>2.533333</td>\n",
       "      <td>22.933333</td>\n",
       "      <td>2.733333</td>\n",
       "      <td>1448.533333</td>\n",
       "      <td>0.740867</td>\n",
       "    </tr>\n",
       "    <tr>\n",
       "      <th>Lower middle Bracket</th>\n",
       "      <td>1.195646</td>\n",
       "      <td>74.416667</td>\n",
       "      <td>0.687500</td>\n",
       "      <td>1.000000</td>\n",
       "      <td>3.041667</td>\n",
       "      <td>24.687500</td>\n",
       "      <td>2.479167</td>\n",
       "      <td>1487.958333</td>\n",
       "      <td>0.728333</td>\n",
       "    </tr>\n",
       "    <tr>\n",
       "      <th>Middle Age</th>\n",
       "      <td>1.183954</td>\n",
       "      <td>27.505747</td>\n",
       "      <td>0.609195</td>\n",
       "      <td>1.000000</td>\n",
       "      <td>3.103448</td>\n",
       "      <td>24.528736</td>\n",
       "      <td>2.310345</td>\n",
       "      <td>1503.689655</td>\n",
       "      <td>0.840471</td>\n",
       "    </tr>\n",
       "    <tr>\n",
       "      <th>Upper middle Bracket</th>\n",
       "      <td>1.191757</td>\n",
       "      <td>84.108108</td>\n",
       "      <td>0.675676</td>\n",
       "      <td>1.000000</td>\n",
       "      <td>2.648649</td>\n",
       "      <td>24.405405</td>\n",
       "      <td>2.810811</td>\n",
       "      <td>1492.567568</td>\n",
       "      <td>0.706135</td>\n",
       "    </tr>\n",
       "    <tr>\n",
       "      <th rowspan=\"4\" valign=\"top\">NonDemented</th>\n",
       "      <th>Lower Bracket</th>\n",
       "      <td>1.257320</td>\n",
       "      <td>64.880000</td>\n",
       "      <td>0.000000</td>\n",
       "      <td>1.000000</td>\n",
       "      <td>3.280000</td>\n",
       "      <td>29.160000</td>\n",
       "      <td>2.760000</td>\n",
       "      <td>1403.920000</td>\n",
       "      <td>0.794400</td>\n",
       "    </tr>\n",
       "    <tr>\n",
       "      <th>Lower middle Bracket</th>\n",
       "      <td>1.221914</td>\n",
       "      <td>73.371429</td>\n",
       "      <td>0.000000</td>\n",
       "      <td>1.000000</td>\n",
       "      <td>3.228571</td>\n",
       "      <td>29.142857</td>\n",
       "      <td>2.400000</td>\n",
       "      <td>1454.342857</td>\n",
       "      <td>0.754029</td>\n",
       "    </tr>\n",
       "    <tr>\n",
       "      <th>Middle Age</th>\n",
       "      <td>1.186662</td>\n",
       "      <td>32.337748</td>\n",
       "      <td>0.000000</td>\n",
       "      <td>3.589404</td>\n",
       "      <td>3.582781</td>\n",
       "      <td>28.708609</td>\n",
       "      <td>2.145695</td>\n",
       "      <td>1496.119205</td>\n",
       "      <td>0.835119</td>\n",
       "    </tr>\n",
       "    <tr>\n",
       "      <th>Upper middle Bracket</th>\n",
       "      <td>1.226000</td>\n",
       "      <td>85.526316</td>\n",
       "      <td>0.000000</td>\n",
       "      <td>1.000000</td>\n",
       "      <td>3.289474</td>\n",
       "      <td>28.657895</td>\n",
       "      <td>2.421053</td>\n",
       "      <td>1447.552632</td>\n",
       "      <td>0.723500</td>\n",
       "    </tr>\n",
       "  </tbody>\n",
       "</table>\n",
       "</div>"
      ],
      "text/plain": [
       "                                       ASF        Age       CDR     Delay  \\\n",
       "Group       Age_Binned                                                      \n",
       "Demented    Lower Bracket         1.216933  66.133333  0.600000  1.000000   \n",
       "            Lower middle Bracket  1.195646  74.416667  0.687500  1.000000   \n",
       "            Middle Age            1.183954  27.505747  0.609195  1.000000   \n",
       "            Upper middle Bracket  1.191757  84.108108  0.675676  1.000000   \n",
       "NonDemented Lower Bracket         1.257320  64.880000  0.000000  1.000000   \n",
       "            Lower middle Bracket  1.221914  73.371429  0.000000  1.000000   \n",
       "            Middle Age            1.186662  32.337748  0.000000  3.589404   \n",
       "            Upper middle Bracket  1.226000  85.526316  0.000000  1.000000   \n",
       "\n",
       "                                      Educ       MMSE       SES         eTIV  \\\n",
       "Group       Age_Binned                                                         \n",
       "Demented    Lower Bracket         2.533333  22.933333  2.733333  1448.533333   \n",
       "            Lower middle Bracket  3.041667  24.687500  2.479167  1487.958333   \n",
       "            Middle Age            3.103448  24.528736  2.310345  1503.689655   \n",
       "            Upper middle Bracket  2.648649  24.405405  2.810811  1492.567568   \n",
       "NonDemented Lower Bracket         3.280000  29.160000  2.760000  1403.920000   \n",
       "            Lower middle Bracket  3.228571  29.142857  2.400000  1454.342857   \n",
       "            Middle Age            3.582781  28.708609  2.145695  1496.119205   \n",
       "            Upper middle Bracket  3.289474  28.657895  2.421053  1447.552632   \n",
       "\n",
       "                                      nWBV  \n",
       "Group       Age_Binned                      \n",
       "Demented    Lower Bracket         0.740867  \n",
       "            Lower middle Bracket  0.728333  \n",
       "            Middle Age            0.840471  \n",
       "            Upper middle Bracket  0.706135  \n",
       "NonDemented Lower Bracket         0.794400  \n",
       "            Lower middle Bracket  0.754029  \n",
       "            Middle Age            0.835119  \n",
       "            Upper middle Bracket  0.723500  "
      ]
     },
     "execution_count": 224,
     "metadata": {},
     "output_type": "execute_result"
    }
   ],
   "source": [
    "crossSectional_df.pivot_table(index=[\"Group\",\"Age_Binned\"])"
   ]
  },
  {
   "cell_type": "code",
   "execution_count": null,
   "metadata": {
    "slideshow": {
     "slide_type": "skip"
    }
   },
   "outputs": [],
   "source": []
  },
  {
   "cell_type": "markdown",
   "metadata": {
    "slideshow": {
     "slide_type": "slide"
    }
   },
   "source": [
    "### Boolean exploration "
   ]
  },
  {
   "cell_type": "markdown",
   "metadata": {
    "slideshow": {
     "slide_type": "subslide"
    }
   },
   "source": [
    "For Longitudinal scans , what is the minimum age for demented male and female patients? "
   ]
  },
  {
   "cell_type": "code",
   "execution_count": 225,
   "metadata": {
    "slideshow": {
     "slide_type": "subslide"
    }
   },
   "outputs": [
    {
     "name": "stdout",
     "output_type": "stream",
     "text": [
      "The minimum age for Demented females in longitudinal scans is: 66\n"
     ]
    }
   ],
   "source": [
    "print(\"The minimum age for Demented females in longitudinal scans is:\", Longitudinal_df[(Longitudinal_df[\"Group\"]==\"Demented\") &\n",
    "               (Longitudinal_df[\"M/F\"]==\"F\")][\"Age\"].min())"
   ]
  },
  {
   "cell_type": "code",
   "execution_count": 226,
   "metadata": {
    "slideshow": {
     "slide_type": "subslide"
    }
   },
   "outputs": [
    {
     "name": "stdout",
     "output_type": "stream",
     "text": [
      "The minimum age for Demented males in longitudinal scans is: 61\n"
     ]
    }
   ],
   "source": [
    "print(\"The minimum age for Demented males in longitudinal scans is:\", Longitudinal_df[(Longitudinal_df[\"Group\"]==\"Demented\") &\n",
    "               (Longitudinal_df[\"M/F\"]==\"M\")][\"Age\"].min())"
   ]
  },
  {
   "cell_type": "markdown",
   "metadata": {
    "slideshow": {
     "slide_type": "slide"
    }
   },
   "source": [
    "For Longitudinal scans, what percentage of male demented patients are over the age of 70? "
   ]
  },
  {
   "cell_type": "code",
   "execution_count": 227,
   "metadata": {
    "slideshow": {
     "slide_type": "subslide"
    }
   },
   "outputs": [
    {
     "name": "stdout",
     "output_type": "stream",
     "text": [
      "The percentage of male demented patients over the age of 70 for Longitudinal scans is 16 percent\n"
     ]
    }
   ],
   "source": [
    "query=len(Longitudinal_df[(Longitudinal_df[\"M/F\"]==\"M\")&\n",
    "                     (Longitudinal_df[\"Group\"]==\"Demented\")&\n",
    "                     (Longitudinal_df[\"Age\"]>70)])\n",
    "percentage=(query/len(Longitudinal_df))*100\n",
    "print(\"The percentage of male demented patients over the age of 70 for Longitudinal scans is %d percent\"%percentage)"
   ]
  },
  {
   "cell_type": "markdown",
   "metadata": {
    "slideshow": {
     "slide_type": "subslide"
    }
   },
   "source": [
    "Hoy many average visits do demented patients log in for Longitudinal scans"
   ]
  },
  {
   "cell_type": "code",
   "execution_count": 228,
   "metadata": {
    "slideshow": {
     "slide_type": "subslide"
    }
   },
   "outputs": [
    {
     "name": "stdout",
     "output_type": "stream",
     "text": [
      "Demented patients average 1 visits for Longitudinal scans\n"
     ]
    }
   ],
   "source": [
    "query=Longitudinal_df[Longitudinal_df[\"Group\"]==\"Demented\"][\"Visit\"].mean()\n",
    "print(\"Demented patients average %d visits for Longitudinal scans\"%query)"
   ]
  },
  {
   "cell_type": "markdown",
   "metadata": {
    "slideshow": {
     "slide_type": "slide"
    }
   },
   "source": [
    "### Joining of Cross Sectional and Longitudinal Scans datasets "
   ]
  },
  {
   "cell_type": "markdown",
   "metadata": {
    "slideshow": {
     "slide_type": "subslide"
    }
   },
   "source": [
    "The longitudinal and cross sectional data is joined in a single dataset to be able to perform cross visualization on them. \n",
    "Since the two tables do not have common primary keys , the method of concat is utilized to stack the 2 datasets vertically"
   ]
  },
  {
   "cell_type": "code",
   "execution_count": 229,
   "metadata": {
    "slideshow": {
     "slide_type": "subslide"
    }
   },
   "outputs": [
    {
     "data": {
      "text/html": [
       "<div>\n",
       "<style scoped>\n",
       "    .dataframe tbody tr th:only-of-type {\n",
       "        vertical-align: middle;\n",
       "    }\n",
       "\n",
       "    .dataframe tbody tr th {\n",
       "        vertical-align: top;\n",
       "    }\n",
       "\n",
       "    .dataframe thead th {\n",
       "        text-align: right;\n",
       "    }\n",
       "</style>\n",
       "<table border=\"1\" class=\"dataframe\">\n",
       "  <thead>\n",
       "    <tr style=\"text-align: right;\">\n",
       "      <th></th>\n",
       "      <th>Subject ID</th>\n",
       "      <th>MRI ID</th>\n",
       "      <th>Group_x</th>\n",
       "      <th>Visit</th>\n",
       "      <th>MR Delay</th>\n",
       "      <th>M/F_x</th>\n",
       "      <th>Hand_x</th>\n",
       "      <th>Age_x</th>\n",
       "      <th>EDUC</th>\n",
       "      <th>SES_x</th>\n",
       "      <th>MMSE_x</th>\n",
       "      <th>CDR_x</th>\n",
       "      <th>eTIV_x</th>\n",
       "      <th>nWBV_x</th>\n",
       "      <th>ASF_x</th>\n",
       "      <th>Age_Binned</th>\n",
       "      <th>ID</th>\n",
       "      <th>M/F_y</th>\n",
       "      <th>Hand_y</th>\n",
       "      <th>Age_y</th>\n",
       "      <th>Educ</th>\n",
       "      <th>SES_y</th>\n",
       "      <th>MMSE_y</th>\n",
       "      <th>CDR_y</th>\n",
       "      <th>eTIV_y</th>\n",
       "      <th>nWBV_y</th>\n",
       "      <th>ASF_y</th>\n",
       "      <th>Delay</th>\n",
       "      <th>Group_y</th>\n",
       "    </tr>\n",
       "  </thead>\n",
       "  <tbody>\n",
       "    <tr>\n",
       "      <th>0</th>\n",
       "      <td>OAS2_0001</td>\n",
       "      <td>OAS2_0001_MR1</td>\n",
       "      <td>Nondemented</td>\n",
       "      <td>1</td>\n",
       "      <td>0</td>\n",
       "      <td>M</td>\n",
       "      <td>R</td>\n",
       "      <td>87</td>\n",
       "      <td>14</td>\n",
       "      <td>2.0</td>\n",
       "      <td>27.0</td>\n",
       "      <td>0.0</td>\n",
       "      <td>1987</td>\n",
       "      <td>0.696</td>\n",
       "      <td>0.883</td>\n",
       "      <td>Upper middle Bracket</td>\n",
       "      <td>OAS1_0013_MR1</td>\n",
       "      <td>F</td>\n",
       "      <td>R</td>\n",
       "      <td>81</td>\n",
       "      <td>5.0</td>\n",
       "      <td>2.0</td>\n",
       "      <td>30.0</td>\n",
       "      <td>0.0</td>\n",
       "      <td>1664</td>\n",
       "      <td>0.679</td>\n",
       "      <td>1.055</td>\n",
       "      <td>1.0</td>\n",
       "      <td>NonDemented</td>\n",
       "    </tr>\n",
       "    <tr>\n",
       "      <th>1</th>\n",
       "      <td>OAS2_0001</td>\n",
       "      <td>OAS2_0001_MR1</td>\n",
       "      <td>Nondemented</td>\n",
       "      <td>1</td>\n",
       "      <td>0</td>\n",
       "      <td>M</td>\n",
       "      <td>R</td>\n",
       "      <td>87</td>\n",
       "      <td>14</td>\n",
       "      <td>2.0</td>\n",
       "      <td>27.0</td>\n",
       "      <td>0.0</td>\n",
       "      <td>1987</td>\n",
       "      <td>0.696</td>\n",
       "      <td>0.883</td>\n",
       "      <td>Upper middle Bracket</td>\n",
       "      <td>OAS1_0016_MR1</td>\n",
       "      <td>M</td>\n",
       "      <td>R</td>\n",
       "      <td>82</td>\n",
       "      <td>2.0</td>\n",
       "      <td>4.0</td>\n",
       "      <td>27.0</td>\n",
       "      <td>0.5</td>\n",
       "      <td>1477</td>\n",
       "      <td>0.739</td>\n",
       "      <td>1.188</td>\n",
       "      <td>1.0</td>\n",
       "      <td>Demented</td>\n",
       "    </tr>\n",
       "    <tr>\n",
       "      <th>2</th>\n",
       "      <td>OAS2_0001</td>\n",
       "      <td>OAS2_0001_MR1</td>\n",
       "      <td>Nondemented</td>\n",
       "      <td>1</td>\n",
       "      <td>0</td>\n",
       "      <td>M</td>\n",
       "      <td>R</td>\n",
       "      <td>87</td>\n",
       "      <td>14</td>\n",
       "      <td>2.0</td>\n",
       "      <td>27.0</td>\n",
       "      <td>0.0</td>\n",
       "      <td>1987</td>\n",
       "      <td>0.696</td>\n",
       "      <td>0.883</td>\n",
       "      <td>Upper middle Bracket</td>\n",
       "      <td>OAS1_0019_MR1</td>\n",
       "      <td>F</td>\n",
       "      <td>R</td>\n",
       "      <td>89</td>\n",
       "      <td>5.0</td>\n",
       "      <td>1.0</td>\n",
       "      <td>30.0</td>\n",
       "      <td>0.0</td>\n",
       "      <td>1536</td>\n",
       "      <td>0.715</td>\n",
       "      <td>1.142</td>\n",
       "      <td>1.0</td>\n",
       "      <td>NonDemented</td>\n",
       "    </tr>\n",
       "    <tr>\n",
       "      <th>3</th>\n",
       "      <td>OAS2_0001</td>\n",
       "      <td>OAS2_0001_MR1</td>\n",
       "      <td>Nondemented</td>\n",
       "      <td>1</td>\n",
       "      <td>0</td>\n",
       "      <td>M</td>\n",
       "      <td>R</td>\n",
       "      <td>87</td>\n",
       "      <td>14</td>\n",
       "      <td>2.0</td>\n",
       "      <td>27.0</td>\n",
       "      <td>0.0</td>\n",
       "      <td>1987</td>\n",
       "      <td>0.696</td>\n",
       "      <td>0.883</td>\n",
       "      <td>Upper middle Bracket</td>\n",
       "      <td>OAS1_0021_MR1</td>\n",
       "      <td>F</td>\n",
       "      <td>R</td>\n",
       "      <td>80</td>\n",
       "      <td>3.0</td>\n",
       "      <td>3.0</td>\n",
       "      <td>23.0</td>\n",
       "      <td>0.5</td>\n",
       "      <td>1794</td>\n",
       "      <td>0.765</td>\n",
       "      <td>0.978</td>\n",
       "      <td>1.0</td>\n",
       "      <td>Demented</td>\n",
       "    </tr>\n",
       "    <tr>\n",
       "      <th>4</th>\n",
       "      <td>OAS2_0001</td>\n",
       "      <td>OAS2_0001_MR1</td>\n",
       "      <td>Nondemented</td>\n",
       "      <td>1</td>\n",
       "      <td>0</td>\n",
       "      <td>M</td>\n",
       "      <td>R</td>\n",
       "      <td>87</td>\n",
       "      <td>14</td>\n",
       "      <td>2.0</td>\n",
       "      <td>27.0</td>\n",
       "      <td>0.0</td>\n",
       "      <td>1987</td>\n",
       "      <td>0.696</td>\n",
       "      <td>0.883</td>\n",
       "      <td>Upper middle Bracket</td>\n",
       "      <td>OAS1_0023_MR1</td>\n",
       "      <td>M</td>\n",
       "      <td>R</td>\n",
       "      <td>82</td>\n",
       "      <td>2.0</td>\n",
       "      <td>3.0</td>\n",
       "      <td>27.0</td>\n",
       "      <td>0.5</td>\n",
       "      <td>1420</td>\n",
       "      <td>0.710</td>\n",
       "      <td>1.236</td>\n",
       "      <td>1.0</td>\n",
       "      <td>Demented</td>\n",
       "    </tr>\n",
       "  </tbody>\n",
       "</table>\n",
       "</div>"
      ],
      "text/plain": [
       "  Subject ID         MRI ID      Group_x  Visit  MR Delay M/F_x Hand_x  Age_x  \\\n",
       "0  OAS2_0001  OAS2_0001_MR1  Nondemented      1         0     M      R     87   \n",
       "1  OAS2_0001  OAS2_0001_MR1  Nondemented      1         0     M      R     87   \n",
       "2  OAS2_0001  OAS2_0001_MR1  Nondemented      1         0     M      R     87   \n",
       "3  OAS2_0001  OAS2_0001_MR1  Nondemented      1         0     M      R     87   \n",
       "4  OAS2_0001  OAS2_0001_MR1  Nondemented      1         0     M      R     87   \n",
       "\n",
       "   EDUC  SES_x  MMSE_x  CDR_x  eTIV_x  nWBV_x  ASF_x            Age_Binned  \\\n",
       "0    14    2.0    27.0    0.0    1987   0.696  0.883  Upper middle Bracket   \n",
       "1    14    2.0    27.0    0.0    1987   0.696  0.883  Upper middle Bracket   \n",
       "2    14    2.0    27.0    0.0    1987   0.696  0.883  Upper middle Bracket   \n",
       "3    14    2.0    27.0    0.0    1987   0.696  0.883  Upper middle Bracket   \n",
       "4    14    2.0    27.0    0.0    1987   0.696  0.883  Upper middle Bracket   \n",
       "\n",
       "              ID M/F_y Hand_y  Age_y  Educ  SES_y  MMSE_y  CDR_y  eTIV_y  \\\n",
       "0  OAS1_0013_MR1     F      R     81   5.0    2.0    30.0    0.0    1664   \n",
       "1  OAS1_0016_MR1     M      R     82   2.0    4.0    27.0    0.5    1477   \n",
       "2  OAS1_0019_MR1     F      R     89   5.0    1.0    30.0    0.0    1536   \n",
       "3  OAS1_0021_MR1     F      R     80   3.0    3.0    23.0    0.5    1794   \n",
       "4  OAS1_0023_MR1     M      R     82   2.0    3.0    27.0    0.5    1420   \n",
       "\n",
       "   nWBV_y  ASF_y  Delay      Group_y  \n",
       "0   0.679  1.055    1.0  NonDemented  \n",
       "1   0.739  1.188    1.0     Demented  \n",
       "2   0.715  1.142    1.0  NonDemented  \n",
       "3   0.765  0.978    1.0     Demented  \n",
       "4   0.710  1.236    1.0     Demented  "
      ]
     },
     "execution_count": 229,
     "metadata": {},
     "output_type": "execute_result"
    }
   ],
   "source": [
    "df_scans_joined=Longitudinal_df.merge(crossSectional_df,on=\"Age_Binned\",how=\"inner\",validate=\"m:m\")\n",
    "df_scans_joined.head(5)"
   ]
  },
  {
   "cell_type": "code",
   "execution_count": 230,
   "metadata": {
    "slideshow": {
     "slide_type": "subslide"
    }
   },
   "outputs": [
    {
     "name": "stdout",
     "output_type": "stream",
     "text": [
      "<class 'pandas.core.frame.DataFrame'>\n",
      "Int64Index: 10628 entries, 0 to 10627\n",
      "Data columns (total 29 columns):\n",
      " #   Column      Non-Null Count  Dtype  \n",
      "---  ------      --------------  -----  \n",
      " 0   Subject ID  10628 non-null  object \n",
      " 1   MRI ID      10628 non-null  object \n",
      " 2   Group_x     10628 non-null  object \n",
      " 3   Visit       10628 non-null  int64  \n",
      " 4   MR Delay    10628 non-null  int64  \n",
      " 5   M/F_x       10628 non-null  object \n",
      " 6   Hand_x      10628 non-null  object \n",
      " 7   Age_x       10628 non-null  int64  \n",
      " 8   EDUC        10628 non-null  int64  \n",
      " 9   SES_x       10628 non-null  float64\n",
      " 10  MMSE_x      10628 non-null  float64\n",
      " 11  CDR_x       10628 non-null  float64\n",
      " 12  eTIV_x      10628 non-null  int64  \n",
      " 13  nWBV_x      10628 non-null  float64\n",
      " 14  ASF_x       10628 non-null  float64\n",
      " 15  Age_Binned  10628 non-null  object \n",
      " 16  ID          10628 non-null  object \n",
      " 17  M/F_y       10628 non-null  object \n",
      " 18  Hand_y      10628 non-null  object \n",
      " 19  Age_y       10628 non-null  int64  \n",
      " 20  Educ        10628 non-null  float64\n",
      " 21  SES_y       10628 non-null  float64\n",
      " 22  MMSE_y      10628 non-null  float64\n",
      " 23  CDR_y       10628 non-null  float64\n",
      " 24  eTIV_y      10628 non-null  int64  \n",
      " 25  nWBV_y      10628 non-null  float64\n",
      " 26  ASF_y       10628 non-null  float64\n",
      " 27  Delay       10628 non-null  float64\n",
      " 28  Group_y     10628 non-null  object \n",
      "dtypes: float64(12), int64(7), object(10)\n",
      "memory usage: 2.4+ MB\n"
     ]
    }
   ],
   "source": [
    "df_scans_joined.info()"
   ]
  },
  {
   "cell_type": "markdown",
   "metadata": {
    "slideshow": {
     "slide_type": "slide"
    }
   },
   "source": [
    "Check if there any missing values in the merged dataset"
   ]
  },
  {
   "cell_type": "code",
   "execution_count": 1,
   "metadata": {
    "slideshow": {
     "slide_type": "subslide"
    }
   },
   "outputs": [
    {
     "ename": "NameError",
     "evalue": "name 'df_scans_joined' is not defined",
     "output_type": "error",
     "traceback": [
      "\u001b[0;31m---------------------------------------------------------------------------\u001b[0m",
      "\u001b[0;31mNameError\u001b[0m                                 Traceback (most recent call last)",
      "\u001b[0;32m<ipython-input-1-7b8f35e0fcfe>\u001b[0m in \u001b[0;36m<module>\u001b[0;34m\u001b[0m\n\u001b[0;32m----> 1\u001b[0;31m \u001b[0mdf_scans_joined\u001b[0m\u001b[0;34m.\u001b[0m\u001b[0misna\u001b[0m\u001b[0;34m(\u001b[0m\u001b[0;34m)\u001b[0m\u001b[0;34m.\u001b[0m\u001b[0many\u001b[0m\u001b[0;34m(\u001b[0m\u001b[0;34m)\u001b[0m\u001b[0;34m\u001b[0m\u001b[0;34m\u001b[0m\u001b[0m\n\u001b[0m",
      "\u001b[0;31mNameError\u001b[0m: name 'df_scans_joined' is not defined"
     ]
    }
   ],
   "source": [
    "df_scans_joined.isna().any()"
   ]
  },
  {
   "cell_type": "code",
   "execution_count": 232,
   "metadata": {
    "slideshow": {
     "slide_type": "subslide"
    }
   },
   "outputs": [],
   "source": [
    "df_scans_joined.drop_duplicates(keep=\"first\",subset=[\"Subject ID\",\"MRI ID\"],inplace=True)\n",
    "pd.options.display.max_columns=100"
   ]
  },
  {
   "cell_type": "code",
   "execution_count": 233,
   "metadata": {
    "slideshow": {
     "slide_type": "subslide"
    }
   },
   "outputs": [
    {
     "data": {
      "text/html": [
       "<div>\n",
       "<style scoped>\n",
       "    .dataframe tbody tr th:only-of-type {\n",
       "        vertical-align: middle;\n",
       "    }\n",
       "\n",
       "    .dataframe tbody tr th {\n",
       "        vertical-align: top;\n",
       "    }\n",
       "\n",
       "    .dataframe thead th {\n",
       "        text-align: right;\n",
       "    }\n",
       "</style>\n",
       "<table border=\"1\" class=\"dataframe\">\n",
       "  <thead>\n",
       "    <tr style=\"text-align: right;\">\n",
       "      <th></th>\n",
       "      <th>Subject ID</th>\n",
       "      <th>MRI ID</th>\n",
       "      <th>Group_x</th>\n",
       "      <th>Visit</th>\n",
       "      <th>MR Delay</th>\n",
       "      <th>M/F_x</th>\n",
       "      <th>Hand_x</th>\n",
       "      <th>Age_x</th>\n",
       "      <th>EDUC</th>\n",
       "      <th>SES_x</th>\n",
       "      <th>MMSE_x</th>\n",
       "      <th>CDR_x</th>\n",
       "      <th>eTIV_x</th>\n",
       "      <th>nWBV_x</th>\n",
       "      <th>ASF_x</th>\n",
       "      <th>Age_Binned</th>\n",
       "      <th>ID</th>\n",
       "      <th>M/F_y</th>\n",
       "      <th>Hand_y</th>\n",
       "      <th>Age_y</th>\n",
       "      <th>Educ</th>\n",
       "      <th>SES_y</th>\n",
       "      <th>MMSE_y</th>\n",
       "      <th>CDR_y</th>\n",
       "      <th>eTIV_y</th>\n",
       "      <th>nWBV_y</th>\n",
       "      <th>ASF_y</th>\n",
       "      <th>Delay</th>\n",
       "      <th>Group_y</th>\n",
       "    </tr>\n",
       "  </thead>\n",
       "  <tbody>\n",
       "    <tr>\n",
       "      <th>0</th>\n",
       "      <td>OAS2_0001</td>\n",
       "      <td>OAS2_0001_MR1</td>\n",
       "      <td>Nondemented</td>\n",
       "      <td>1</td>\n",
       "      <td>0</td>\n",
       "      <td>M</td>\n",
       "      <td>R</td>\n",
       "      <td>87</td>\n",
       "      <td>14</td>\n",
       "      <td>2.0</td>\n",
       "      <td>27.0</td>\n",
       "      <td>0.0</td>\n",
       "      <td>1987</td>\n",
       "      <td>0.696</td>\n",
       "      <td>0.883</td>\n",
       "      <td>Upper middle Bracket</td>\n",
       "      <td>OAS1_0013_MR1</td>\n",
       "      <td>F</td>\n",
       "      <td>R</td>\n",
       "      <td>81</td>\n",
       "      <td>5.0</td>\n",
       "      <td>2.0</td>\n",
       "      <td>30.0</td>\n",
       "      <td>0.0</td>\n",
       "      <td>1664</td>\n",
       "      <td>0.679</td>\n",
       "      <td>1.055</td>\n",
       "      <td>1.0</td>\n",
       "      <td>NonDemented</td>\n",
       "    </tr>\n",
       "    <tr>\n",
       "      <th>75</th>\n",
       "      <td>OAS2_0004</td>\n",
       "      <td>OAS2_0004_MR1</td>\n",
       "      <td>Nondemented</td>\n",
       "      <td>1</td>\n",
       "      <td>0</td>\n",
       "      <td>F</td>\n",
       "      <td>R</td>\n",
       "      <td>88</td>\n",
       "      <td>18</td>\n",
       "      <td>3.0</td>\n",
       "      <td>28.0</td>\n",
       "      <td>0.0</td>\n",
       "      <td>1215</td>\n",
       "      <td>0.710</td>\n",
       "      <td>1.444</td>\n",
       "      <td>Upper middle Bracket</td>\n",
       "      <td>OAS1_0013_MR1</td>\n",
       "      <td>F</td>\n",
       "      <td>R</td>\n",
       "      <td>81</td>\n",
       "      <td>5.0</td>\n",
       "      <td>2.0</td>\n",
       "      <td>30.0</td>\n",
       "      <td>0.0</td>\n",
       "      <td>1664</td>\n",
       "      <td>0.679</td>\n",
       "      <td>1.055</td>\n",
       "      <td>1.0</td>\n",
       "      <td>NonDemented</td>\n",
       "    </tr>\n",
       "    <tr>\n",
       "      <th>150</th>\n",
       "      <td>OAS2_0005</td>\n",
       "      <td>OAS2_0005_MR1</td>\n",
       "      <td>Nondemented</td>\n",
       "      <td>1</td>\n",
       "      <td>0</td>\n",
       "      <td>M</td>\n",
       "      <td>R</td>\n",
       "      <td>80</td>\n",
       "      <td>12</td>\n",
       "      <td>4.0</td>\n",
       "      <td>28.0</td>\n",
       "      <td>0.0</td>\n",
       "      <td>1689</td>\n",
       "      <td>0.712</td>\n",
       "      <td>1.039</td>\n",
       "      <td>Upper middle Bracket</td>\n",
       "      <td>OAS1_0013_MR1</td>\n",
       "      <td>F</td>\n",
       "      <td>R</td>\n",
       "      <td>81</td>\n",
       "      <td>5.0</td>\n",
       "      <td>2.0</td>\n",
       "      <td>30.0</td>\n",
       "      <td>0.0</td>\n",
       "      <td>1664</td>\n",
       "      <td>0.679</td>\n",
       "      <td>1.055</td>\n",
       "      <td>1.0</td>\n",
       "      <td>NonDemented</td>\n",
       "    </tr>\n",
       "    <tr>\n",
       "      <th>225</th>\n",
       "      <td>OAS2_0008</td>\n",
       "      <td>OAS2_0008_MR1</td>\n",
       "      <td>Nondemented</td>\n",
       "      <td>1</td>\n",
       "      <td>0</td>\n",
       "      <td>F</td>\n",
       "      <td>R</td>\n",
       "      <td>93</td>\n",
       "      <td>14</td>\n",
       "      <td>2.0</td>\n",
       "      <td>30.0</td>\n",
       "      <td>0.0</td>\n",
       "      <td>1272</td>\n",
       "      <td>0.698</td>\n",
       "      <td>1.380</td>\n",
       "      <td>Upper middle Bracket</td>\n",
       "      <td>OAS1_0013_MR1</td>\n",
       "      <td>F</td>\n",
       "      <td>R</td>\n",
       "      <td>81</td>\n",
       "      <td>5.0</td>\n",
       "      <td>2.0</td>\n",
       "      <td>30.0</td>\n",
       "      <td>0.0</td>\n",
       "      <td>1664</td>\n",
       "      <td>0.679</td>\n",
       "      <td>1.055</td>\n",
       "      <td>1.0</td>\n",
       "      <td>NonDemented</td>\n",
       "    </tr>\n",
       "    <tr>\n",
       "      <th>300</th>\n",
       "      <td>OAS2_0013</td>\n",
       "      <td>OAS2_0013_MR1</td>\n",
       "      <td>Nondemented</td>\n",
       "      <td>1</td>\n",
       "      <td>0</td>\n",
       "      <td>F</td>\n",
       "      <td>R</td>\n",
       "      <td>81</td>\n",
       "      <td>12</td>\n",
       "      <td>4.0</td>\n",
       "      <td>30.0</td>\n",
       "      <td>0.0</td>\n",
       "      <td>1230</td>\n",
       "      <td>0.715</td>\n",
       "      <td>1.427</td>\n",
       "      <td>Upper middle Bracket</td>\n",
       "      <td>OAS1_0013_MR1</td>\n",
       "      <td>F</td>\n",
       "      <td>R</td>\n",
       "      <td>81</td>\n",
       "      <td>5.0</td>\n",
       "      <td>2.0</td>\n",
       "      <td>30.0</td>\n",
       "      <td>0.0</td>\n",
       "      <td>1664</td>\n",
       "      <td>0.679</td>\n",
       "      <td>1.055</td>\n",
       "      <td>1.0</td>\n",
       "      <td>NonDemented</td>\n",
       "    </tr>\n",
       "    <tr>\n",
       "      <th>...</th>\n",
       "      <td>...</td>\n",
       "      <td>...</td>\n",
       "      <td>...</td>\n",
       "      <td>...</td>\n",
       "      <td>...</td>\n",
       "      <td>...</td>\n",
       "      <td>...</td>\n",
       "      <td>...</td>\n",
       "      <td>...</td>\n",
       "      <td>...</td>\n",
       "      <td>...</td>\n",
       "      <td>...</td>\n",
       "      <td>...</td>\n",
       "      <td>...</td>\n",
       "      <td>...</td>\n",
       "      <td>...</td>\n",
       "      <td>...</td>\n",
       "      <td>...</td>\n",
       "      <td>...</td>\n",
       "      <td>...</td>\n",
       "      <td>...</td>\n",
       "      <td>...</td>\n",
       "      <td>...</td>\n",
       "      <td>...</td>\n",
       "      <td>...</td>\n",
       "      <td>...</td>\n",
       "      <td>...</td>\n",
       "      <td>...</td>\n",
       "      <td>...</td>\n",
       "    </tr>\n",
       "    <tr>\n",
       "      <th>10428</th>\n",
       "      <td>OAS2_0152</td>\n",
       "      <td>OAS2_0152_MR1</td>\n",
       "      <td>Nondemented</td>\n",
       "      <td>1</td>\n",
       "      <td>0</td>\n",
       "      <td>F</td>\n",
       "      <td>R</td>\n",
       "      <td>66</td>\n",
       "      <td>18</td>\n",
       "      <td>2.0</td>\n",
       "      <td>29.0</td>\n",
       "      <td>0.0</td>\n",
       "      <td>1191</td>\n",
       "      <td>0.785</td>\n",
       "      <td>1.474</td>\n",
       "      <td>Lower Bracket</td>\n",
       "      <td>OAS1_0022_MR1</td>\n",
       "      <td>F</td>\n",
       "      <td>R</td>\n",
       "      <td>69</td>\n",
       "      <td>2.0</td>\n",
       "      <td>4.0</td>\n",
       "      <td>23.0</td>\n",
       "      <td>0.5</td>\n",
       "      <td>1447</td>\n",
       "      <td>0.757</td>\n",
       "      <td>1.213</td>\n",
       "      <td>1.0</td>\n",
       "      <td>Demented</td>\n",
       "    </tr>\n",
       "    <tr>\n",
       "      <th>10468</th>\n",
       "      <td>OAS2_0174</td>\n",
       "      <td>OAS2_0174_MR1</td>\n",
       "      <td>Nondemented</td>\n",
       "      <td>1</td>\n",
       "      <td>0</td>\n",
       "      <td>M</td>\n",
       "      <td>R</td>\n",
       "      <td>60</td>\n",
       "      <td>12</td>\n",
       "      <td>4.0</td>\n",
       "      <td>30.0</td>\n",
       "      <td>0.0</td>\n",
       "      <td>1379</td>\n",
       "      <td>0.806</td>\n",
       "      <td>1.273</td>\n",
       "      <td>Lower Bracket</td>\n",
       "      <td>OAS1_0022_MR1</td>\n",
       "      <td>F</td>\n",
       "      <td>R</td>\n",
       "      <td>69</td>\n",
       "      <td>2.0</td>\n",
       "      <td>4.0</td>\n",
       "      <td>23.0</td>\n",
       "      <td>0.5</td>\n",
       "      <td>1447</td>\n",
       "      <td>0.757</td>\n",
       "      <td>1.213</td>\n",
       "      <td>1.0</td>\n",
       "      <td>Demented</td>\n",
       "    </tr>\n",
       "    <tr>\n",
       "      <th>10508</th>\n",
       "      <td>OAS2_0177</td>\n",
       "      <td>OAS2_0177_MR1</td>\n",
       "      <td>Nondemented</td>\n",
       "      <td>1</td>\n",
       "      <td>0</td>\n",
       "      <td>M</td>\n",
       "      <td>R</td>\n",
       "      <td>68</td>\n",
       "      <td>14</td>\n",
       "      <td>3.0</td>\n",
       "      <td>26.0</td>\n",
       "      <td>0.0</td>\n",
       "      <td>1444</td>\n",
       "      <td>0.778</td>\n",
       "      <td>1.216</td>\n",
       "      <td>Lower Bracket</td>\n",
       "      <td>OAS1_0022_MR1</td>\n",
       "      <td>F</td>\n",
       "      <td>R</td>\n",
       "      <td>69</td>\n",
       "      <td>2.0</td>\n",
       "      <td>4.0</td>\n",
       "      <td>23.0</td>\n",
       "      <td>0.5</td>\n",
       "      <td>1447</td>\n",
       "      <td>0.757</td>\n",
       "      <td>1.213</td>\n",
       "      <td>1.0</td>\n",
       "      <td>Demented</td>\n",
       "    </tr>\n",
       "    <tr>\n",
       "      <th>10548</th>\n",
       "      <td>OAS2_0183</td>\n",
       "      <td>OAS2_0183_MR1</td>\n",
       "      <td>Nondemented</td>\n",
       "      <td>1</td>\n",
       "      <td>0</td>\n",
       "      <td>F</td>\n",
       "      <td>R</td>\n",
       "      <td>66</td>\n",
       "      <td>13</td>\n",
       "      <td>2.0</td>\n",
       "      <td>30.0</td>\n",
       "      <td>0.0</td>\n",
       "      <td>1495</td>\n",
       "      <td>0.746</td>\n",
       "      <td>1.174</td>\n",
       "      <td>Lower Bracket</td>\n",
       "      <td>OAS1_0022_MR1</td>\n",
       "      <td>F</td>\n",
       "      <td>R</td>\n",
       "      <td>69</td>\n",
       "      <td>2.0</td>\n",
       "      <td>4.0</td>\n",
       "      <td>23.0</td>\n",
       "      <td>0.5</td>\n",
       "      <td>1447</td>\n",
       "      <td>0.757</td>\n",
       "      <td>1.213</td>\n",
       "      <td>1.0</td>\n",
       "      <td>Demented</td>\n",
       "    </tr>\n",
       "    <tr>\n",
       "      <th>10588</th>\n",
       "      <td>OAS2_0186</td>\n",
       "      <td>OAS2_0186_MR1</td>\n",
       "      <td>Nondemented</td>\n",
       "      <td>1</td>\n",
       "      <td>0</td>\n",
       "      <td>F</td>\n",
       "      <td>R</td>\n",
       "      <td>61</td>\n",
       "      <td>13</td>\n",
       "      <td>2.0</td>\n",
       "      <td>30.0</td>\n",
       "      <td>0.0</td>\n",
       "      <td>1319</td>\n",
       "      <td>0.801</td>\n",
       "      <td>1.331</td>\n",
       "      <td>Lower Bracket</td>\n",
       "      <td>OAS1_0022_MR1</td>\n",
       "      <td>F</td>\n",
       "      <td>R</td>\n",
       "      <td>69</td>\n",
       "      <td>2.0</td>\n",
       "      <td>4.0</td>\n",
       "      <td>23.0</td>\n",
       "      <td>0.5</td>\n",
       "      <td>1447</td>\n",
       "      <td>0.757</td>\n",
       "      <td>1.213</td>\n",
       "      <td>1.0</td>\n",
       "      <td>Demented</td>\n",
       "    </tr>\n",
       "  </tbody>\n",
       "</table>\n",
       "<p>150 rows × 29 columns</p>\n",
       "</div>"
      ],
      "text/plain": [
       "      Subject ID         MRI ID      Group_x  Visit  MR Delay M/F_x Hand_x  \\\n",
       "0      OAS2_0001  OAS2_0001_MR1  Nondemented      1         0     M      R   \n",
       "75     OAS2_0004  OAS2_0004_MR1  Nondemented      1         0     F      R   \n",
       "150    OAS2_0005  OAS2_0005_MR1  Nondemented      1         0     M      R   \n",
       "225    OAS2_0008  OAS2_0008_MR1  Nondemented      1         0     F      R   \n",
       "300    OAS2_0013  OAS2_0013_MR1  Nondemented      1         0     F      R   \n",
       "...          ...            ...          ...    ...       ...   ...    ...   \n",
       "10428  OAS2_0152  OAS2_0152_MR1  Nondemented      1         0     F      R   \n",
       "10468  OAS2_0174  OAS2_0174_MR1  Nondemented      1         0     M      R   \n",
       "10508  OAS2_0177  OAS2_0177_MR1  Nondemented      1         0     M      R   \n",
       "10548  OAS2_0183  OAS2_0183_MR1  Nondemented      1         0     F      R   \n",
       "10588  OAS2_0186  OAS2_0186_MR1  Nondemented      1         0     F      R   \n",
       "\n",
       "       Age_x  EDUC  SES_x  MMSE_x  CDR_x  eTIV_x  nWBV_x  ASF_x  \\\n",
       "0         87    14    2.0    27.0    0.0    1987   0.696  0.883   \n",
       "75        88    18    3.0    28.0    0.0    1215   0.710  1.444   \n",
       "150       80    12    4.0    28.0    0.0    1689   0.712  1.039   \n",
       "225       93    14    2.0    30.0    0.0    1272   0.698  1.380   \n",
       "300       81    12    4.0    30.0    0.0    1230   0.715  1.427   \n",
       "...      ...   ...    ...     ...    ...     ...     ...    ...   \n",
       "10428     66    18    2.0    29.0    0.0    1191   0.785  1.474   \n",
       "10468     60    12    4.0    30.0    0.0    1379   0.806  1.273   \n",
       "10508     68    14    3.0    26.0    0.0    1444   0.778  1.216   \n",
       "10548     66    13    2.0    30.0    0.0    1495   0.746  1.174   \n",
       "10588     61    13    2.0    30.0    0.0    1319   0.801  1.331   \n",
       "\n",
       "                 Age_Binned             ID M/F_y Hand_y  Age_y  Educ  SES_y  \\\n",
       "0      Upper middle Bracket  OAS1_0013_MR1     F      R     81   5.0    2.0   \n",
       "75     Upper middle Bracket  OAS1_0013_MR1     F      R     81   5.0    2.0   \n",
       "150    Upper middle Bracket  OAS1_0013_MR1     F      R     81   5.0    2.0   \n",
       "225    Upper middle Bracket  OAS1_0013_MR1     F      R     81   5.0    2.0   \n",
       "300    Upper middle Bracket  OAS1_0013_MR1     F      R     81   5.0    2.0   \n",
       "...                     ...            ...   ...    ...    ...   ...    ...   \n",
       "10428         Lower Bracket  OAS1_0022_MR1     F      R     69   2.0    4.0   \n",
       "10468         Lower Bracket  OAS1_0022_MR1     F      R     69   2.0    4.0   \n",
       "10508         Lower Bracket  OAS1_0022_MR1     F      R     69   2.0    4.0   \n",
       "10548         Lower Bracket  OAS1_0022_MR1     F      R     69   2.0    4.0   \n",
       "10588         Lower Bracket  OAS1_0022_MR1     F      R     69   2.0    4.0   \n",
       "\n",
       "       MMSE_y  CDR_y  eTIV_y  nWBV_y  ASF_y  Delay      Group_y  \n",
       "0        30.0    0.0    1664   0.679  1.055    1.0  NonDemented  \n",
       "75       30.0    0.0    1664   0.679  1.055    1.0  NonDemented  \n",
       "150      30.0    0.0    1664   0.679  1.055    1.0  NonDemented  \n",
       "225      30.0    0.0    1664   0.679  1.055    1.0  NonDemented  \n",
       "300      30.0    0.0    1664   0.679  1.055    1.0  NonDemented  \n",
       "...       ...    ...     ...     ...    ...    ...          ...  \n",
       "10428    23.0    0.5    1447   0.757  1.213    1.0     Demented  \n",
       "10468    23.0    0.5    1447   0.757  1.213    1.0     Demented  \n",
       "10508    23.0    0.5    1447   0.757  1.213    1.0     Demented  \n",
       "10548    23.0    0.5    1447   0.757  1.213    1.0     Demented  \n",
       "10588    23.0    0.5    1447   0.757  1.213    1.0     Demented  \n",
       "\n",
       "[150 rows x 29 columns]"
      ]
     },
     "execution_count": 233,
     "metadata": {},
     "output_type": "execute_result"
    }
   ],
   "source": [
    "df_scans_joined"
   ]
  },
  {
   "cell_type": "markdown",
   "metadata": {
    "slideshow": {
     "slide_type": "slide"
    }
   },
   "source": [
    "Change the column names so they are more readable"
   ]
  },
  {
   "cell_type": "code",
   "execution_count": 234,
   "metadata": {
    "slideshow": {
     "slide_type": "subslide"
    }
   },
   "outputs": [
    {
     "data": {
      "text/html": [
       "<div>\n",
       "<style scoped>\n",
       "    .dataframe tbody tr th:only-of-type {\n",
       "        vertical-align: middle;\n",
       "    }\n",
       "\n",
       "    .dataframe tbody tr th {\n",
       "        vertical-align: top;\n",
       "    }\n",
       "\n",
       "    .dataframe thead th {\n",
       "        text-align: right;\n",
       "    }\n",
       "</style>\n",
       "<table border=\"1\" class=\"dataframe\">\n",
       "  <thead>\n",
       "    <tr style=\"text-align: right;\">\n",
       "      <th></th>\n",
       "      <th>Subject ID</th>\n",
       "      <th>MRI ID</th>\n",
       "      <th>Group_Long</th>\n",
       "      <th>Visit</th>\n",
       "      <th>MR Delay</th>\n",
       "      <th>M/F_Long</th>\n",
       "      <th>Hand_Long</th>\n",
       "      <th>Age_Long</th>\n",
       "      <th>EDUC_Long</th>\n",
       "      <th>SES_Long</th>\n",
       "      <th>MMSE_Long</th>\n",
       "      <th>CDR_Long</th>\n",
       "      <th>eTIV_Long</th>\n",
       "      <th>nWBV_Long</th>\n",
       "      <th>ASF_Long</th>\n",
       "      <th>Age_Binned</th>\n",
       "      <th>ID</th>\n",
       "      <th>M/F_Sec</th>\n",
       "      <th>Hand_Sec</th>\n",
       "      <th>Age_Sec</th>\n",
       "      <th>EDUC_Sec</th>\n",
       "      <th>SES_Sec</th>\n",
       "      <th>MMSE_Sec</th>\n",
       "      <th>CDR_Sec</th>\n",
       "      <th>eTIV_Sec</th>\n",
       "      <th>nWBV_Sec</th>\n",
       "      <th>ASF_Sec</th>\n",
       "      <th>Delay</th>\n",
       "      <th>Group_Sec</th>\n",
       "    </tr>\n",
       "  </thead>\n",
       "  <tbody>\n",
       "    <tr>\n",
       "      <th>0</th>\n",
       "      <td>OAS2_0001</td>\n",
       "      <td>OAS2_0001_MR1</td>\n",
       "      <td>Nondemented</td>\n",
       "      <td>1</td>\n",
       "      <td>0</td>\n",
       "      <td>M</td>\n",
       "      <td>R</td>\n",
       "      <td>87</td>\n",
       "      <td>14</td>\n",
       "      <td>2.0</td>\n",
       "      <td>27.0</td>\n",
       "      <td>0.0</td>\n",
       "      <td>1987</td>\n",
       "      <td>0.696</td>\n",
       "      <td>0.883</td>\n",
       "      <td>Upper middle Bracket</td>\n",
       "      <td>OAS1_0013_MR1</td>\n",
       "      <td>F</td>\n",
       "      <td>R</td>\n",
       "      <td>81</td>\n",
       "      <td>5.0</td>\n",
       "      <td>2.0</td>\n",
       "      <td>30.0</td>\n",
       "      <td>0.0</td>\n",
       "      <td>1664</td>\n",
       "      <td>0.679</td>\n",
       "      <td>1.055</td>\n",
       "      <td>1.0</td>\n",
       "      <td>NonDemented</td>\n",
       "    </tr>\n",
       "    <tr>\n",
       "      <th>75</th>\n",
       "      <td>OAS2_0004</td>\n",
       "      <td>OAS2_0004_MR1</td>\n",
       "      <td>Nondemented</td>\n",
       "      <td>1</td>\n",
       "      <td>0</td>\n",
       "      <td>F</td>\n",
       "      <td>R</td>\n",
       "      <td>88</td>\n",
       "      <td>18</td>\n",
       "      <td>3.0</td>\n",
       "      <td>28.0</td>\n",
       "      <td>0.0</td>\n",
       "      <td>1215</td>\n",
       "      <td>0.710</td>\n",
       "      <td>1.444</td>\n",
       "      <td>Upper middle Bracket</td>\n",
       "      <td>OAS1_0013_MR1</td>\n",
       "      <td>F</td>\n",
       "      <td>R</td>\n",
       "      <td>81</td>\n",
       "      <td>5.0</td>\n",
       "      <td>2.0</td>\n",
       "      <td>30.0</td>\n",
       "      <td>0.0</td>\n",
       "      <td>1664</td>\n",
       "      <td>0.679</td>\n",
       "      <td>1.055</td>\n",
       "      <td>1.0</td>\n",
       "      <td>NonDemented</td>\n",
       "    </tr>\n",
       "    <tr>\n",
       "      <th>150</th>\n",
       "      <td>OAS2_0005</td>\n",
       "      <td>OAS2_0005_MR1</td>\n",
       "      <td>Nondemented</td>\n",
       "      <td>1</td>\n",
       "      <td>0</td>\n",
       "      <td>M</td>\n",
       "      <td>R</td>\n",
       "      <td>80</td>\n",
       "      <td>12</td>\n",
       "      <td>4.0</td>\n",
       "      <td>28.0</td>\n",
       "      <td>0.0</td>\n",
       "      <td>1689</td>\n",
       "      <td>0.712</td>\n",
       "      <td>1.039</td>\n",
       "      <td>Upper middle Bracket</td>\n",
       "      <td>OAS1_0013_MR1</td>\n",
       "      <td>F</td>\n",
       "      <td>R</td>\n",
       "      <td>81</td>\n",
       "      <td>5.0</td>\n",
       "      <td>2.0</td>\n",
       "      <td>30.0</td>\n",
       "      <td>0.0</td>\n",
       "      <td>1664</td>\n",
       "      <td>0.679</td>\n",
       "      <td>1.055</td>\n",
       "      <td>1.0</td>\n",
       "      <td>NonDemented</td>\n",
       "    </tr>\n",
       "    <tr>\n",
       "      <th>225</th>\n",
       "      <td>OAS2_0008</td>\n",
       "      <td>OAS2_0008_MR1</td>\n",
       "      <td>Nondemented</td>\n",
       "      <td>1</td>\n",
       "      <td>0</td>\n",
       "      <td>F</td>\n",
       "      <td>R</td>\n",
       "      <td>93</td>\n",
       "      <td>14</td>\n",
       "      <td>2.0</td>\n",
       "      <td>30.0</td>\n",
       "      <td>0.0</td>\n",
       "      <td>1272</td>\n",
       "      <td>0.698</td>\n",
       "      <td>1.380</td>\n",
       "      <td>Upper middle Bracket</td>\n",
       "      <td>OAS1_0013_MR1</td>\n",
       "      <td>F</td>\n",
       "      <td>R</td>\n",
       "      <td>81</td>\n",
       "      <td>5.0</td>\n",
       "      <td>2.0</td>\n",
       "      <td>30.0</td>\n",
       "      <td>0.0</td>\n",
       "      <td>1664</td>\n",
       "      <td>0.679</td>\n",
       "      <td>1.055</td>\n",
       "      <td>1.0</td>\n",
       "      <td>NonDemented</td>\n",
       "    </tr>\n",
       "    <tr>\n",
       "      <th>300</th>\n",
       "      <td>OAS2_0013</td>\n",
       "      <td>OAS2_0013_MR1</td>\n",
       "      <td>Nondemented</td>\n",
       "      <td>1</td>\n",
       "      <td>0</td>\n",
       "      <td>F</td>\n",
       "      <td>R</td>\n",
       "      <td>81</td>\n",
       "      <td>12</td>\n",
       "      <td>4.0</td>\n",
       "      <td>30.0</td>\n",
       "      <td>0.0</td>\n",
       "      <td>1230</td>\n",
       "      <td>0.715</td>\n",
       "      <td>1.427</td>\n",
       "      <td>Upper middle Bracket</td>\n",
       "      <td>OAS1_0013_MR1</td>\n",
       "      <td>F</td>\n",
       "      <td>R</td>\n",
       "      <td>81</td>\n",
       "      <td>5.0</td>\n",
       "      <td>2.0</td>\n",
       "      <td>30.0</td>\n",
       "      <td>0.0</td>\n",
       "      <td>1664</td>\n",
       "      <td>0.679</td>\n",
       "      <td>1.055</td>\n",
       "      <td>1.0</td>\n",
       "      <td>NonDemented</td>\n",
       "    </tr>\n",
       "  </tbody>\n",
       "</table>\n",
       "</div>"
      ],
      "text/plain": [
       "    Subject ID         MRI ID   Group_Long  Visit  MR Delay M/F_Long  \\\n",
       "0    OAS2_0001  OAS2_0001_MR1  Nondemented      1         0        M   \n",
       "75   OAS2_0004  OAS2_0004_MR1  Nondemented      1         0        F   \n",
       "150  OAS2_0005  OAS2_0005_MR1  Nondemented      1         0        M   \n",
       "225  OAS2_0008  OAS2_0008_MR1  Nondemented      1         0        F   \n",
       "300  OAS2_0013  OAS2_0013_MR1  Nondemented      1         0        F   \n",
       "\n",
       "    Hand_Long  Age_Long  EDUC_Long  SES_Long  MMSE_Long  CDR_Long  eTIV_Long  \\\n",
       "0           R        87         14       2.0       27.0       0.0       1987   \n",
       "75          R        88         18       3.0       28.0       0.0       1215   \n",
       "150         R        80         12       4.0       28.0       0.0       1689   \n",
       "225         R        93         14       2.0       30.0       0.0       1272   \n",
       "300         R        81         12       4.0       30.0       0.0       1230   \n",
       "\n",
       "     nWBV_Long  ASF_Long            Age_Binned             ID M/F_Sec  \\\n",
       "0        0.696     0.883  Upper middle Bracket  OAS1_0013_MR1       F   \n",
       "75       0.710     1.444  Upper middle Bracket  OAS1_0013_MR1       F   \n",
       "150      0.712     1.039  Upper middle Bracket  OAS1_0013_MR1       F   \n",
       "225      0.698     1.380  Upper middle Bracket  OAS1_0013_MR1       F   \n",
       "300      0.715     1.427  Upper middle Bracket  OAS1_0013_MR1       F   \n",
       "\n",
       "    Hand_Sec  Age_Sec  EDUC_Sec  SES_Sec  MMSE_Sec  CDR_Sec  eTIV_Sec  \\\n",
       "0          R       81       5.0      2.0      30.0      0.0      1664   \n",
       "75         R       81       5.0      2.0      30.0      0.0      1664   \n",
       "150        R       81       5.0      2.0      30.0      0.0      1664   \n",
       "225        R       81       5.0      2.0      30.0      0.0      1664   \n",
       "300        R       81       5.0      2.0      30.0      0.0      1664   \n",
       "\n",
       "     nWBV_Sec  ASF_Sec  Delay    Group_Sec  \n",
       "0       0.679    1.055    1.0  NonDemented  \n",
       "75      0.679    1.055    1.0  NonDemented  \n",
       "150     0.679    1.055    1.0  NonDemented  \n",
       "225     0.679    1.055    1.0  NonDemented  \n",
       "300     0.679    1.055    1.0  NonDemented  "
      ]
     },
     "execution_count": 234,
     "metadata": {},
     "output_type": "execute_result"
    }
   ],
   "source": [
    "merged_columns=[\"Subject ID\",\n",
    "        \"MRI ID\",\n",
    "        \"Group_Long\",\n",
    "        \"Visit\",\n",
    "        \"MR Delay\",\n",
    "        \"M/F_Long\",\n",
    "        \"Hand_Long\",\n",
    "        \"Age_Long\",\n",
    "        \"EDUC_Long\",\n",
    "        \"SES_Long\",\n",
    "        \"MMSE_Long\",\n",
    "        \"CDR_Long\",\n",
    "        \"eTIV_Long\",\n",
    "        \"nWBV_Long\",\n",
    "        \"ASF_Long\",\n",
    "        \"Age_Binned\",\n",
    "        \"ID\",\n",
    "        \"M/F_Sec\",\n",
    "        \"Hand_Sec\",\n",
    "        \"Age_Sec\",\n",
    "        \"EDUC_Sec\",\n",
    "        \"SES_Sec\",\n",
    "        \"MMSE_Sec\",\n",
    "        \"CDR_Sec\",\n",
    "        \"eTIV_Sec\",\n",
    "        \"nWBV_Sec\",\n",
    "        \"ASF_Sec\",\n",
    "        \"Delay\",\n",
    "        \"Group_Sec\"]\n",
    "df_scans_joined.columns=merged_columns\n",
    "df_scans_joined.head(5)"
   ]
  },
  {
   "cell_type": "markdown",
   "metadata": {
    "slideshow": {
     "slide_type": "slide"
    }
   },
   "source": [
    "### Data Visualization"
   ]
  },
  {
   "cell_type": "markdown",
   "metadata": {
    "slideshow": {
     "slide_type": "subslide"
    }
   },
   "source": [
    "Pivot table by age in both measurement datasets"
   ]
  },
  {
   "cell_type": "code",
   "execution_count": 235,
   "metadata": {
    "slideshow": {
     "slide_type": "subslide"
    }
   },
   "outputs": [
    {
     "data": {
      "text/html": [
       "<div>\n",
       "<style scoped>\n",
       "    .dataframe tbody tr th:only-of-type {\n",
       "        vertical-align: middle;\n",
       "    }\n",
       "\n",
       "    .dataframe tbody tr th {\n",
       "        vertical-align: top;\n",
       "    }\n",
       "\n",
       "    .dataframe thead th {\n",
       "        text-align: right;\n",
       "    }\n",
       "</style>\n",
       "<table border=\"1\" class=\"dataframe\">\n",
       "  <thead>\n",
       "    <tr style=\"text-align: right;\">\n",
       "      <th></th>\n",
       "      <th></th>\n",
       "      <th></th>\n",
       "      <th>ASF_Long</th>\n",
       "      <th>ASF_Sec</th>\n",
       "      <th>Age_Long</th>\n",
       "      <th>Age_Sec</th>\n",
       "      <th>CDR_Long</th>\n",
       "      <th>CDR_Sec</th>\n",
       "      <th>Delay</th>\n",
       "      <th>EDUC_Long</th>\n",
       "      <th>EDUC_Sec</th>\n",
       "      <th>MMSE_Long</th>\n",
       "      <th>MMSE_Sec</th>\n",
       "      <th>MR Delay</th>\n",
       "      <th>SES_Long</th>\n",
       "      <th>SES_Sec</th>\n",
       "      <th>Visit</th>\n",
       "      <th>eTIV_Long</th>\n",
       "      <th>eTIV_Sec</th>\n",
       "      <th>nWBV_Long</th>\n",
       "      <th>nWBV_Sec</th>\n",
       "    </tr>\n",
       "    <tr>\n",
       "      <th>Group_Long</th>\n",
       "      <th>Group_Sec</th>\n",
       "      <th>Age_Binned</th>\n",
       "      <th></th>\n",
       "      <th></th>\n",
       "      <th></th>\n",
       "      <th></th>\n",
       "      <th></th>\n",
       "      <th></th>\n",
       "      <th></th>\n",
       "      <th></th>\n",
       "      <th></th>\n",
       "      <th></th>\n",
       "      <th></th>\n",
       "      <th></th>\n",
       "      <th></th>\n",
       "      <th></th>\n",
       "      <th></th>\n",
       "      <th></th>\n",
       "      <th></th>\n",
       "      <th></th>\n",
       "      <th></th>\n",
       "    </tr>\n",
       "  </thead>\n",
       "  <tbody>\n",
       "    <tr>\n",
       "      <th rowspan=\"3\" valign=\"top\">Converted</th>\n",
       "      <th>Demented</th>\n",
       "      <th>Lower Bracket</th>\n",
       "      <td>1.268750</td>\n",
       "      <td>1.213</td>\n",
       "      <td>67.250000</td>\n",
       "      <td>69</td>\n",
       "      <td>0.125000</td>\n",
       "      <td>0.5</td>\n",
       "      <td>1.0</td>\n",
       "      <td>14.500000</td>\n",
       "      <td>2.0</td>\n",
       "      <td>30.000000</td>\n",
       "      <td>23.0</td>\n",
       "      <td>0</td>\n",
       "      <td>2.500000</td>\n",
       "      <td>4.0</td>\n",
       "      <td>1</td>\n",
       "      <td>1387.500000</td>\n",
       "      <td>1447</td>\n",
       "      <td>0.774250</td>\n",
       "      <td>0.757</td>\n",
       "    </tr>\n",
       "    <tr>\n",
       "      <th rowspan=\"2\" valign=\"top\">NonDemented</th>\n",
       "      <th>Lower middle Bracket</th>\n",
       "      <td>1.162250</td>\n",
       "      <td>1.306</td>\n",
       "      <td>76.250000</td>\n",
       "      <td>74</td>\n",
       "      <td>0.000000</td>\n",
       "      <td>0.0</td>\n",
       "      <td>1.0</td>\n",
       "      <td>15.500000</td>\n",
       "      <td>2.0</td>\n",
       "      <td>28.750000</td>\n",
       "      <td>29.0</td>\n",
       "      <td>0</td>\n",
       "      <td>1.500000</td>\n",
       "      <td>3.0</td>\n",
       "      <td>1</td>\n",
       "      <td>1528.000000</td>\n",
       "      <td>1344</td>\n",
       "      <td>0.736750</td>\n",
       "      <td>0.743</td>\n",
       "    </tr>\n",
       "    <tr>\n",
       "      <th>Upper middle Bracket</th>\n",
       "      <td>1.248000</td>\n",
       "      <td>1.055</td>\n",
       "      <td>84.166667</td>\n",
       "      <td>81</td>\n",
       "      <td>0.000000</td>\n",
       "      <td>0.0</td>\n",
       "      <td>1.0</td>\n",
       "      <td>15.333333</td>\n",
       "      <td>5.0</td>\n",
       "      <td>29.333333</td>\n",
       "      <td>30.0</td>\n",
       "      <td>0</td>\n",
       "      <td>1.666667</td>\n",
       "      <td>2.0</td>\n",
       "      <td>1</td>\n",
       "      <td>1412.333333</td>\n",
       "      <td>1664</td>\n",
       "      <td>0.714167</td>\n",
       "      <td>0.679</td>\n",
       "    </tr>\n",
       "    <tr>\n",
       "      <th rowspan=\"3\" valign=\"top\">Demented</th>\n",
       "      <th>Demented</th>\n",
       "      <th>Lower Bracket</th>\n",
       "      <td>1.166000</td>\n",
       "      <td>1.213</td>\n",
       "      <td>65.727273</td>\n",
       "      <td>69</td>\n",
       "      <td>0.636364</td>\n",
       "      <td>0.5</td>\n",
       "      <td>1.0</td>\n",
       "      <td>14.272727</td>\n",
       "      <td>2.0</td>\n",
       "      <td>24.818182</td>\n",
       "      <td>23.0</td>\n",
       "      <td>0</td>\n",
       "      <td>2.545455</td>\n",
       "      <td>4.0</td>\n",
       "      <td>1</td>\n",
       "      <td>1521.727273</td>\n",
       "      <td>1447</td>\n",
       "      <td>0.746000</td>\n",
       "      <td>0.757</td>\n",
       "    </tr>\n",
       "    <tr>\n",
       "      <th rowspan=\"2\" valign=\"top\">NonDemented</th>\n",
       "      <th>Lower middle Bracket</th>\n",
       "      <td>1.205139</td>\n",
       "      <td>1.306</td>\n",
       "      <td>73.972222</td>\n",
       "      <td>74</td>\n",
       "      <td>0.597222</td>\n",
       "      <td>0.0</td>\n",
       "      <td>1.0</td>\n",
       "      <td>13.833333</td>\n",
       "      <td>2.0</td>\n",
       "      <td>25.555556</td>\n",
       "      <td>29.0</td>\n",
       "      <td>0</td>\n",
       "      <td>2.722222</td>\n",
       "      <td>3.0</td>\n",
       "      <td>1</td>\n",
       "      <td>1477.166667</td>\n",
       "      <td>1344</td>\n",
       "      <td>0.726333</td>\n",
       "      <td>0.743</td>\n",
       "    </tr>\n",
       "    <tr>\n",
       "      <th>Upper middle Bracket</th>\n",
       "      <td>1.228882</td>\n",
       "      <td>1.055</td>\n",
       "      <td>83.588235</td>\n",
       "      <td>81</td>\n",
       "      <td>0.588235</td>\n",
       "      <td>0.0</td>\n",
       "      <td>1.0</td>\n",
       "      <td>13.000000</td>\n",
       "      <td>5.0</td>\n",
       "      <td>25.176471</td>\n",
       "      <td>30.0</td>\n",
       "      <td>0</td>\n",
       "      <td>2.764706</td>\n",
       "      <td>2.0</td>\n",
       "      <td>1</td>\n",
       "      <td>1443.705882</td>\n",
       "      <td>1664</td>\n",
       "      <td>0.706294</td>\n",
       "      <td>0.679</td>\n",
       "    </tr>\n",
       "    <tr>\n",
       "      <th rowspan=\"3\" valign=\"top\">Nondemented</th>\n",
       "      <th>Demented</th>\n",
       "      <th>Lower Bracket</th>\n",
       "      <td>1.233632</td>\n",
       "      <td>1.213</td>\n",
       "      <td>65.368421</td>\n",
       "      <td>69</td>\n",
       "      <td>0.000000</td>\n",
       "      <td>0.5</td>\n",
       "      <td>1.0</td>\n",
       "      <td>15.105263</td>\n",
       "      <td>2.0</td>\n",
       "      <td>29.368421</td>\n",
       "      <td>23.0</td>\n",
       "      <td>0</td>\n",
       "      <td>2.473684</td>\n",
       "      <td>4.0</td>\n",
       "      <td>1</td>\n",
       "      <td>1435.789474</td>\n",
       "      <td>1447</td>\n",
       "      <td>0.783632</td>\n",
       "      <td>0.757</td>\n",
       "    </tr>\n",
       "    <tr>\n",
       "      <th rowspan=\"2\" valign=\"top\">NonDemented</th>\n",
       "      <th>Lower middle Bracket</th>\n",
       "      <td>1.198226</td>\n",
       "      <td>1.306</td>\n",
       "      <td>74.741935</td>\n",
       "      <td>74</td>\n",
       "      <td>0.000000</td>\n",
       "      <td>0.0</td>\n",
       "      <td>1.0</td>\n",
       "      <td>15.645161</td>\n",
       "      <td>2.0</td>\n",
       "      <td>29.258065</td>\n",
       "      <td>29.0</td>\n",
       "      <td>0</td>\n",
       "      <td>2.258065</td>\n",
       "      <td>3.0</td>\n",
       "      <td>1</td>\n",
       "      <td>1484.354839</td>\n",
       "      <td>1344</td>\n",
       "      <td>0.740097</td>\n",
       "      <td>0.743</td>\n",
       "    </tr>\n",
       "    <tr>\n",
       "      <th>Upper middle Bracket</th>\n",
       "      <td>1.184182</td>\n",
       "      <td>1.055</td>\n",
       "      <td>85.090909</td>\n",
       "      <td>81</td>\n",
       "      <td>0.000000</td>\n",
       "      <td>0.0</td>\n",
       "      <td>1.0</td>\n",
       "      <td>14.545455</td>\n",
       "      <td>5.0</td>\n",
       "      <td>28.954545</td>\n",
       "      <td>30.0</td>\n",
       "      <td>0</td>\n",
       "      <td>2.590909</td>\n",
       "      <td>2.0</td>\n",
       "      <td>1</td>\n",
       "      <td>1512.409091</td>\n",
       "      <td>1664</td>\n",
       "      <td>0.722227</td>\n",
       "      <td>0.679</td>\n",
       "    </tr>\n",
       "  </tbody>\n",
       "</table>\n",
       "</div>"
      ],
      "text/plain": [
       "                                              ASF_Long  ASF_Sec   Age_Long  \\\n",
       "Group_Long  Group_Sec   Age_Binned                                           \n",
       "Converted   Demented    Lower Bracket         1.268750    1.213  67.250000   \n",
       "            NonDemented Lower middle Bracket  1.162250    1.306  76.250000   \n",
       "                        Upper middle Bracket  1.248000    1.055  84.166667   \n",
       "Demented    Demented    Lower Bracket         1.166000    1.213  65.727273   \n",
       "            NonDemented Lower middle Bracket  1.205139    1.306  73.972222   \n",
       "                        Upper middle Bracket  1.228882    1.055  83.588235   \n",
       "Nondemented Demented    Lower Bracket         1.233632    1.213  65.368421   \n",
       "            NonDemented Lower middle Bracket  1.198226    1.306  74.741935   \n",
       "                        Upper middle Bracket  1.184182    1.055  85.090909   \n",
       "\n",
       "                                              Age_Sec  CDR_Long  CDR_Sec  \\\n",
       "Group_Long  Group_Sec   Age_Binned                                         \n",
       "Converted   Demented    Lower Bracket              69  0.125000      0.5   \n",
       "            NonDemented Lower middle Bracket       74  0.000000      0.0   \n",
       "                        Upper middle Bracket       81  0.000000      0.0   \n",
       "Demented    Demented    Lower Bracket              69  0.636364      0.5   \n",
       "            NonDemented Lower middle Bracket       74  0.597222      0.0   \n",
       "                        Upper middle Bracket       81  0.588235      0.0   \n",
       "Nondemented Demented    Lower Bracket              69  0.000000      0.5   \n",
       "            NonDemented Lower middle Bracket       74  0.000000      0.0   \n",
       "                        Upper middle Bracket       81  0.000000      0.0   \n",
       "\n",
       "                                              Delay  EDUC_Long  EDUC_Sec  \\\n",
       "Group_Long  Group_Sec   Age_Binned                                         \n",
       "Converted   Demented    Lower Bracket           1.0  14.500000       2.0   \n",
       "            NonDemented Lower middle Bracket    1.0  15.500000       2.0   \n",
       "                        Upper middle Bracket    1.0  15.333333       5.0   \n",
       "Demented    Demented    Lower Bracket           1.0  14.272727       2.0   \n",
       "            NonDemented Lower middle Bracket    1.0  13.833333       2.0   \n",
       "                        Upper middle Bracket    1.0  13.000000       5.0   \n",
       "Nondemented Demented    Lower Bracket           1.0  15.105263       2.0   \n",
       "            NonDemented Lower middle Bracket    1.0  15.645161       2.0   \n",
       "                        Upper middle Bracket    1.0  14.545455       5.0   \n",
       "\n",
       "                                              MMSE_Long  MMSE_Sec  MR Delay  \\\n",
       "Group_Long  Group_Sec   Age_Binned                                            \n",
       "Converted   Demented    Lower Bracket         30.000000      23.0         0   \n",
       "            NonDemented Lower middle Bracket  28.750000      29.0         0   \n",
       "                        Upper middle Bracket  29.333333      30.0         0   \n",
       "Demented    Demented    Lower Bracket         24.818182      23.0         0   \n",
       "            NonDemented Lower middle Bracket  25.555556      29.0         0   \n",
       "                        Upper middle Bracket  25.176471      30.0         0   \n",
       "Nondemented Demented    Lower Bracket         29.368421      23.0         0   \n",
       "            NonDemented Lower middle Bracket  29.258065      29.0         0   \n",
       "                        Upper middle Bracket  28.954545      30.0         0   \n",
       "\n",
       "                                              SES_Long  SES_Sec  Visit  \\\n",
       "Group_Long  Group_Sec   Age_Binned                                       \n",
       "Converted   Demented    Lower Bracket         2.500000      4.0      1   \n",
       "            NonDemented Lower middle Bracket  1.500000      3.0      1   \n",
       "                        Upper middle Bracket  1.666667      2.0      1   \n",
       "Demented    Demented    Lower Bracket         2.545455      4.0      1   \n",
       "            NonDemented Lower middle Bracket  2.722222      3.0      1   \n",
       "                        Upper middle Bracket  2.764706      2.0      1   \n",
       "Nondemented Demented    Lower Bracket         2.473684      4.0      1   \n",
       "            NonDemented Lower middle Bracket  2.258065      3.0      1   \n",
       "                        Upper middle Bracket  2.590909      2.0      1   \n",
       "\n",
       "                                                eTIV_Long  eTIV_Sec  \\\n",
       "Group_Long  Group_Sec   Age_Binned                                    \n",
       "Converted   Demented    Lower Bracket         1387.500000      1447   \n",
       "            NonDemented Lower middle Bracket  1528.000000      1344   \n",
       "                        Upper middle Bracket  1412.333333      1664   \n",
       "Demented    Demented    Lower Bracket         1521.727273      1447   \n",
       "            NonDemented Lower middle Bracket  1477.166667      1344   \n",
       "                        Upper middle Bracket  1443.705882      1664   \n",
       "Nondemented Demented    Lower Bracket         1435.789474      1447   \n",
       "            NonDemented Lower middle Bracket  1484.354839      1344   \n",
       "                        Upper middle Bracket  1512.409091      1664   \n",
       "\n",
       "                                              nWBV_Long  nWBV_Sec  \n",
       "Group_Long  Group_Sec   Age_Binned                                 \n",
       "Converted   Demented    Lower Bracket          0.774250     0.757  \n",
       "            NonDemented Lower middle Bracket   0.736750     0.743  \n",
       "                        Upper middle Bracket   0.714167     0.679  \n",
       "Demented    Demented    Lower Bracket          0.746000     0.757  \n",
       "            NonDemented Lower middle Bracket   0.726333     0.743  \n",
       "                        Upper middle Bracket   0.706294     0.679  \n",
       "Nondemented Demented    Lower Bracket          0.783632     0.757  \n",
       "            NonDemented Lower middle Bracket   0.740097     0.743  \n",
       "                        Upper middle Bracket   0.722227     0.679  "
      ]
     },
     "execution_count": 235,
     "metadata": {},
     "output_type": "execute_result"
    }
   ],
   "source": [
    "pivot_table=df_scans_joined.pivot_table(index=[\"Group_Long\",\"Group_Sec\",\"Age_Binned\"])\n",
    "pivot_table"
   ]
  },
  {
   "cell_type": "markdown",
   "metadata": {
    "slideshow": {
     "slide_type": "slide"
    }
   },
   "source": [
    "Scatter plots to detect correlation patterns "
   ]
  },
  {
   "cell_type": "code",
   "execution_count": 236,
   "metadata": {
    "slideshow": {
     "slide_type": "subslide"
    }
   },
   "outputs": [
    {
     "data": {
      "text/plain": [
       "<matplotlib.collections.PathCollection at 0x7ffbdc8ff4f0>"
      ]
     },
     "execution_count": 236,
     "metadata": {},
     "output_type": "execute_result"
    },
    {
     "data": {
      "image/png": "[encoded data removed]",
      "text/plain": [
       "<Figure size 720x720 with 1 Axes>"
      ]
     },
     "metadata": {
      "needs_background": "light"
     },
     "output_type": "display_data"
    }
   ],
   "source": [
    "plt.figure(figsize=(10,10))\n",
    "plt.title(\"CDR vs Age,Longitudinal Scan\", fontsize=20)\n",
    "plt.xlabel(\"Age(years)\",fontsize=16)\n",
    "plt.ylabel(\"CDR\",fontsize=16)\n",
    "plt.scatter(x=df_scans_joined[\"Age_Long\"],y=df_scans_joined[\"CDR_Long\"])"
   ]
  },
  {
   "cell_type": "code",
   "execution_count": 237,
   "metadata": {
    "slideshow": {
     "slide_type": "subslide"
    }
   },
   "outputs": [
    {
     "data": {
      "text/plain": [
       "<matplotlib.collections.PathCollection at 0x7ffbdc8a27f0>"
      ]
     },
     "execution_count": 237,
     "metadata": {},
     "output_type": "execute_result"
    },
    {
     "data": {
      "image/png": "[encoded data removed]",
      "text/plain": [
       "<Figure size 720x720 with 1 Axes>"
      ]
     },
     "metadata": {
      "needs_background": "light"
     },
     "output_type": "display_data"
    }
   ],
   "source": [
    "plt.figure(figsize=(10,10))\n",
    "plt.title(\"MMSE vs Age,Longitudinal Scan\", fontsize=20)\n",
    "plt.xlabel(\"Age(years)\",fontsize=16)\n",
    "plt.ylabel(\"CDR\",fontsize=16)\n",
    "plt.scatter(x=df_scans_joined[\"Age_Long\"],y=df_scans_joined[\"MMSE_Long\"])"
   ]
  },
  {
   "cell_type": "code",
   "execution_count": 238,
   "metadata": {
    "slideshow": {
     "slide_type": "subslide"
    }
   },
   "outputs": [
    {
     "data": {
      "text/plain": [
       "<matplotlib.collections.PathCollection at 0x7ffcd58d3bb0>"
      ]
     },
     "execution_count": 238,
     "metadata": {},
     "output_type": "execute_result"
    },
    {
     "data": {
      "image/png": "[encoded data removed]",
      "text/plain": [
       "<Figure size 720x720 with 1 Axes>"
      ]
     },
     "metadata": {
      "needs_background": "light"
     },
     "output_type": "display_data"
    }
   ],
   "source": [
    "plt.figure(figsize=(10,10))\n",
    "plt.title(\"EDUC vs Age,Longitudinal Scan\", fontsize=20)\n",
    "plt.xlabel(\"Age(years)\",fontsize=16)\n",
    "plt.ylabel(\"CDR\",fontsize=16)\n",
    "plt.scatter(x=df_scans_joined[\"Age_Long\"],y=df_scans_joined[\"EDUC_Long\"])"
   ]
  },
  {
   "cell_type": "code",
   "execution_count": 239,
   "metadata": {
    "slideshow": {
     "slide_type": "subslide"
    }
   },
   "outputs": [
    {
     "data": {
      "text/plain": [
       "<matplotlib.collections.PathCollection at 0x7ffcd58ffa00>"
      ]
     },
     "execution_count": 239,
     "metadata": {},
     "output_type": "execute_result"
    },
    {
     "data": {
      "image/png": "[encoded data removed]",
      "text/plain": [
       "<Figure size 720x720 with 1 Axes>"
      ]
     },
     "metadata": {
      "needs_background": "light"
     },
     "output_type": "display_data"
    }
   ],
   "source": [
    "plt.figure(figsize=(10,10))\n",
    "plt.title(\"SES vs Age,Longitudinal\", fontsize=20)\n",
    "plt.xlabel(\"Age(years)\",fontsize=16)\n",
    "plt.ylabel(\"CDR\",fontsize=16)\n",
    "plt.scatter(x=df_scans_joined[\"Age_Long\"],y=df_scans_joined[\"SES_Long\"])"
   ]
  },
  {
   "cell_type": "code",
   "execution_count": 240,
   "metadata": {
    "slideshow": {
     "slide_type": "subslide"
    }
   },
   "outputs": [
    {
     "data": {
      "text/plain": [
       "<matplotlib.collections.PathCollection at 0x7ffcd40682e0>"
      ]
     },
     "execution_count": 240,
     "metadata": {},
     "output_type": "execute_result"
    },
    {
     "data": {
      "image/png": "[encoded data removed]",
      "text/plain": [
       "<Figure size 720x720 with 1 Axes>"
      ]
     },
     "metadata": {
      "needs_background": "light"
     },
     "output_type": "display_data"
    }
   ],
   "source": [
    "plt.figure(figsize=(10,10))\n",
    "plt.title(\"EDUC vs Age,Cross Sectional Scan\", fontsize=20)\n",
    "plt.xlabel(\"Age(years)\",fontsize=16)\n",
    "plt.ylabel(\"CDR\",fontsize=16)\n",
    "plt.scatter(x=df_scans_joined[\"Age_Sec\"],y=df_scans_joined[\"EDUC_Sec\"])"
   ]
  },
  {
   "cell_type": "markdown",
   "metadata": {
    "slideshow": {
     "slide_type": "slide"
    }
   },
   "source": [
    "# Additional Dataset "
   ]
  },
  {
   "cell_type": "markdown",
   "metadata": {
    "slideshow": {
     "slide_type": "subslide"
    }
   },
   "source": [
    "## Context\n",
    "The additional dataset utilised for this project is an US Dept. of Health public dataset containing the data collected betwen 2015 and 2019 pertaining to adults with several health issues. \n",
    "\n",
    "-__Alzheimer_s_Disease_and_Healthy_Aging_Data.csv__- contains data on 44154 subjects "
   ]
  },
  {
   "cell_type": "code",
   "execution_count": 241,
   "metadata": {
    "slideshow": {
     "slide_type": "slide"
    }
   },
   "outputs": [],
   "source": [
    "#Dataswet Import\n",
    "df=pd.read_csv(\"Alzheimer_s_Disease_and_Healthy_Aging_Data.csv\")"
   ]
  },
  {
   "cell_type": "markdown",
   "metadata": {
    "slideshow": {
     "slide_type": "subslide"
    }
   },
   "source": [
    "### Basic Information on dataset"
   ]
  },
  {
   "cell_type": "code",
   "execution_count": 242,
   "metadata": {
    "scrolled": true,
    "slideshow": {
     "slide_type": "subslide"
    }
   },
   "outputs": [
    {
     "name": "stdout",
     "output_type": "stream",
     "text": [
      "<class 'pandas.core.frame.DataFrame'>\n",
      "RangeIndex: 178539 entries, 0 to 178538\n",
      "Data columns (total 39 columns):\n",
      " #   Column                      Non-Null Count   Dtype  \n",
      "---  ------                      --------------   -----  \n",
      " 0   RowId                       178539 non-null  object \n",
      " 1   YearStart                   178539 non-null  int64  \n",
      " 2   YearEnd                     178539 non-null  int64  \n",
      " 3   LocationAbbr                178539 non-null  object \n",
      " 4   LocationDesc                178539 non-null  object \n",
      " 5   Datasource                  178539 non-null  object \n",
      " 6   Class                       178539 non-null  object \n",
      " 7   Topic                       178539 non-null  object \n",
      " 8   Question                    178539 non-null  object \n",
      " 9   Response                    0 non-null       float64\n",
      " 10  Data_Value_Unit             178539 non-null  object \n",
      " 11  DataValueTypeID             178539 non-null  object \n",
      " 12  Data_Value_Type             178539 non-null  object \n",
      " 13  Data_Value                  120885 non-null  float64\n",
      " 14  Data_Value_Alt              0 non-null       float64\n",
      " 15  Data_Value_Footnote_Symbol  70619 non-null   object \n",
      " 16  Data_Value_Footnote         70619 non-null   object \n",
      " 17  Low_Confidence_Limit        120750 non-null  float64\n",
      " 18  High_Confidence_Limit       120750 non-null  float64\n",
      " 19  Sample_Size                 0 non-null       float64\n",
      " 20  StratificationCategory1     178539 non-null  object \n",
      " 21  Stratification1             178539 non-null  object \n",
      " 22  StratificationCategory2     178539 non-null  object \n",
      " 23  Stratification2             178539 non-null  object \n",
      " 24  StratificationCategory3     0 non-null       float64\n",
      " 25  Stratification3             0 non-null       float64\n",
      " 26  Geolocation                 159375 non-null  object \n",
      " 27  ClassID                     178539 non-null  object \n",
      " 28  TopicID                     178539 non-null  object \n",
      " 29  QuestionID                  178539 non-null  object \n",
      " 30  ResponseID                  0 non-null       float64\n",
      " 31  LocationID                  178539 non-null  int64  \n",
      " 32  StratificationCategoryID1   178539 non-null  object \n",
      " 33  StratificationID1           178539 non-null  object \n",
      " 34  StratificationCategoryID2   178539 non-null  object \n",
      " 35  StratificationID2           178539 non-null  object \n",
      " 36  StratificationCategoryID3   0 non-null       float64\n",
      " 37  StratificationID3           0 non-null       float64\n",
      " 38  Report                      0 non-null       float64\n",
      "dtypes: float64(12), int64(3), object(24)\n",
      "memory usage: 53.1+ MB\n"
     ]
    }
   ],
   "source": [
    "df.info()"
   ]
  },
  {
   "cell_type": "code",
   "execution_count": 243,
   "metadata": {
    "scrolled": true,
    "slideshow": {
     "slide_type": "subslide"
    }
   },
   "outputs": [
    {
     "data": {
      "text/html": [
       "<div>\n",
       "<style scoped>\n",
       "    .dataframe tbody tr th:only-of-type {\n",
       "        vertical-align: middle;\n",
       "    }\n",
       "\n",
       "    .dataframe tbody tr th {\n",
       "        vertical-align: top;\n",
       "    }\n",
       "\n",
       "    .dataframe thead th {\n",
       "        text-align: right;\n",
       "    }\n",
       "</style>\n",
       "<table border=\"1\" class=\"dataframe\">\n",
       "  <thead>\n",
       "    <tr style=\"text-align: right;\">\n",
       "      <th></th>\n",
       "      <th>RowId</th>\n",
       "      <th>YearStart</th>\n",
       "      <th>YearEnd</th>\n",
       "      <th>LocationAbbr</th>\n",
       "      <th>LocationDesc</th>\n",
       "      <th>Datasource</th>\n",
       "      <th>Class</th>\n",
       "      <th>Topic</th>\n",
       "      <th>Question</th>\n",
       "      <th>Response</th>\n",
       "      <th>Data_Value_Unit</th>\n",
       "      <th>DataValueTypeID</th>\n",
       "      <th>Data_Value_Type</th>\n",
       "      <th>Data_Value</th>\n",
       "      <th>Data_Value_Alt</th>\n",
       "      <th>Data_Value_Footnote_Symbol</th>\n",
       "      <th>Data_Value_Footnote</th>\n",
       "      <th>Low_Confidence_Limit</th>\n",
       "      <th>High_Confidence_Limit</th>\n",
       "      <th>Sample_Size</th>\n",
       "      <th>StratificationCategory1</th>\n",
       "      <th>Stratification1</th>\n",
       "      <th>StratificationCategory2</th>\n",
       "      <th>Stratification2</th>\n",
       "      <th>StratificationCategory3</th>\n",
       "      <th>Stratification3</th>\n",
       "      <th>Geolocation</th>\n",
       "      <th>ClassID</th>\n",
       "      <th>TopicID</th>\n",
       "      <th>QuestionID</th>\n",
       "      <th>ResponseID</th>\n",
       "      <th>LocationID</th>\n",
       "      <th>StratificationCategoryID1</th>\n",
       "      <th>StratificationID1</th>\n",
       "      <th>StratificationCategoryID2</th>\n",
       "      <th>StratificationID2</th>\n",
       "      <th>StratificationCategoryID3</th>\n",
       "      <th>StratificationID3</th>\n",
       "      <th>Report</th>\n",
       "    </tr>\n",
       "  </thead>\n",
       "  <tbody>\n",
       "    <tr>\n",
       "      <th>0</th>\n",
       "      <td>2016~2016~12~Q27~AGE~AGE_OVERALL~GENDER~MALE</td>\n",
       "      <td>2016</td>\n",
       "      <td>2016</td>\n",
       "      <td>FL</td>\n",
       "      <td>Florida</td>\n",
       "      <td>BRFSS</td>\n",
       "      <td>Mental Health</td>\n",
       "      <td>Lifetime diagnosis of depression</td>\n",
       "      <td>Percentage of older adults with a lifetime dia...</td>\n",
       "      <td>NaN</td>\n",
       "      <td>%</td>\n",
       "      <td>PRCTG</td>\n",
       "      <td>Percentage</td>\n",
       "      <td>10.7</td>\n",
       "      <td>NaN</td>\n",
       "      <td>NaN</td>\n",
       "      <td>NaN</td>\n",
       "      <td>9.4</td>\n",
       "      <td>12.1</td>\n",
       "      <td>NaN</td>\n",
       "      <td>Age Group</td>\n",
       "      <td>Overall</td>\n",
       "      <td>Gender</td>\n",
       "      <td>Male</td>\n",
       "      <td>NaN</td>\n",
       "      <td>NaN</td>\n",
       "      <td>POINT (-81.92896054 28.93204038)</td>\n",
       "      <td>C05</td>\n",
       "      <td>TMC03</td>\n",
       "      <td>Q27</td>\n",
       "      <td>NaN</td>\n",
       "      <td>12</td>\n",
       "      <td>AGE</td>\n",
       "      <td>AGE_OVERALL</td>\n",
       "      <td>GENDER</td>\n",
       "      <td>MALE</td>\n",
       "      <td>NaN</td>\n",
       "      <td>NaN</td>\n",
       "      <td>NaN</td>\n",
       "    </tr>\n",
       "    <tr>\n",
       "      <th>1</th>\n",
       "      <td>2015~2015~66~Q43~AGE~5064~GENDER~MALE</td>\n",
       "      <td>2015</td>\n",
       "      <td>2015</td>\n",
       "      <td>GU</td>\n",
       "      <td>Guam</td>\n",
       "      <td>BRFSS</td>\n",
       "      <td>Overall Health</td>\n",
       "      <td>Arthritis among older adults</td>\n",
       "      <td>Percentage of older adults ever told they have...</td>\n",
       "      <td>NaN</td>\n",
       "      <td>%</td>\n",
       "      <td>PRCTG</td>\n",
       "      <td>Percentage</td>\n",
       "      <td>31.5</td>\n",
       "      <td>NaN</td>\n",
       "      <td>NaN</td>\n",
       "      <td>NaN</td>\n",
       "      <td>23.4</td>\n",
       "      <td>41.0</td>\n",
       "      <td>NaN</td>\n",
       "      <td>Age Group</td>\n",
       "      <td>50-64 years</td>\n",
       "      <td>Gender</td>\n",
       "      <td>Male</td>\n",
       "      <td>NaN</td>\n",
       "      <td>NaN</td>\n",
       "      <td>POINT (144.793731 13.444304)</td>\n",
       "      <td>C01</td>\n",
       "      <td>TOC11</td>\n",
       "      <td>Q43</td>\n",
       "      <td>NaN</td>\n",
       "      <td>66</td>\n",
       "      <td>AGE</td>\n",
       "      <td>5064</td>\n",
       "      <td>GENDER</td>\n",
       "      <td>MALE</td>\n",
       "      <td>NaN</td>\n",
       "      <td>NaN</td>\n",
       "      <td>NaN</td>\n",
       "    </tr>\n",
       "    <tr>\n",
       "      <th>2</th>\n",
       "      <td>2018~2018~66~Q18~AGE~5064~GENDER~MALE</td>\n",
       "      <td>2018</td>\n",
       "      <td>2018</td>\n",
       "      <td>GU</td>\n",
       "      <td>Guam</td>\n",
       "      <td>BRFSS</td>\n",
       "      <td>Screenings and Vaccines</td>\n",
       "      <td>Influenza vaccine within past year</td>\n",
       "      <td>Percentage of older adults who reported influe...</td>\n",
       "      <td>NaN</td>\n",
       "      <td>%</td>\n",
       "      <td>PRCTG</td>\n",
       "      <td>Percentage</td>\n",
       "      <td>25.2</td>\n",
       "      <td>NaN</td>\n",
       "      <td>NaN</td>\n",
       "      <td>NaN</td>\n",
       "      <td>18.3</td>\n",
       "      <td>33.6</td>\n",
       "      <td>NaN</td>\n",
       "      <td>Age Group</td>\n",
       "      <td>50-64 years</td>\n",
       "      <td>Gender</td>\n",
       "      <td>Male</td>\n",
       "      <td>NaN</td>\n",
       "      <td>NaN</td>\n",
       "      <td>POINT (144.793731 13.444304)</td>\n",
       "      <td>C03</td>\n",
       "      <td>TSC08</td>\n",
       "      <td>Q18</td>\n",
       "      <td>NaN</td>\n",
       "      <td>66</td>\n",
       "      <td>AGE</td>\n",
       "      <td>5064</td>\n",
       "      <td>GENDER</td>\n",
       "      <td>MALE</td>\n",
       "      <td>NaN</td>\n",
       "      <td>NaN</td>\n",
       "      <td>NaN</td>\n",
       "    </tr>\n",
       "    <tr>\n",
       "      <th>3</th>\n",
       "      <td>2018~2018~66~Q34~AGE~5064~GENDER~FEMALE</td>\n",
       "      <td>2018</td>\n",
       "      <td>2018</td>\n",
       "      <td>GU</td>\n",
       "      <td>Guam</td>\n",
       "      <td>BRFSS</td>\n",
       "      <td>Overall Health</td>\n",
       "      <td>Prevalence of sufficient sleep</td>\n",
       "      <td>Percentage of older adults getting sufficient ...</td>\n",
       "      <td>NaN</td>\n",
       "      <td>%</td>\n",
       "      <td>PRCTG</td>\n",
       "      <td>Percentage</td>\n",
       "      <td>53.4</td>\n",
       "      <td>NaN</td>\n",
       "      <td>NaN</td>\n",
       "      <td>NaN</td>\n",
       "      <td>44.4</td>\n",
       "      <td>62.2</td>\n",
       "      <td>NaN</td>\n",
       "      <td>Age Group</td>\n",
       "      <td>50-64 years</td>\n",
       "      <td>Gender</td>\n",
       "      <td>Female</td>\n",
       "      <td>NaN</td>\n",
       "      <td>NaN</td>\n",
       "      <td>POINT (144.793731 13.444304)</td>\n",
       "      <td>C01</td>\n",
       "      <td>TOC09</td>\n",
       "      <td>Q34</td>\n",
       "      <td>NaN</td>\n",
       "      <td>66</td>\n",
       "      <td>AGE</td>\n",
       "      <td>5064</td>\n",
       "      <td>GENDER</td>\n",
       "      <td>FEMALE</td>\n",
       "      <td>NaN</td>\n",
       "      <td>NaN</td>\n",
       "      <td>NaN</td>\n",
       "    </tr>\n",
       "    <tr>\n",
       "      <th>4</th>\n",
       "      <td>2015~2015~16~Q43~AGE~65PLUS~GENDER~FEMALE</td>\n",
       "      <td>2015</td>\n",
       "      <td>2015</td>\n",
       "      <td>ID</td>\n",
       "      <td>Idaho</td>\n",
       "      <td>BRFSS</td>\n",
       "      <td>Overall Health</td>\n",
       "      <td>Arthritis among older adults</td>\n",
       "      <td>Percentage of older adults ever told they have...</td>\n",
       "      <td>NaN</td>\n",
       "      <td>%</td>\n",
       "      <td>PRCTG</td>\n",
       "      <td>Percentage</td>\n",
       "      <td>56.7</td>\n",
       "      <td>NaN</td>\n",
       "      <td>NaN</td>\n",
       "      <td>NaN</td>\n",
       "      <td>52.8</td>\n",
       "      <td>60.5</td>\n",
       "      <td>NaN</td>\n",
       "      <td>Age Group</td>\n",
       "      <td>65 years or older</td>\n",
       "      <td>Gender</td>\n",
       "      <td>Female</td>\n",
       "      <td>NaN</td>\n",
       "      <td>NaN</td>\n",
       "      <td>POINT (-114.36373 43.68263)</td>\n",
       "      <td>C01</td>\n",
       "      <td>TOC11</td>\n",
       "      <td>Q43</td>\n",
       "      <td>NaN</td>\n",
       "      <td>16</td>\n",
       "      <td>AGE</td>\n",
       "      <td>65PLUS</td>\n",
       "      <td>GENDER</td>\n",
       "      <td>FEMALE</td>\n",
       "      <td>NaN</td>\n",
       "      <td>NaN</td>\n",
       "      <td>NaN</td>\n",
       "    </tr>\n",
       "  </tbody>\n",
       "</table>\n",
       "</div>"
      ],
      "text/plain": [
       "                                          RowId  YearStart  YearEnd  \\\n",
       "0  2016~2016~12~Q27~AGE~AGE_OVERALL~GENDER~MALE       2016     2016   \n",
       "1         2015~2015~66~Q43~AGE~5064~GENDER~MALE       2015     2015   \n",
       "2         2018~2018~66~Q18~AGE~5064~GENDER~MALE       2018     2018   \n",
       "3       2018~2018~66~Q34~AGE~5064~GENDER~FEMALE       2018     2018   \n",
       "4     2015~2015~16~Q43~AGE~65PLUS~GENDER~FEMALE       2015     2015   \n",
       "\n",
       "  LocationAbbr LocationDesc Datasource                    Class  \\\n",
       "0           FL      Florida      BRFSS            Mental Health   \n",
       "1           GU         Guam      BRFSS           Overall Health   \n",
       "2           GU         Guam      BRFSS  Screenings and Vaccines   \n",
       "3           GU         Guam      BRFSS           Overall Health   \n",
       "4           ID        Idaho      BRFSS           Overall Health   \n",
       "\n",
       "                                Topic  \\\n",
       "0    Lifetime diagnosis of depression   \n",
       "1        Arthritis among older adults   \n",
       "2  Influenza vaccine within past year   \n",
       "3      Prevalence of sufficient sleep   \n",
       "4        Arthritis among older adults   \n",
       "\n",
       "                                            Question  Response  \\\n",
       "0  Percentage of older adults with a lifetime dia...       NaN   \n",
       "1  Percentage of older adults ever told they have...       NaN   \n",
       "2  Percentage of older adults who reported influe...       NaN   \n",
       "3  Percentage of older adults getting sufficient ...       NaN   \n",
       "4  Percentage of older adults ever told they have...       NaN   \n",
       "\n",
       "  Data_Value_Unit DataValueTypeID Data_Value_Type  Data_Value  Data_Value_Alt  \\\n",
       "0               %           PRCTG      Percentage        10.7             NaN   \n",
       "1               %           PRCTG      Percentage        31.5             NaN   \n",
       "2               %           PRCTG      Percentage        25.2             NaN   \n",
       "3               %           PRCTG      Percentage        53.4             NaN   \n",
       "4               %           PRCTG      Percentage        56.7             NaN   \n",
       "\n",
       "  Data_Value_Footnote_Symbol Data_Value_Footnote  Low_Confidence_Limit  \\\n",
       "0                        NaN                 NaN                   9.4   \n",
       "1                        NaN                 NaN                  23.4   \n",
       "2                        NaN                 NaN                  18.3   \n",
       "3                        NaN                 NaN                  44.4   \n",
       "4                        NaN                 NaN                  52.8   \n",
       "\n",
       "   High_Confidence_Limit  Sample_Size StratificationCategory1  \\\n",
       "0                   12.1          NaN               Age Group   \n",
       "1                   41.0          NaN               Age Group   \n",
       "2                   33.6          NaN               Age Group   \n",
       "3                   62.2          NaN               Age Group   \n",
       "4                   60.5          NaN               Age Group   \n",
       "\n",
       "     Stratification1 StratificationCategory2 Stratification2  \\\n",
       "0            Overall                  Gender            Male   \n",
       "1        50-64 years                  Gender            Male   \n",
       "2        50-64 years                  Gender            Male   \n",
       "3        50-64 years                  Gender          Female   \n",
       "4  65 years or older                  Gender          Female   \n",
       "\n",
       "   StratificationCategory3  Stratification3                       Geolocation  \\\n",
       "0                      NaN              NaN  POINT (-81.92896054 28.93204038)   \n",
       "1                      NaN              NaN      POINT (144.793731 13.444304)   \n",
       "2                      NaN              NaN      POINT (144.793731 13.444304)   \n",
       "3                      NaN              NaN      POINT (144.793731 13.444304)   \n",
       "4                      NaN              NaN       POINT (-114.36373 43.68263)   \n",
       "\n",
       "  ClassID TopicID QuestionID  ResponseID  LocationID  \\\n",
       "0     C05   TMC03        Q27         NaN          12   \n",
       "1     C01   TOC11        Q43         NaN          66   \n",
       "2     C03   TSC08        Q18         NaN          66   \n",
       "3     C01   TOC09        Q34         NaN          66   \n",
       "4     C01   TOC11        Q43         NaN          16   \n",
       "\n",
       "  StratificationCategoryID1 StratificationID1 StratificationCategoryID2  \\\n",
       "0                       AGE       AGE_OVERALL                    GENDER   \n",
       "1                       AGE              5064                    GENDER   \n",
       "2                       AGE              5064                    GENDER   \n",
       "3                       AGE              5064                    GENDER   \n",
       "4                       AGE            65PLUS                    GENDER   \n",
       "\n",
       "  StratificationID2  StratificationCategoryID3  StratificationID3  Report  \n",
       "0              MALE                        NaN                NaN     NaN  \n",
       "1              MALE                        NaN                NaN     NaN  \n",
       "2              MALE                        NaN                NaN     NaN  \n",
       "3            FEMALE                        NaN                NaN     NaN  \n",
       "4            FEMALE                        NaN                NaN     NaN  "
      ]
     },
     "execution_count": 243,
     "metadata": {},
     "output_type": "execute_result"
    }
   ],
   "source": [
    "df.head(5)"
   ]
  },
  {
   "cell_type": "markdown",
   "metadata": {
    "slideshow": {
     "slide_type": "slide"
    }
   },
   "source": [
    "### Checking for duplicated values"
   ]
  },
  {
   "cell_type": "code",
   "execution_count": 244,
   "metadata": {
    "slideshow": {
     "slide_type": "subslide"
    }
   },
   "outputs": [
    {
     "data": {
      "text/plain": [
       "False"
      ]
     },
     "execution_count": 244,
     "metadata": {},
     "output_type": "execute_result"
    }
   ],
   "source": [
    "df[\"RowId\"].duplicated().any()"
   ]
  },
  {
   "cell_type": "markdown",
   "metadata": {
    "slideshow": {
     "slide_type": "slide"
    }
   },
   "source": [
    "### Dropping columns not relevant to analysis"
   ]
  },
  {
   "cell_type": "code",
   "execution_count": 245,
   "metadata": {
    "slideshow": {
     "slide_type": "subslide"
    }
   },
   "outputs": [
    {
     "data": {
      "text/html": [
       "<div>\n",
       "<style scoped>\n",
       "    .dataframe tbody tr th:only-of-type {\n",
       "        vertical-align: middle;\n",
       "    }\n",
       "\n",
       "    .dataframe tbody tr th {\n",
       "        vertical-align: top;\n",
       "    }\n",
       "\n",
       "    .dataframe thead th {\n",
       "        text-align: right;\n",
       "    }\n",
       "</style>\n",
       "<table border=\"1\" class=\"dataframe\">\n",
       "  <thead>\n",
       "    <tr style=\"text-align: right;\">\n",
       "      <th></th>\n",
       "      <th>YearStart</th>\n",
       "      <th>YearEnd</th>\n",
       "      <th>LocationDesc</th>\n",
       "      <th>Class</th>\n",
       "      <th>Topic</th>\n",
       "      <th>Question</th>\n",
       "      <th>Response</th>\n",
       "      <th>Data_Value_Type</th>\n",
       "      <th>Data_Value</th>\n",
       "      <th>Low_Confidence_Limit</th>\n",
       "      <th>High_Confidence_Limit</th>\n",
       "      <th>Sample_Size</th>\n",
       "      <th>Stratification1</th>\n",
       "      <th>Stratification2</th>\n",
       "    </tr>\n",
       "  </thead>\n",
       "  <tbody>\n",
       "    <tr>\n",
       "      <th>0</th>\n",
       "      <td>2016</td>\n",
       "      <td>2016</td>\n",
       "      <td>Florida</td>\n",
       "      <td>Mental Health</td>\n",
       "      <td>Lifetime diagnosis of depression</td>\n",
       "      <td>Percentage of older adults with a lifetime dia...</td>\n",
       "      <td>NaN</td>\n",
       "      <td>Percentage</td>\n",
       "      <td>10.7</td>\n",
       "      <td>9.4</td>\n",
       "      <td>12.1</td>\n",
       "      <td>NaN</td>\n",
       "      <td>Overall</td>\n",
       "      <td>Male</td>\n",
       "    </tr>\n",
       "    <tr>\n",
       "      <th>1</th>\n",
       "      <td>2015</td>\n",
       "      <td>2015</td>\n",
       "      <td>Guam</td>\n",
       "      <td>Overall Health</td>\n",
       "      <td>Arthritis among older adults</td>\n",
       "      <td>Percentage of older adults ever told they have...</td>\n",
       "      <td>NaN</td>\n",
       "      <td>Percentage</td>\n",
       "      <td>31.5</td>\n",
       "      <td>23.4</td>\n",
       "      <td>41.0</td>\n",
       "      <td>NaN</td>\n",
       "      <td>50-64 years</td>\n",
       "      <td>Male</td>\n",
       "    </tr>\n",
       "  </tbody>\n",
       "</table>\n",
       "</div>"
      ],
      "text/plain": [
       "   YearStart  YearEnd LocationDesc           Class  \\\n",
       "0       2016     2016      Florida   Mental Health   \n",
       "1       2015     2015         Guam  Overall Health   \n",
       "\n",
       "                              Topic  \\\n",
       "0  Lifetime diagnosis of depression   \n",
       "1      Arthritis among older adults   \n",
       "\n",
       "                                            Question  Response  \\\n",
       "0  Percentage of older adults with a lifetime dia...       NaN   \n",
       "1  Percentage of older adults ever told they have...       NaN   \n",
       "\n",
       "  Data_Value_Type  Data_Value  Low_Confidence_Limit  High_Confidence_Limit  \\\n",
       "0      Percentage        10.7                   9.4                   12.1   \n",
       "1      Percentage        31.5                  23.4                   41.0   \n",
       "\n",
       "   Sample_Size Stratification1 Stratification2  \n",
       "0          NaN         Overall            Male  \n",
       "1          NaN     50-64 years            Male  "
      ]
     },
     "execution_count": 245,
     "metadata": {},
     "output_type": "execute_result"
    }
   ],
   "source": [
    "columns = ['Datasource','LocationAbbr', 'Data_Value_Unit','DataValueTypeID','Data_Value_Alt','Data_Value_Footnote_Symbol',\n",
    "           'Data_Value_Footnote','Geolocation','StratificationCategory1','StratificationCategory2',\n",
    "          'StratificationCategory3','Stratification3','ClassID','TopicID','QuestionID','ResponseID','LocationID',\n",
    "           'StratificationCategoryID1','StratificationID1','StratificationCategoryID2','StratificationID2',\n",
    "           'StratificationCategoryID3','StratificationID3','Report','RowId']\n",
    "df = df.drop(columns,1)\n",
    "pd.options.display.max_columns = 100\n",
    "df.head(2)"
   ]
  },
  {
   "cell_type": "markdown",
   "metadata": {
    "slideshow": {
     "slide_type": "slide"
    }
   },
   "source": [
    "## Renaming/ Reassigning Age and Gender columns"
   ]
  },
  {
   "cell_type": "code",
   "execution_count": 246,
   "metadata": {
    "slideshow": {
     "slide_type": "subslide"
    }
   },
   "outputs": [],
   "source": [
    "df = df.rename({'Stratification1': 'Age', 'Stratification2': 'M/F'}, axis=1)"
   ]
  },
  {
   "cell_type": "code",
   "execution_count": 247,
   "metadata": {
    "slideshow": {
     "slide_type": "subslide"
    }
   },
   "outputs": [],
   "source": [
    "df['M/F'].replace('Male', 'M',inplace=True)"
   ]
  },
  {
   "cell_type": "code",
   "execution_count": 248,
   "metadata": {
    "slideshow": {
     "slide_type": "subslide"
    }
   },
   "outputs": [],
   "source": [
    "df['M/F'].replace('Female', 'F',inplace=True)"
   ]
  },
  {
   "cell_type": "code",
   "execution_count": 249,
   "metadata": {
    "scrolled": true,
    "slideshow": {
     "slide_type": "subslide"
    }
   },
   "outputs": [
    {
     "data": {
      "text/plain": [
       "Overall                     23013\n",
       "White, non-Hispanic         22986\n",
       "Hispanic                    22886\n",
       "Black, non-Hispanic         22493\n",
       "Native Am/Alaskan Native    22112\n",
       "Asian/Pacific Islander      21831\n",
       "M                           21609\n",
       "F                           21609\n",
       "Name: M/F, dtype: int64"
      ]
     },
     "execution_count": 249,
     "metadata": {},
     "output_type": "execute_result"
    }
   ],
   "source": [
    "df['M/F'].value_counts()"
   ]
  },
  {
   "cell_type": "markdown",
   "metadata": {
    "slideshow": {
     "slide_type": "slide"
    }
   },
   "source": [
    "### Cleaning up Gender column"
   ]
  },
  {
   "cell_type": "code",
   "execution_count": 250,
   "metadata": {
    "slideshow": {
     "slide_type": "subslide"
    }
   },
   "outputs": [],
   "source": [
    "df= df.replace('White, non-Hispanic',np.nan)\n",
    "df= df.replace('Hispanic',np.nan)\n",
    "df= df.replace('Black, non-Hispanic',np.nan)\n",
    "df= df.replace('Native Am/Alaskan Native',np.nan)\n",
    "df= df.replace('Asian/Pacific Islander',np.nan)"
   ]
  },
  {
   "cell_type": "code",
   "execution_count": 251,
   "metadata": {
    "slideshow": {
     "slide_type": "subslide"
    }
   },
   "outputs": [],
   "source": [
    "df = df.dropna(subset=['M/F'])"
   ]
  },
  {
   "cell_type": "code",
   "execution_count": 252,
   "metadata": {
    "slideshow": {
     "slide_type": "subslide"
    }
   },
   "outputs": [
    {
     "data": {
      "text/plain": [
       "False"
      ]
     },
     "execution_count": 252,
     "metadata": {},
     "output_type": "execute_result"
    }
   ],
   "source": [
    "df['M/F'].isna().any()"
   ]
  },
  {
   "cell_type": "code",
   "execution_count": 253,
   "metadata": {
    "slideshow": {
     "slide_type": "subslide"
    }
   },
   "outputs": [
    {
     "data": {
      "text/plain": [
       "Overall    23013\n",
       "F          21609\n",
       "M          21609\n",
       "Name: M/F, dtype: int64"
      ]
     },
     "execution_count": 253,
     "metadata": {},
     "output_type": "execute_result"
    }
   ],
   "source": [
    "df['M/F'].value_counts()"
   ]
  },
  {
   "cell_type": "markdown",
   "metadata": {
    "slideshow": {
     "slide_type": "slide"
    }
   },
   "source": [
    "### Cleaning up Age columns"
   ]
  },
  {
   "cell_type": "code",
   "execution_count": 254,
   "metadata": {
    "slideshow": {
     "slide_type": "subslide"
    }
   },
   "outputs": [
    {
     "data": {
      "text/plain": [
       "Overall              22077\n",
       "50-64 years          22077\n",
       "65 years or older    22077\n",
       "Name: Age, dtype: int64"
      ]
     },
     "execution_count": 254,
     "metadata": {},
     "output_type": "execute_result"
    }
   ],
   "source": [
    "df[\"Age\"].value_counts()"
   ]
  },
  {
   "cell_type": "code",
   "execution_count": 255,
   "metadata": {
    "slideshow": {
     "slide_type": "subslide"
    }
   },
   "outputs": [],
   "source": [
    "df= df.replace('Overall',np.nan)"
   ]
  },
  {
   "cell_type": "code",
   "execution_count": 256,
   "metadata": {
    "slideshow": {
     "slide_type": "subslide"
    }
   },
   "outputs": [],
   "source": [
    "df = df.dropna(subset=['Age'])"
   ]
  },
  {
   "cell_type": "code",
   "execution_count": 257,
   "metadata": {
    "slideshow": {
     "slide_type": "subslide"
    }
   },
   "outputs": [
    {
     "data": {
      "text/plain": [
       "False"
      ]
     },
     "execution_count": 257,
     "metadata": {},
     "output_type": "execute_result"
    }
   ],
   "source": [
    "df['Age'].isna().any()"
   ]
  },
  {
   "cell_type": "markdown",
   "metadata": {
    "slideshow": {
     "slide_type": "slide"
    }
   },
   "source": [
    "## Identifying Relevant Health issue classes"
   ]
  },
  {
   "cell_type": "code",
   "execution_count": 258,
   "metadata": {
    "slideshow": {
     "slide_type": "subslide"
    }
   },
   "outputs": [
    {
     "data": {
      "text/plain": [
       "array(['Overall Health', 'Screenings and Vaccines', 'Mental Health',\n",
       "       'Nutrition/Physical Activity/Obesity', 'Smoking and Alcohol Use',\n",
       "       'Cognitive Decline', 'Caregiving'], dtype=object)"
      ]
     },
     "execution_count": 258,
     "metadata": {},
     "output_type": "execute_result"
    }
   ],
   "source": [
    "df[\"Class\"].unique()"
   ]
  },
  {
   "cell_type": "markdown",
   "metadata": {
    "slideshow": {
     "slide_type": "slide"
    }
   },
   "source": [
    "### Filtering Dataset by classes and percentage values [2 classes selected]"
   ]
  },
  {
   "cell_type": "code",
   "execution_count": 259,
   "metadata": {
    "slideshow": {
     "slide_type": "subslide"
    }
   },
   "outputs": [],
   "source": [
    "df1=df[df[\"Class\"]==\"Cognitive Decline\"]\n",
    "df1=df1.loc[df1[\"Data_Value_Type\"]==\"Percentage\"]\n"
   ]
  },
  {
   "cell_type": "code",
   "execution_count": 260,
   "metadata": {
    "slideshow": {
     "slide_type": "subslide"
    }
   },
   "outputs": [],
   "source": [
    "df2=df.loc[df[\"Class\"]==\"Mental Health\"]\n",
    "df2=df2.loc[df2[\"Data_Value_Type\"]==\"Percentage\"]\n"
   ]
  },
  {
   "cell_type": "markdown",
   "metadata": {
    "slideshow": {
     "slide_type": "slide"
    }
   },
   "source": [
    "### Identifying relevant health topics under each class "
   ]
  },
  {
   "cell_type": "code",
   "execution_count": 261,
   "metadata": {
    "scrolled": true,
    "slideshow": {
     "slide_type": "subslide"
    }
   },
   "outputs": [
    {
     "data": {
      "text/plain": [
       "array(['Functional difficulties associated with subjective cognitive decline or memory loss among older adults',\n",
       "       'Subjective cognitive decline or memory loss among older adults',\n",
       "       'Need assistance with day-to-day activities because of subjective cognitive decline or memory loss',\n",
       "       'Talked with health care professional about subjective cognitive decline or memory loss'],\n",
       "      dtype=object)"
      ]
     },
     "execution_count": 261,
     "metadata": {},
     "output_type": "execute_result"
    }
   ],
   "source": [
    "df1[\"Topic\"].unique()"
   ]
  },
  {
   "cell_type": "code",
   "execution_count": 262,
   "metadata": {
    "slideshow": {
     "slide_type": "subslide"
    }
   },
   "outputs": [
    {
     "data": {
      "text/plain": [
       "array(['Lifetime diagnosis of depression', 'Frequent mental distress'],\n",
       "      dtype=object)"
      ]
     },
     "execution_count": 262,
     "metadata": {},
     "output_type": "execute_result"
    }
   ],
   "source": [
    "df2[\"Topic\"].unique()"
   ]
  },
  {
   "cell_type": "markdown",
   "metadata": {
    "slideshow": {
     "slide_type": "slide"
    }
   },
   "source": [
    "### Assessing percentage distribution/mean by Topic"
   ]
  },
  {
   "cell_type": "code",
   "execution_count": 263,
   "metadata": {
    "slideshow": {
     "slide_type": "subslide"
    }
   },
   "outputs": [
    {
     "data": {
      "text/plain": [
       "Topic\n",
       "Functional difficulties associated with subjective cognitive decline or memory loss among older adults    37.566077\n",
       "Need assistance with day-to-day activities because of subjective cognitive decline or memory loss         32.430708\n",
       "Subjective cognitive decline or memory loss among older adults                                            11.305766\n",
       "Talked with health care professional about subjective cognitive decline or memory loss                    45.227455\n",
       "Name: Data_Value, dtype: float64"
      ]
     },
     "execution_count": 263,
     "metadata": {},
     "output_type": "execute_result"
    }
   ],
   "source": [
    "df1.groupby([\"Topic\"]).mean()[\"Data_Value\"]"
   ]
  },
  {
   "cell_type": "code",
   "execution_count": 264,
   "metadata": {
    "slideshow": {
     "slide_type": "subslide"
    }
   },
   "outputs": [
    {
     "data": {
      "text/plain": [
       "Topic\n",
       "Frequent mental distress            10.112151\n",
       "Lifetime diagnosis of depression    17.798091\n",
       "Name: Data_Value, dtype: float64"
      ]
     },
     "execution_count": 264,
     "metadata": {},
     "output_type": "execute_result"
    }
   ],
   "source": [
    "df2.groupby([\"Topic\"]).mean()[\"Data_Value\"]"
   ]
  },
  {
   "cell_type": "markdown",
   "metadata": {
    "slideshow": {
     "slide_type": "slide"
    }
   },
   "source": [
    "## Binning data by Age groups"
   ]
  },
  {
   "cell_type": "code",
   "execution_count": 265,
   "metadata": {
    "slideshow": {
     "slide_type": "subslide"
    }
   },
   "outputs": [],
   "source": [
    "def Bin_Age_Group(data,column='Age'):\n",
    "    data.loc[(data[column]=='50-64 years'),\"Age_Binned\"]=\"Lower middle Bracket\"\n",
    "    data.loc[(data[column]=='65 years or older'),\"Age_Binned\"]=\"Upper middle Bracket\""
   ]
  },
  {
   "cell_type": "code",
   "execution_count": 266,
   "metadata": {
    "slideshow": {
     "slide_type": "subslide"
    }
   },
   "outputs": [],
   "source": [
    "Bin_Age_Group(df)\n"
   ]
  },
  {
   "cell_type": "code",
   "execution_count": 267,
   "metadata": {
    "slideshow": {
     "slide_type": "subslide"
    }
   },
   "outputs": [
    {
     "data": {
      "text/plain": [
       "False"
      ]
     },
     "execution_count": 267,
     "metadata": {},
     "output_type": "execute_result"
    }
   ],
   "source": [
    "df_all[\"Age_Binned\"].isna().any()"
   ]
  },
  {
   "cell_type": "code",
   "execution_count": 268,
   "metadata": {
    "scrolled": true,
    "slideshow": {
     "slide_type": "subslide"
    }
   },
   "outputs": [
    {
     "data": {
      "text/html": [
       "<div>\n",
       "<style scoped>\n",
       "    .dataframe tbody tr th:only-of-type {\n",
       "        vertical-align: middle;\n",
       "    }\n",
       "\n",
       "    .dataframe tbody tr th {\n",
       "        vertical-align: top;\n",
       "    }\n",
       "\n",
       "    .dataframe thead th {\n",
       "        text-align: right;\n",
       "    }\n",
       "</style>\n",
       "<table border=\"1\" class=\"dataframe\">\n",
       "  <thead>\n",
       "    <tr style=\"text-align: right;\">\n",
       "      <th></th>\n",
       "      <th></th>\n",
       "      <th>Data_Value</th>\n",
       "      <th>High_Confidence_Limit</th>\n",
       "      <th>Low_Confidence_Limit</th>\n",
       "      <th>YearEnd</th>\n",
       "      <th>YearStart</th>\n",
       "    </tr>\n",
       "    <tr>\n",
       "      <th>Age_Binned</th>\n",
       "      <th>M/F</th>\n",
       "      <th></th>\n",
       "      <th></th>\n",
       "      <th></th>\n",
       "      <th></th>\n",
       "      <th></th>\n",
       "    </tr>\n",
       "  </thead>\n",
       "  <tbody>\n",
       "    <tr>\n",
       "      <th rowspan=\"2\" valign=\"top\">Lower middle Bracket</th>\n",
       "      <th>F</th>\n",
       "      <td>36.254874</td>\n",
       "      <td>40.495126</td>\n",
       "      <td>32.193978</td>\n",
       "      <td>2017.103013</td>\n",
       "      <td>2016.835346</td>\n",
       "    </tr>\n",
       "    <tr>\n",
       "      <th>M</th>\n",
       "      <td>33.828604</td>\n",
       "      <td>38.483153</td>\n",
       "      <td>29.513108</td>\n",
       "      <td>2017.103013</td>\n",
       "      <td>2016.835346</td>\n",
       "    </tr>\n",
       "    <tr>\n",
       "      <th rowspan=\"2\" valign=\"top\">Upper middle Bracket</th>\n",
       "      <th>F</th>\n",
       "      <td>37.043611</td>\n",
       "      <td>40.696516</td>\n",
       "      <td>33.610113</td>\n",
       "      <td>2017.103013</td>\n",
       "      <td>2016.835346</td>\n",
       "    </tr>\n",
       "    <tr>\n",
       "      <th>M</th>\n",
       "      <td>35.334062</td>\n",
       "      <td>39.515924</td>\n",
       "      <td>31.480306</td>\n",
       "      <td>2017.103013</td>\n",
       "      <td>2016.835346</td>\n",
       "    </tr>\n",
       "  </tbody>\n",
       "</table>\n",
       "</div>"
      ],
      "text/plain": [
       "                          Data_Value  High_Confidence_Limit  \\\n",
       "Age_Binned           M/F                                      \n",
       "Lower middle Bracket F     36.254874              40.495126   \n",
       "                     M     33.828604              38.483153   \n",
       "Upper middle Bracket F     37.043611              40.696516   \n",
       "                     M     35.334062              39.515924   \n",
       "\n",
       "                          Low_Confidence_Limit      YearEnd    YearStart  \n",
       "Age_Binned           M/F                                                  \n",
       "Lower middle Bracket F               32.193978  2017.103013  2016.835346  \n",
       "                     M               29.513108  2017.103013  2016.835346  \n",
       "Upper middle Bracket F               33.610113  2017.103013  2016.835346  \n",
       "                     M               31.480306  2017.103013  2016.835346  "
      ]
     },
     "execution_count": 268,
     "metadata": {},
     "output_type": "execute_result"
    }
   ],
   "source": [
    "df.pivot_table(index=[\"Age_Binned\",\"M/F\"])"
   ]
  },
  {
   "cell_type": "markdown",
   "metadata": {
    "slideshow": {
     "slide_type": "slide"
    }
   },
   "source": [
    "## Combining All the data in the project into a single dataset"
   ]
  },
  {
   "cell_type": "markdown",
   "metadata": {
    "slideshow": {
     "slide_type": "subslide"
    }
   },
   "source": [
    "#### Note: The merged data from the logitudinal and cross-sectional datasets is merged with the additional dataset"
   ]
  },
  {
   "cell_type": "code",
   "execution_count": 269,
   "metadata": {
    "slideshow": {
     "slide_type": "subslide"
    }
   },
   "outputs": [
    {
     "data": {
      "text/html": [
       "<div>\n",
       "<style scoped>\n",
       "    .dataframe tbody tr th:only-of-type {\n",
       "        vertical-align: middle;\n",
       "    }\n",
       "\n",
       "    .dataframe tbody tr th {\n",
       "        vertical-align: top;\n",
       "    }\n",
       "\n",
       "    .dataframe thead th {\n",
       "        text-align: right;\n",
       "    }\n",
       "</style>\n",
       "<table border=\"1\" class=\"dataframe\">\n",
       "  <thead>\n",
       "    <tr style=\"text-align: right;\">\n",
       "      <th></th>\n",
       "      <th>YearStart</th>\n",
       "      <th>YearEnd</th>\n",
       "      <th>LocationDesc</th>\n",
       "      <th>Class</th>\n",
       "      <th>Topic</th>\n",
       "      <th>Question</th>\n",
       "      <th>Response</th>\n",
       "      <th>Data_Value_Type</th>\n",
       "      <th>Data_Value</th>\n",
       "      <th>Low_Confidence_Limit</th>\n",
       "      <th>High_Confidence_Limit</th>\n",
       "      <th>Sample_Size</th>\n",
       "      <th>Age</th>\n",
       "      <th>M/F</th>\n",
       "      <th>Age_Binned</th>\n",
       "      <th>Subject ID</th>\n",
       "      <th>MRI ID</th>\n",
       "      <th>Group_Long</th>\n",
       "      <th>Visit</th>\n",
       "      <th>MR Delay</th>\n",
       "      <th>M/F_Long</th>\n",
       "      <th>Hand_Long</th>\n",
       "      <th>Age_Long</th>\n",
       "      <th>EDUC_Long</th>\n",
       "      <th>SES_Long</th>\n",
       "      <th>MMSE_Long</th>\n",
       "      <th>CDR_Long</th>\n",
       "      <th>eTIV_Long</th>\n",
       "      <th>nWBV_Long</th>\n",
       "      <th>ASF_Long</th>\n",
       "      <th>ID</th>\n",
       "      <th>M/F_Sec</th>\n",
       "      <th>Hand_Sec</th>\n",
       "      <th>Age_Sec</th>\n",
       "      <th>EDUC_Sec</th>\n",
       "      <th>SES_Sec</th>\n",
       "      <th>MMSE_Sec</th>\n",
       "      <th>CDR_Sec</th>\n",
       "      <th>eTIV_Sec</th>\n",
       "      <th>nWBV_Sec</th>\n",
       "      <th>ASF_Sec</th>\n",
       "      <th>Delay</th>\n",
       "      <th>Group_Sec</th>\n",
       "    </tr>\n",
       "  </thead>\n",
       "  <tbody>\n",
       "    <tr>\n",
       "      <th>0</th>\n",
       "      <td>2015</td>\n",
       "      <td>2015</td>\n",
       "      <td>Guam</td>\n",
       "      <td>Overall Health</td>\n",
       "      <td>Arthritis among older adults</td>\n",
       "      <td>Percentage of older adults ever told they have...</td>\n",
       "      <td>NaN</td>\n",
       "      <td>Percentage</td>\n",
       "      <td>31.5</td>\n",
       "      <td>23.4</td>\n",
       "      <td>41.0</td>\n",
       "      <td>NaN</td>\n",
       "      <td>50-64 years</td>\n",
       "      <td>M</td>\n",
       "      <td>Lower middle Bracket</td>\n",
       "      <td>OAS2_0002</td>\n",
       "      <td>OAS2_0002_MR1</td>\n",
       "      <td>Demented</td>\n",
       "      <td>1</td>\n",
       "      <td>0</td>\n",
       "      <td>M</td>\n",
       "      <td>R</td>\n",
       "      <td>75</td>\n",
       "      <td>12</td>\n",
       "      <td>2.0</td>\n",
       "      <td>23.0</td>\n",
       "      <td>0.5</td>\n",
       "      <td>1678</td>\n",
       "      <td>0.736</td>\n",
       "      <td>1.046</td>\n",
       "      <td>OAS1_0001_MR1</td>\n",
       "      <td>F</td>\n",
       "      <td>R</td>\n",
       "      <td>74</td>\n",
       "      <td>2.0</td>\n",
       "      <td>3.0</td>\n",
       "      <td>29.0</td>\n",
       "      <td>0.0</td>\n",
       "      <td>1344</td>\n",
       "      <td>0.743</td>\n",
       "      <td>1.306</td>\n",
       "      <td>1.0</td>\n",
       "      <td>NonDemented</td>\n",
       "    </tr>\n",
       "    <tr>\n",
       "      <th>1</th>\n",
       "      <td>2015</td>\n",
       "      <td>2015</td>\n",
       "      <td>Guam</td>\n",
       "      <td>Overall Health</td>\n",
       "      <td>Arthritis among older adults</td>\n",
       "      <td>Percentage of older adults ever told they have...</td>\n",
       "      <td>NaN</td>\n",
       "      <td>Percentage</td>\n",
       "      <td>31.5</td>\n",
       "      <td>23.4</td>\n",
       "      <td>41.0</td>\n",
       "      <td>NaN</td>\n",
       "      <td>50-64 years</td>\n",
       "      <td>M</td>\n",
       "      <td>Lower middle Bracket</td>\n",
       "      <td>OAS2_0007</td>\n",
       "      <td>OAS2_0007_MR1</td>\n",
       "      <td>Demented</td>\n",
       "      <td>1</td>\n",
       "      <td>0</td>\n",
       "      <td>M</td>\n",
       "      <td>R</td>\n",
       "      <td>71</td>\n",
       "      <td>16</td>\n",
       "      <td>4.0</td>\n",
       "      <td>28.0</td>\n",
       "      <td>0.5</td>\n",
       "      <td>1357</td>\n",
       "      <td>0.748</td>\n",
       "      <td>1.293</td>\n",
       "      <td>OAS1_0001_MR1</td>\n",
       "      <td>F</td>\n",
       "      <td>R</td>\n",
       "      <td>74</td>\n",
       "      <td>2.0</td>\n",
       "      <td>3.0</td>\n",
       "      <td>29.0</td>\n",
       "      <td>0.0</td>\n",
       "      <td>1344</td>\n",
       "      <td>0.743</td>\n",
       "      <td>1.306</td>\n",
       "      <td>1.0</td>\n",
       "      <td>NonDemented</td>\n",
       "    </tr>\n",
       "    <tr>\n",
       "      <th>2</th>\n",
       "      <td>2015</td>\n",
       "      <td>2015</td>\n",
       "      <td>Guam</td>\n",
       "      <td>Overall Health</td>\n",
       "      <td>Arthritis among older adults</td>\n",
       "      <td>Percentage of older adults ever told they have...</td>\n",
       "      <td>NaN</td>\n",
       "      <td>Percentage</td>\n",
       "      <td>31.5</td>\n",
       "      <td>23.4</td>\n",
       "      <td>41.0</td>\n",
       "      <td>NaN</td>\n",
       "      <td>50-64 years</td>\n",
       "      <td>M</td>\n",
       "      <td>Lower middle Bracket</td>\n",
       "      <td>OAS2_0012</td>\n",
       "      <td>OAS2_0012_MR1</td>\n",
       "      <td>Nondemented</td>\n",
       "      <td>1</td>\n",
       "      <td>0</td>\n",
       "      <td>F</td>\n",
       "      <td>R</td>\n",
       "      <td>78</td>\n",
       "      <td>16</td>\n",
       "      <td>2.0</td>\n",
       "      <td>29.0</td>\n",
       "      <td>0.0</td>\n",
       "      <td>1333</td>\n",
       "      <td>0.748</td>\n",
       "      <td>1.316</td>\n",
       "      <td>OAS1_0001_MR1</td>\n",
       "      <td>F</td>\n",
       "      <td>R</td>\n",
       "      <td>74</td>\n",
       "      <td>2.0</td>\n",
       "      <td>3.0</td>\n",
       "      <td>29.0</td>\n",
       "      <td>0.0</td>\n",
       "      <td>1344</td>\n",
       "      <td>0.743</td>\n",
       "      <td>1.306</td>\n",
       "      <td>1.0</td>\n",
       "      <td>NonDemented</td>\n",
       "    </tr>\n",
       "    <tr>\n",
       "      <th>3</th>\n",
       "      <td>2015</td>\n",
       "      <td>2015</td>\n",
       "      <td>Guam</td>\n",
       "      <td>Overall Health</td>\n",
       "      <td>Arthritis among older adults</td>\n",
       "      <td>Percentage of older adults ever told they have...</td>\n",
       "      <td>NaN</td>\n",
       "      <td>Percentage</td>\n",
       "      <td>31.5</td>\n",
       "      <td>23.4</td>\n",
       "      <td>41.0</td>\n",
       "      <td>NaN</td>\n",
       "      <td>50-64 years</td>\n",
       "      <td>M</td>\n",
       "      <td>Lower middle Bracket</td>\n",
       "      <td>OAS2_0014</td>\n",
       "      <td>OAS2_0014_MR1</td>\n",
       "      <td>Demented</td>\n",
       "      <td>1</td>\n",
       "      <td>0</td>\n",
       "      <td>M</td>\n",
       "      <td>R</td>\n",
       "      <td>76</td>\n",
       "      <td>16</td>\n",
       "      <td>3.0</td>\n",
       "      <td>21.0</td>\n",
       "      <td>0.5</td>\n",
       "      <td>1602</td>\n",
       "      <td>0.697</td>\n",
       "      <td>1.096</td>\n",
       "      <td>OAS1_0001_MR1</td>\n",
       "      <td>F</td>\n",
       "      <td>R</td>\n",
       "      <td>74</td>\n",
       "      <td>2.0</td>\n",
       "      <td>3.0</td>\n",
       "      <td>29.0</td>\n",
       "      <td>0.0</td>\n",
       "      <td>1344</td>\n",
       "      <td>0.743</td>\n",
       "      <td>1.306</td>\n",
       "      <td>1.0</td>\n",
       "      <td>NonDemented</td>\n",
       "    </tr>\n",
       "    <tr>\n",
       "      <th>4</th>\n",
       "      <td>2015</td>\n",
       "      <td>2015</td>\n",
       "      <td>Guam</td>\n",
       "      <td>Overall Health</td>\n",
       "      <td>Arthritis among older adults</td>\n",
       "      <td>Percentage of older adults ever told they have...</td>\n",
       "      <td>NaN</td>\n",
       "      <td>Percentage</td>\n",
       "      <td>31.5</td>\n",
       "      <td>23.4</td>\n",
       "      <td>41.0</td>\n",
       "      <td>NaN</td>\n",
       "      <td>50-64 years</td>\n",
       "      <td>M</td>\n",
       "      <td>Lower middle Bracket</td>\n",
       "      <td>OAS2_0021</td>\n",
       "      <td>OAS2_0021_MR1</td>\n",
       "      <td>Demented</td>\n",
       "      <td>1</td>\n",
       "      <td>0</td>\n",
       "      <td>M</td>\n",
       "      <td>R</td>\n",
       "      <td>72</td>\n",
       "      <td>20</td>\n",
       "      <td>1.0</td>\n",
       "      <td>26.0</td>\n",
       "      <td>0.5</td>\n",
       "      <td>1911</td>\n",
       "      <td>0.719</td>\n",
       "      <td>0.919</td>\n",
       "      <td>OAS1_0001_MR1</td>\n",
       "      <td>F</td>\n",
       "      <td>R</td>\n",
       "      <td>74</td>\n",
       "      <td>2.0</td>\n",
       "      <td>3.0</td>\n",
       "      <td>29.0</td>\n",
       "      <td>0.0</td>\n",
       "      <td>1344</td>\n",
       "      <td>0.743</td>\n",
       "      <td>1.306</td>\n",
       "      <td>1.0</td>\n",
       "      <td>NonDemented</td>\n",
       "    </tr>\n",
       "  </tbody>\n",
       "</table>\n",
       "</div>"
      ],
      "text/plain": [
       "   YearStart  YearEnd LocationDesc           Class  \\\n",
       "0       2015     2015         Guam  Overall Health   \n",
       "1       2015     2015         Guam  Overall Health   \n",
       "2       2015     2015         Guam  Overall Health   \n",
       "3       2015     2015         Guam  Overall Health   \n",
       "4       2015     2015         Guam  Overall Health   \n",
       "\n",
       "                          Topic  \\\n",
       "0  Arthritis among older adults   \n",
       "1  Arthritis among older adults   \n",
       "2  Arthritis among older adults   \n",
       "3  Arthritis among older adults   \n",
       "4  Arthritis among older adults   \n",
       "\n",
       "                                            Question  Response  \\\n",
       "0  Percentage of older adults ever told they have...       NaN   \n",
       "1  Percentage of older adults ever told they have...       NaN   \n",
       "2  Percentage of older adults ever told they have...       NaN   \n",
       "3  Percentage of older adults ever told they have...       NaN   \n",
       "4  Percentage of older adults ever told they have...       NaN   \n",
       "\n",
       "  Data_Value_Type  Data_Value  Low_Confidence_Limit  High_Confidence_Limit  \\\n",
       "0      Percentage        31.5                  23.4                   41.0   \n",
       "1      Percentage        31.5                  23.4                   41.0   \n",
       "2      Percentage        31.5                  23.4                   41.0   \n",
       "3      Percentage        31.5                  23.4                   41.0   \n",
       "4      Percentage        31.5                  23.4                   41.0   \n",
       "\n",
       "   Sample_Size          Age M/F            Age_Binned Subject ID  \\\n",
       "0          NaN  50-64 years   M  Lower middle Bracket  OAS2_0002   \n",
       "1          NaN  50-64 years   M  Lower middle Bracket  OAS2_0007   \n",
       "2          NaN  50-64 years   M  Lower middle Bracket  OAS2_0012   \n",
       "3          NaN  50-64 years   M  Lower middle Bracket  OAS2_0014   \n",
       "4          NaN  50-64 years   M  Lower middle Bracket  OAS2_0021   \n",
       "\n",
       "          MRI ID   Group_Long  Visit  MR Delay M/F_Long Hand_Long  Age_Long  \\\n",
       "0  OAS2_0002_MR1     Demented      1         0        M         R        75   \n",
       "1  OAS2_0007_MR1     Demented      1         0        M         R        71   \n",
       "2  OAS2_0012_MR1  Nondemented      1         0        F         R        78   \n",
       "3  OAS2_0014_MR1     Demented      1         0        M         R        76   \n",
       "4  OAS2_0021_MR1     Demented      1         0        M         R        72   \n",
       "\n",
       "   EDUC_Long  SES_Long  MMSE_Long  CDR_Long  eTIV_Long  nWBV_Long  ASF_Long  \\\n",
       "0         12       2.0       23.0       0.5       1678      0.736     1.046   \n",
       "1         16       4.0       28.0       0.5       1357      0.748     1.293   \n",
       "2         16       2.0       29.0       0.0       1333      0.748     1.316   \n",
       "3         16       3.0       21.0       0.5       1602      0.697     1.096   \n",
       "4         20       1.0       26.0       0.5       1911      0.719     0.919   \n",
       "\n",
       "              ID M/F_Sec Hand_Sec  Age_Sec  EDUC_Sec  SES_Sec  MMSE_Sec  \\\n",
       "0  OAS1_0001_MR1       F        R       74       2.0      3.0      29.0   \n",
       "1  OAS1_0001_MR1       F        R       74       2.0      3.0      29.0   \n",
       "2  OAS1_0001_MR1       F        R       74       2.0      3.0      29.0   \n",
       "3  OAS1_0001_MR1       F        R       74       2.0      3.0      29.0   \n",
       "4  OAS1_0001_MR1       F        R       74       2.0      3.0      29.0   \n",
       "\n",
       "   CDR_Sec  eTIV_Sec  nWBV_Sec  ASF_Sec  Delay    Group_Sec  \n",
       "0      0.0      1344     0.743    1.306    1.0  NonDemented  \n",
       "1      0.0      1344     0.743    1.306    1.0  NonDemented  \n",
       "2      0.0      1344     0.743    1.306    1.0  NonDemented  \n",
       "3      0.0      1344     0.743    1.306    1.0  NonDemented  \n",
       "4      0.0      1344     0.743    1.306    1.0  NonDemented  "
      ]
     },
     "execution_count": 269,
     "metadata": {},
     "output_type": "execute_result"
    }
   ],
   "source": [
    "df_all=df.merge(df_scans_joined,on=\"Age_Binned\",how=\"inner\",validate=\"m:m\")\n",
    "df_all.head(5)"
   ]
  },
  {
   "cell_type": "markdown",
   "metadata": {
    "slideshow": {
     "slide_type": "slide"
    }
   },
   "source": [
    "## Pivot table to check for values under each bracket"
   ]
  },
  {
   "cell_type": "code",
   "execution_count": 270,
   "metadata": {
    "scrolled": true,
    "slideshow": {
     "slide_type": "subslide"
    }
   },
   "outputs": [
    {
     "data": {
      "text/html": [
       "<div>\n",
       "<style scoped>\n",
       "    .dataframe tbody tr th:only-of-type {\n",
       "        vertical-align: middle;\n",
       "    }\n",
       "\n",
       "    .dataframe tbody tr th {\n",
       "        vertical-align: top;\n",
       "    }\n",
       "\n",
       "    .dataframe thead th {\n",
       "        text-align: right;\n",
       "    }\n",
       "</style>\n",
       "<table border=\"1\" class=\"dataframe\">\n",
       "  <thead>\n",
       "    <tr style=\"text-align: right;\">\n",
       "      <th></th>\n",
       "      <th></th>\n",
       "      <th></th>\n",
       "      <th>ASF_Long</th>\n",
       "      <th>ASF_Sec</th>\n",
       "      <th>Age_Long</th>\n",
       "      <th>Age_Sec</th>\n",
       "      <th>CDR_Long</th>\n",
       "      <th>CDR_Sec</th>\n",
       "      <th>Data_Value</th>\n",
       "      <th>Delay</th>\n",
       "      <th>EDUC_Long</th>\n",
       "      <th>EDUC_Sec</th>\n",
       "      <th>High_Confidence_Limit</th>\n",
       "      <th>Low_Confidence_Limit</th>\n",
       "      <th>MMSE_Long</th>\n",
       "      <th>MMSE_Sec</th>\n",
       "      <th>MR Delay</th>\n",
       "      <th>SES_Long</th>\n",
       "      <th>SES_Sec</th>\n",
       "      <th>Visit</th>\n",
       "      <th>YearEnd</th>\n",
       "      <th>YearStart</th>\n",
       "      <th>eTIV_Long</th>\n",
       "      <th>eTIV_Sec</th>\n",
       "      <th>nWBV_Long</th>\n",
       "      <th>nWBV_Sec</th>\n",
       "    </tr>\n",
       "    <tr>\n",
       "      <th>Group_Long</th>\n",
       "      <th>Group_Sec</th>\n",
       "      <th>Age_Binned</th>\n",
       "      <th></th>\n",
       "      <th></th>\n",
       "      <th></th>\n",
       "      <th></th>\n",
       "      <th></th>\n",
       "      <th></th>\n",
       "      <th></th>\n",
       "      <th></th>\n",
       "      <th></th>\n",
       "      <th></th>\n",
       "      <th></th>\n",
       "      <th></th>\n",
       "      <th></th>\n",
       "      <th></th>\n",
       "      <th></th>\n",
       "      <th></th>\n",
       "      <th></th>\n",
       "      <th></th>\n",
       "      <th></th>\n",
       "      <th></th>\n",
       "      <th></th>\n",
       "      <th></th>\n",
       "      <th></th>\n",
       "      <th></th>\n",
       "    </tr>\n",
       "  </thead>\n",
       "  <tbody>\n",
       "    <tr>\n",
       "      <th rowspan=\"2\" valign=\"top\">Converted</th>\n",
       "      <th rowspan=\"2\" valign=\"top\">NonDemented</th>\n",
       "      <th>Lower middle Bracket</th>\n",
       "      <td>1.162250</td>\n",
       "      <td>1.306</td>\n",
       "      <td>76.250000</td>\n",
       "      <td>74</td>\n",
       "      <td>0.000000</td>\n",
       "      <td>0.0</td>\n",
       "      <td>35.334924</td>\n",
       "      <td>1.0</td>\n",
       "      <td>15.500000</td>\n",
       "      <td>2.0</td>\n",
       "      <td>39.366592</td>\n",
       "      <td>31.518950</td>\n",
       "      <td>28.750000</td>\n",
       "      <td>29.0</td>\n",
       "      <td>0</td>\n",
       "      <td>1.500000</td>\n",
       "      <td>3.0</td>\n",
       "      <td>1</td>\n",
       "      <td>2017.100648</td>\n",
       "      <td>2016.838656</td>\n",
       "      <td>1528.000000</td>\n",
       "      <td>1344</td>\n",
       "      <td>0.736750</td>\n",
       "      <td>0.743</td>\n",
       "    </tr>\n",
       "    <tr>\n",
       "      <th>Upper middle Bracket</th>\n",
       "      <td>1.248000</td>\n",
       "      <td>1.055</td>\n",
       "      <td>84.166667</td>\n",
       "      <td>81</td>\n",
       "      <td>0.000000</td>\n",
       "      <td>0.0</td>\n",
       "      <td>36.407942</td>\n",
       "      <td>1.0</td>\n",
       "      <td>15.333333</td>\n",
       "      <td>5.0</td>\n",
       "      <td>39.973549</td>\n",
       "      <td>33.077053</td>\n",
       "      <td>29.333333</td>\n",
       "      <td>30.0</td>\n",
       "      <td>0</td>\n",
       "      <td>1.666667</td>\n",
       "      <td>2.0</td>\n",
       "      <td>1</td>\n",
       "      <td>2017.100648</td>\n",
       "      <td>2016.838656</td>\n",
       "      <td>1412.333333</td>\n",
       "      <td>1664</td>\n",
       "      <td>0.714167</td>\n",
       "      <td>0.679</td>\n",
       "    </tr>\n",
       "    <tr>\n",
       "      <th rowspan=\"2\" valign=\"top\">Demented</th>\n",
       "      <th rowspan=\"2\" valign=\"top\">NonDemented</th>\n",
       "      <th>Lower middle Bracket</th>\n",
       "      <td>1.205139</td>\n",
       "      <td>1.306</td>\n",
       "      <td>73.972222</td>\n",
       "      <td>74</td>\n",
       "      <td>0.597222</td>\n",
       "      <td>0.0</td>\n",
       "      <td>35.334924</td>\n",
       "      <td>1.0</td>\n",
       "      <td>13.833333</td>\n",
       "      <td>2.0</td>\n",
       "      <td>39.366592</td>\n",
       "      <td>31.518950</td>\n",
       "      <td>25.555556</td>\n",
       "      <td>29.0</td>\n",
       "      <td>0</td>\n",
       "      <td>2.722222</td>\n",
       "      <td>3.0</td>\n",
       "      <td>1</td>\n",
       "      <td>2017.100648</td>\n",
       "      <td>2016.838656</td>\n",
       "      <td>1477.166667</td>\n",
       "      <td>1344</td>\n",
       "      <td>0.726333</td>\n",
       "      <td>0.743</td>\n",
       "    </tr>\n",
       "    <tr>\n",
       "      <th>Upper middle Bracket</th>\n",
       "      <td>1.228882</td>\n",
       "      <td>1.055</td>\n",
       "      <td>83.588235</td>\n",
       "      <td>81</td>\n",
       "      <td>0.588235</td>\n",
       "      <td>0.0</td>\n",
       "      <td>36.407942</td>\n",
       "      <td>1.0</td>\n",
       "      <td>13.000000</td>\n",
       "      <td>5.0</td>\n",
       "      <td>39.973549</td>\n",
       "      <td>33.077053</td>\n",
       "      <td>25.176471</td>\n",
       "      <td>30.0</td>\n",
       "      <td>0</td>\n",
       "      <td>2.764706</td>\n",
       "      <td>2.0</td>\n",
       "      <td>1</td>\n",
       "      <td>2017.100648</td>\n",
       "      <td>2016.838656</td>\n",
       "      <td>1443.705882</td>\n",
       "      <td>1664</td>\n",
       "      <td>0.706294</td>\n",
       "      <td>0.679</td>\n",
       "    </tr>\n",
       "    <tr>\n",
       "      <th rowspan=\"2\" valign=\"top\">Nondemented</th>\n",
       "      <th rowspan=\"2\" valign=\"top\">NonDemented</th>\n",
       "      <th>Lower middle Bracket</th>\n",
       "      <td>1.198226</td>\n",
       "      <td>1.306</td>\n",
       "      <td>74.741935</td>\n",
       "      <td>74</td>\n",
       "      <td>0.000000</td>\n",
       "      <td>0.0</td>\n",
       "      <td>35.334924</td>\n",
       "      <td>1.0</td>\n",
       "      <td>15.645161</td>\n",
       "      <td>2.0</td>\n",
       "      <td>39.366592</td>\n",
       "      <td>31.518950</td>\n",
       "      <td>29.258065</td>\n",
       "      <td>29.0</td>\n",
       "      <td>0</td>\n",
       "      <td>2.258065</td>\n",
       "      <td>3.0</td>\n",
       "      <td>1</td>\n",
       "      <td>2017.100648</td>\n",
       "      <td>2016.838656</td>\n",
       "      <td>1484.354839</td>\n",
       "      <td>1344</td>\n",
       "      <td>0.740097</td>\n",
       "      <td>0.743</td>\n",
       "    </tr>\n",
       "    <tr>\n",
       "      <th>Upper middle Bracket</th>\n",
       "      <td>1.184182</td>\n",
       "      <td>1.055</td>\n",
       "      <td>85.090909</td>\n",
       "      <td>81</td>\n",
       "      <td>0.000000</td>\n",
       "      <td>0.0</td>\n",
       "      <td>36.407942</td>\n",
       "      <td>1.0</td>\n",
       "      <td>14.545455</td>\n",
       "      <td>5.0</td>\n",
       "      <td>39.973549</td>\n",
       "      <td>33.077053</td>\n",
       "      <td>28.954545</td>\n",
       "      <td>30.0</td>\n",
       "      <td>0</td>\n",
       "      <td>2.590909</td>\n",
       "      <td>2.0</td>\n",
       "      <td>1</td>\n",
       "      <td>2017.100648</td>\n",
       "      <td>2016.838656</td>\n",
       "      <td>1512.409091</td>\n",
       "      <td>1664</td>\n",
       "      <td>0.722227</td>\n",
       "      <td>0.679</td>\n",
       "    </tr>\n",
       "  </tbody>\n",
       "</table>\n",
       "</div>"
      ],
      "text/plain": [
       "                                              ASF_Long  ASF_Sec   Age_Long  \\\n",
       "Group_Long  Group_Sec   Age_Binned                                           \n",
       "Converted   NonDemented Lower middle Bracket  1.162250    1.306  76.250000   \n",
       "                        Upper middle Bracket  1.248000    1.055  84.166667   \n",
       "Demented    NonDemented Lower middle Bracket  1.205139    1.306  73.972222   \n",
       "                        Upper middle Bracket  1.228882    1.055  83.588235   \n",
       "Nondemented NonDemented Lower middle Bracket  1.198226    1.306  74.741935   \n",
       "                        Upper middle Bracket  1.184182    1.055  85.090909   \n",
       "\n",
       "                                              Age_Sec  CDR_Long  CDR_Sec  \\\n",
       "Group_Long  Group_Sec   Age_Binned                                         \n",
       "Converted   NonDemented Lower middle Bracket       74  0.000000      0.0   \n",
       "                        Upper middle Bracket       81  0.000000      0.0   \n",
       "Demented    NonDemented Lower middle Bracket       74  0.597222      0.0   \n",
       "                        Upper middle Bracket       81  0.588235      0.0   \n",
       "Nondemented NonDemented Lower middle Bracket       74  0.000000      0.0   \n",
       "                        Upper middle Bracket       81  0.000000      0.0   \n",
       "\n",
       "                                              Data_Value  Delay  EDUC_Long  \\\n",
       "Group_Long  Group_Sec   Age_Binned                                           \n",
       "Converted   NonDemented Lower middle Bracket   35.334924    1.0  15.500000   \n",
       "                        Upper middle Bracket   36.407942    1.0  15.333333   \n",
       "Demented    NonDemented Lower middle Bracket   35.334924    1.0  13.833333   \n",
       "                        Upper middle Bracket   36.407942    1.0  13.000000   \n",
       "Nondemented NonDemented Lower middle Bracket   35.334924    1.0  15.645161   \n",
       "                        Upper middle Bracket   36.407942    1.0  14.545455   \n",
       "\n",
       "                                              EDUC_Sec  High_Confidence_Limit  \\\n",
       "Group_Long  Group_Sec   Age_Binned                                              \n",
       "Converted   NonDemented Lower middle Bracket       2.0              39.366592   \n",
       "                        Upper middle Bracket       5.0              39.973549   \n",
       "Demented    NonDemented Lower middle Bracket       2.0              39.366592   \n",
       "                        Upper middle Bracket       5.0              39.973549   \n",
       "Nondemented NonDemented Lower middle Bracket       2.0              39.366592   \n",
       "                        Upper middle Bracket       5.0              39.973549   \n",
       "\n",
       "                                              Low_Confidence_Limit  MMSE_Long  \\\n",
       "Group_Long  Group_Sec   Age_Binned                                              \n",
       "Converted   NonDemented Lower middle Bracket             31.518950  28.750000   \n",
       "                        Upper middle Bracket             33.077053  29.333333   \n",
       "Demented    NonDemented Lower middle Bracket             31.518950  25.555556   \n",
       "                        Upper middle Bracket             33.077053  25.176471   \n",
       "Nondemented NonDemented Lower middle Bracket             31.518950  29.258065   \n",
       "                        Upper middle Bracket             33.077053  28.954545   \n",
       "\n",
       "                                              MMSE_Sec  MR Delay  SES_Long  \\\n",
       "Group_Long  Group_Sec   Age_Binned                                           \n",
       "Converted   NonDemented Lower middle Bracket      29.0         0  1.500000   \n",
       "                        Upper middle Bracket      30.0         0  1.666667   \n",
       "Demented    NonDemented Lower middle Bracket      29.0         0  2.722222   \n",
       "                        Upper middle Bracket      30.0         0  2.764706   \n",
       "Nondemented NonDemented Lower middle Bracket      29.0         0  2.258065   \n",
       "                        Upper middle Bracket      30.0         0  2.590909   \n",
       "\n",
       "                                              SES_Sec  Visit      YearEnd  \\\n",
       "Group_Long  Group_Sec   Age_Binned                                          \n",
       "Converted   NonDemented Lower middle Bracket      3.0      1  2017.100648   \n",
       "                        Upper middle Bracket      2.0      1  2017.100648   \n",
       "Demented    NonDemented Lower middle Bracket      3.0      1  2017.100648   \n",
       "                        Upper middle Bracket      2.0      1  2017.100648   \n",
       "Nondemented NonDemented Lower middle Bracket      3.0      1  2017.100648   \n",
       "                        Upper middle Bracket      2.0      1  2017.100648   \n",
       "\n",
       "                                                YearStart    eTIV_Long  \\\n",
       "Group_Long  Group_Sec   Age_Binned                                       \n",
       "Converted   NonDemented Lower middle Bracket  2016.838656  1528.000000   \n",
       "                        Upper middle Bracket  2016.838656  1412.333333   \n",
       "Demented    NonDemented Lower middle Bracket  2016.838656  1477.166667   \n",
       "                        Upper middle Bracket  2016.838656  1443.705882   \n",
       "Nondemented NonDemented Lower middle Bracket  2016.838656  1484.354839   \n",
       "                        Upper middle Bracket  2016.838656  1512.409091   \n",
       "\n",
       "                                              eTIV_Sec  nWBV_Long  nWBV_Sec  \n",
       "Group_Long  Group_Sec   Age_Binned                                           \n",
       "Converted   NonDemented Lower middle Bracket      1344   0.736750     0.743  \n",
       "                        Upper middle Bracket      1664   0.714167     0.679  \n",
       "Demented    NonDemented Lower middle Bracket      1344   0.726333     0.743  \n",
       "                        Upper middle Bracket      1664   0.706294     0.679  \n",
       "Nondemented NonDemented Lower middle Bracket      1344   0.740097     0.743  \n",
       "                        Upper middle Bracket      1664   0.722227     0.679  "
      ]
     },
     "execution_count": 270,
     "metadata": {},
     "output_type": "execute_result"
    }
   ],
   "source": [
    "pivot_table1=df_all.pivot_table(index=[\"Group_Long\",\"Group_Sec\",\"Age_Binned\"])\n",
    "pivot_table1"
   ]
  },
  {
   "cell_type": "markdown",
   "metadata": {
    "slideshow": {
     "slide_type": "slide"
    }
   },
   "source": [
    "### Checking Percentage of health issues ('Data_value') using pivot table"
   ]
  },
  {
   "cell_type": "code",
   "execution_count": 271,
   "metadata": {
    "scrolled": true,
    "slideshow": {
     "slide_type": "subslide"
    }
   },
   "outputs": [
    {
     "data": {
      "text/plain": [
       "Group_Long   Group_Sec    Age_Binned          \n",
       "Converted    NonDemented  Lower middle Bracket    35.334924\n",
       "                          Upper middle Bracket    36.407942\n",
       "Demented     NonDemented  Lower middle Bracket    35.334924\n",
       "                          Upper middle Bracket    36.407942\n",
       "Nondemented  NonDemented  Lower middle Bracket    35.334924\n",
       "                          Upper middle Bracket    36.407942\n",
       "Name: Data_Value, dtype: float64"
      ]
     },
     "execution_count": 271,
     "metadata": {},
     "output_type": "execute_result"
    }
   ],
   "source": [
    "pivot_table1['Data_Value'] "
   ]
  },
  {
   "cell_type": "markdown",
   "metadata": {
    "slideshow": {
     "slide_type": "slide"
    }
   },
   "source": [
    "### Plotting Scatterplots with key variables against (Data_Value)"
   ]
  },
  {
   "cell_type": "code",
   "execution_count": 272,
   "metadata": {
    "slideshow": {
     "slide_type": "subslide"
    }
   },
   "outputs": [
    {
     "data": {
      "text/plain": [
       "<matplotlib.collections.PathCollection at 0x7ffcd5955940>"
      ]
     },
     "execution_count": 272,
     "metadata": {},
     "output_type": "execute_result"
    },
    {
     "data": {
      "image/png": "[encoded data removed]",
      "text/plain": [
       "<Figure size 720x720 with 1 Axes>"
      ]
     },
     "metadata": {
      "needs_background": "light"
     },
     "output_type": "display_data"
    }
   ],
   "source": [
    "plt.figure(figsize=(10,10))\n",
    "plt.title(\"Data_Value vs CDR , Total Data\", fontsize=20)\n",
    "plt.xlabel(\"Percentage of mental health issues\",fontsize=16)\n",
    "plt.ylabel(\"CDR\",fontsize=16)\n",
    "plt.scatter(x=df_all[\"Data_Value\"],y=df_all[\"CDR_Long\"])"
   ]
  },
  {
   "cell_type": "code",
   "execution_count": 273,
   "metadata": {
    "slideshow": {
     "slide_type": "subslide"
    }
   },
   "outputs": [
    {
     "data": {
      "text/plain": [
       "<matplotlib.collections.PathCollection at 0x7ffb976c2880>"
      ]
     },
     "execution_count": 273,
     "metadata": {},
     "output_type": "execute_result"
    },
    {
     "data": {
      "image/png": "[encoded data removed]",
      "text/plain": [
       "<Figure size 720x720 with 1 Axes>"
      ]
     },
     "metadata": {
      "needs_background": "light"
     },
     "output_type": "display_data"
    }
   ],
   "source": [
    "plt.figure(figsize=(10,10))\n",
    "plt.title(\"Data_Value vs EDUC , Total Data\", fontsize=20)\n",
    "plt.xlabel(\"Percentage of mental health issues\",fontsize=16)\n",
    "plt.ylabel(\"EDUC_Long\",fontsize=16)\n",
    "plt.scatter(x=df_all[\"Data_Value\"],y=df_all[\"EDUC_Long\"])"
   ]
  },
  {
   "cell_type": "code",
   "execution_count": 274,
   "metadata": {
    "slideshow": {
     "slide_type": "subslide"
    }
   },
   "outputs": [
    {
     "data": {
      "text/plain": [
       "<matplotlib.collections.PathCollection at 0x7ffb9a7f25e0>"
      ]
     },
     "execution_count": 274,
     "metadata": {},
     "output_type": "execute_result"
    },
    {
     "data": {
      "image/png": "[encoded data removed]",
      "text/plain": [
       "<Figure size 720x720 with 1 Axes>"
      ]
     },
     "metadata": {
      "needs_background": "light"
     },
     "output_type": "display_data"
    }
   ],
   "source": [
    "plt.figure(figsize=(10,10))\n",
    "plt.title(\"Data_Value vs MMSE , Total Data\", fontsize=20)\n",
    "plt.xlabel(\"Percentage of mental health issues\",fontsize=16)\n",
    "plt.ylabel(\"MMSE_Long\",fontsize=16)\n",
    "plt.scatter(x=df_all[\"Data_Value\"],y=df_all[\"MMSE_Long\"])"
   ]
  },
  {
   "cell_type": "markdown",
   "metadata": {
    "slideshow": {
     "slide_type": "slide"
    }
   },
   "source": [
    "### Thank You"
   ]
  },
  {
   "cell_type": "code",
   "execution_count": null,
   "metadata": {},
   "outputs": [],
   "source": []
  }
 ],
 "metadata": {
  "celltoolbar": "Slideshow",
  "kernelspec": {
   "display_name": "Python 3",
   "language": "python",
   "name": "python3"
  },
  "language_info": {
   "codemirror_mode": {
    "name": "ipython",
    "version": 3
   },
   "file_extension": ".py",
   "mimetype": "text/x-python",
   "name": "python",
   "nbconvert_exporter": "python",
   "pygments_lexer": "ipython3",
   "version": "3.8.3"
  }
 },
 "nbformat": 4,
 "nbformat_minor": 4
}
